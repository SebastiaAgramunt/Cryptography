{
 "cells": [
  {
   "cell_type": "markdown",
   "metadata": {},
   "source": [
    "# Number Theory"
   ]
  },
  {
   "cell_type": "markdown",
   "metadata": {},
   "source": [
    "In this notes I just review some important notions of number theory necessary for your first steps in cryptography"
   ]
  },
  {
   "cell_type": "markdown",
   "metadata": {},
   "source": [
    "## Divisibility and greatest common divisor\n",
    "\n",
    "Let $a$ and $b$ be integers with $b!=0$. We say that $b$ **divides** $a$, if there is an integer $c$ such that $a=bc$. \n",
    "\n",
    "A **common divisor** of two integers $a$ and $b$ is a positive integer $d$ that divides both of them.\n",
    "\n",
    "Let **a** and **b** be positive integers. Then we say that *a divided by b has quotient q and remainder r* if $a=bq+r$ with $0\\leq r < b$.\n",
    "\n",
    "### Finding the greatest common divisor using the Euclidean altorithm\n",
    "\n",
    "A nice explanation can be found [here](https://en.wikipedia.org/wiki/Euclidean_algorithm). Also in the book [An introduction to mathematical cryptography](https://www.springer.com/gp/book/9781441926746) in page 13.\n",
    "\n",
    "Let $a$ and $b$ be positive integers with $a>b$. The following is the euclidean algorithm to calculate the greatest common divisor of $a$ and $b$ (i.e. the largest number that divides both).\n",
    "\n",
    "1. Let $r_0=a$ and $r_1=b$.\n",
    "2. Set $i=1$.\n",
    "3. Divide $r_{i-1}$ by $r_i$ to get the quotient $q_i$ and the remainder $r_{i+1}$.\n",
    "4. If $r_{i+1}=0$ then $r_i$ is the greatest common divisor.\n",
    "5. Otherwise set $i=i+1$ and go to step 3.\n",
    "\n",
    "Here's the code for this"
   ]
  },
  {
   "cell_type": "code",
   "execution_count": 1,
   "metadata": {},
   "outputs": [],
   "source": [
    "def gcd(a,b):\n",
    "    #a must be greater than a, otherwise flip a and b\n",
    "    a, b = (a,b) if a>b else (b,a)\n",
    "    r_prev, r = a, b\n",
    "    \n",
    "    while r!=0:\n",
    "        r_post = r_prev%r\n",
    "        if r_post == 0:\n",
    "            return r\n",
    "        else:\n",
    "            r_prev, r = r, r_post\n",
    "    "
   ]
  },
  {
   "cell_type": "code",
   "execution_count": 2,
   "metadata": {},
   "outputs": [
    {
     "name": "stdout",
     "output_type": "stream",
     "text": [
      "gcd of 2024 and 748 is 44\n",
      "remainder of a/gcd(a,b) = 0, remainder of b/gcd(a,b) = 0\n"
     ]
    }
   ],
   "source": [
    "a = 2024\n",
    "b = 748\n",
    "c = gcd(a,b)\n",
    "print(\"gcd of {} and {} is {}\".format(a,b,c))\n",
    "print(\"remainder of a/gcd(a,b) = {}, remainder of b/gcd(a,b) = {}\".format(a%c, b%c))"
   ]
  },
  {
   "cell_type": "code",
   "execution_count": 3,
   "metadata": {},
   "outputs": [
    {
     "name": "stdout",
     "output_type": "stream",
     "text": [
      "gcd of 16261 and 85652 is 161\n",
      "remainder of a/gcd(a,b) = 0, remainder of b/gcd(a,b) = 0\n"
     ]
    }
   ],
   "source": [
    "a = 16261\n",
    "b = 85652\n",
    "c = gcd(a,b)\n",
    "print(\"gcd of {} and {} is {}\".format(a,b,c))\n",
    "print(\"remainder of a/gcd(a,b) = {}, remainder of b/gcd(a,b) = {}\".format(a%c, b%c))"
   ]
  },
  {
   "cell_type": "markdown",
   "metadata": {},
   "source": [
    "There exists many ways of calculating the greatest common divisor of two natural numbers. Let's deep dive on the **extended euclidean algorithm** (actually a theorem)\n",
    "\n",
    "Let $a$ and $b$ be positive integers, then the equation\n",
    "\n",
    "$$au+bv=gcd(a,b)$$\n",
    "\n",
    "has a solution in $u$ and $v$.\n",
    "\n",
    "A good [implementation](https://en.wikipedia.org/wiki/Extended_Euclidean_algorithm) to find u, v and gcd(a,b) is:"
   ]
  },
  {
   "cell_type": "code",
   "execution_count": 4,
   "metadata": {},
   "outputs": [],
   "source": [
    "def xgcd(a, b):\n",
    "    # Solving equation au+bv=gcd(a,b)\n",
    "    # result is: (g,u,v) where g is greatest common divisor and u,v the solution of the eq above\n",
    "    u0, u1, v0, v1 = 0, 1, 1, 0\n",
    "    while a != 0:\n",
    "        q, b, a = b // a, a, b % a\n",
    "        v0, v1 = v1, v0 - q * v1\n",
    "        u0, u1 = u1, u0 - q * u1\n",
    "    return b, u0, v0"
   ]
  },
  {
   "cell_type": "code",
   "execution_count": 5,
   "metadata": {},
   "outputs": [
    {
     "name": "stdout",
     "output_type": "stream",
     "text": [
      "the solution to the equation au+bv=gcd(a,b) where (a,b)=(16261,85652)\n",
      "is g, u, v = (161, -79, 15) where g is the gcd\n",
      "\n",
      "therefore the equation holds:\n",
      "16261u+85652v=161 for the above mentioned values of u and v\n",
      "\n",
      "Let's check the equation:\n",
      "Left hand side a*u+b*v=161\n",
      "Right hand side gcd(a,b)=161\n",
      "(161, -79, 15)\n"
     ]
    }
   ],
   "source": [
    "a = 16261\n",
    "b = 85652\n",
    "g, u, v = xgcd(a,b)\n",
    "\n",
    "print(\"the solution to the equation au+bv=gcd(a,b) where (a,b)=({},{})\".format(a,b))\n",
    "print(\"is g, u, v = ({}, {}, {}) where g is the gcd\\n\".format(g,u,v))\n",
    "print(\"therefore the equation holds:\")\n",
    "print(\"{}u+{}v={} for the above mentioned values of u and v\\n\".format(a,b,g))\n",
    "\n",
    "print(\"Let's check the equation:\")\n",
    "print(\"Left hand side a*u+b*v={}\".format(a*u+b*v))\n",
    "print(\"Right hand side gcd(a,b)={}\".format(g))\n",
    "\n",
    "\n",
    "assert int(a*u+b*v)==g, \"Warning, something is wrong!. g, u, v does not match the equation!\"\n",
    "\n",
    "print(xgcd(a,b))"
   ]
  },
  {
   "cell_type": "code",
   "execution_count": 6,
   "metadata": {},
   "outputs": [
    {
     "name": "stdout",
     "output_type": "stream",
     "text": [
      "the solution to the equation au+bv=gcd(a,b) where (a,b)=(139024789,93278890)\n",
      "is g, u, v = (1, 6944509, -10350240) where g is the gcd\n",
      "\n",
      "therefore the equation holds:\n",
      "139024789u+93278890v=1 for the above mentioned values of u and v\n",
      "\n",
      "Let's check the equation:\n",
      "Left hand side a*u+b*v=1\n",
      "Right hand side gcd(a,b)=1\n"
     ]
    }
   ],
   "source": [
    "a = 139024789\n",
    "b = 93278890\n",
    "g, u, v = xgcd(a,b)\n",
    "\n",
    "print(\"the solution to the equation au+bv=gcd(a,b) where (a,b)=({},{})\".format(a,b))\n",
    "print(\"is g, u, v = ({}, {}, {}) where g is the gcd\\n\".format(g,u,v))\n",
    "print(\"therefore the equation holds:\")\n",
    "print(\"{}u+{}v={} for the above mentioned values of u and v\\n\".format(a,b,g))\n",
    "\n",
    "print(\"Let's check the equation:\")\n",
    "print(\"Left hand side a*u+b*v={}\".format(int(a*u+b*v)))\n",
    "print(\"Right hand side gcd(a,b)={}\".format(g))\n",
    "\n",
    "\n",
    "assert int(a*u+b*v)==g, \"Warning, something is wrong!. g, u, v does not match the equation!\""
   ]
  },
  {
   "cell_type": "markdown",
   "metadata": {},
   "source": [
    "In this last case the greatest common divisor is 1, in this special case $a$ and $b$ are said to be comprimes. I.e. two naturals $a$ and $b$ are coprimes iff $au+bv=gcd(a,b)=1$. For any two natural numbers we can find two coprimes by simply dividing by the gcd(a,b) on both sides of the equation:\n",
    "\n",
    "$$\\frac{a}{gcd(a,b)}u+\\frac{b}{gcd(a,b)}v=1$$\n",
    "\n",
    "Then $a/gcd(a,b)$ and $b/gcd(a,b)$ are coprimes. Let's test this with a simple example"
   ]
  },
  {
   "cell_type": "code",
   "execution_count": 7,
   "metadata": {},
   "outputs": [
    {
     "name": "stdout",
     "output_type": "stream",
     "text": [
      "the solution to the equation au+bv=gcd(a,b) where (a,b)=(16261,85652)\n",
      "is g, u, v = (161, -79, 15) where g is the gcd\n",
      "\n",
      "The coprimes are 101 and 532\n",
      "the solution to the equation au+bv=gcd(a,b) where (a,b)=(101,532)\n",
      "is g, u, v = (1, -79, 15) where g is the gcd\n",
      "\n"
     ]
    }
   ],
   "source": [
    "a = 16261\n",
    "b = 85652\n",
    "g, u, v = xgcd(a,b)\n",
    "\n",
    "print(\"the solution to the equation au+bv=gcd(a,b) where (a,b)=({},{})\".format(a,b))\n",
    "print(\"is g, u, v = ({}, {}, {}) where g is the gcd\\n\".format(g,u,v))\n",
    "\n",
    "a_coprime = int(a/g)\n",
    "b_coprime = int(b/g)\n",
    "\n",
    "print(\"The coprimes are {} and {}\".format(a_coprime,b_coprime))\n",
    "\n",
    "g, u, v = xgcd(a_coprime, b_coprime)\n",
    "print(\"the solution to the equation au+bv=gcd(a,b) where (a,b)=({},{})\".format(a_coprime,b_coprime))\n",
    "print(\"is g, u, v = ({}, {}, {}) where g is the gcd\\n\".format(g,u,v))"
   ]
  },
  {
   "cell_type": "markdown",
   "metadata": {},
   "source": [
    "There you go! We found two coprimes from two numbers that are not coprimes originally."
   ]
  },
  {
   "cell_type": "markdown",
   "metadata": {},
   "source": [
    "## Prime numbers\n",
    "\n",
    "Altough in many books this section comes later I think is worth having a look. **A natural number $p$ is said to be prime iff it is only divisible by himself and 1**. Prime numbers actually construct all the other numbers by multiplication, this is, if we are given the whole (infinitely) set of prime numbers we can construct all other natural numbers by multiplying different prime numbers. This is the fundamental theorem of arithmetics:\n",
    "\n",
    "Let $a\\geq 2$ be an integer: Then $a$ can be factored as a product fo prime numbers:\n",
    "\n",
    "$$a = p_1^{e_1} \\cdot p_2^{e_2} \\cdots \\cdot p_r^{e_r}$$\n",
    "\n",
    "where each $p_i$ is a prime number and $e_i$ a natural number. Another property is that this factorisation is unique so there is no other set of primes that can reconstruct $a$ (check the proof on Hoffstein, Pipher, Silverman book)"
   ]
  },
  {
   "cell_type": "code",
   "execution_count": 8,
   "metadata": {},
   "outputs": [],
   "source": [
    "# TODO: implement algorithm of factorization"
   ]
  },
  {
   "cell_type": "markdown",
   "metadata": {},
   "source": [
    "### Calculating Prime numbers: Sieve of Eratosthenes\n",
    "\n",
    "The [Sieve of Eratosthenes](https://en.wikipedia.org/wiki/Sieve_of_Eratosthenes) is a way to calculate prime numbers giving an upper limit. It is very easy to understand the algorithm. We start by 2 (obviously prime) and mark all multiples of 2 in the list as not primes, then we take 3 (also prime) and we mark all multiples of 3 as not primes. When we go to 4 we see it is marked as not prime (it is multiple of 2) so there is no necessity to check twice. The algorithm finishes when it has looped over all numbers in the list. Let's code it"
   ]
  },
  {
   "cell_type": "code",
   "execution_count": 9,
   "metadata": {},
   "outputs": [
    {
     "name": "stdout",
     "output_type": "stream",
     "text": [
      "All prime numbers bellow 100 are:\n",
      "[2, 3, 5, 7, 11, 13, 17, 19, 23, 29, 31, 37, 41, 43, 47, 53, 59, 61, 67, 71, 73, 79, 83, 89, 97]\n"
     ]
    }
   ],
   "source": [
    "def primes_sieve_eratosthenes(limit):\n",
    "    a = [True] * limit                          # Initialize the primality list\n",
    "    a[0] = a[1] = False\n",
    "    for i, isprime in enumerate(a):\n",
    "        if isprime:\n",
    "            yield i\n",
    "            for n in range(i*i, limit, i):     # Mark factors non-prime\n",
    "                a[n] = False\n",
    "\n",
    "\n",
    "n = 100\n",
    "primes = list(primes_sieve_eratosthenes(n))\n",
    "\n",
    "print(\"All prime numbers bellow {} are:\\n{}\".format(n,primes))"
   ]
  },
  {
   "cell_type": "markdown",
   "metadata": {},
   "source": [
    "We'll get back to prime numbers in a while!."
   ]
  },
  {
   "cell_type": "markdown",
   "metadata": {},
   "source": [
    "## Modular Arithmetic\n",
    "\n",
    "Modular arithmetic is a system of arithmetic for integers, where numbers \"wrap around\" when reaching a certain value—the modulus (plural moduli). First we need to fix a number $m$ on which we will write the modular operation. The numbers will vary from 0 to $m-1$. I'll show an example"
   ]
  },
  {
   "cell_type": "code",
   "execution_count": 10,
   "metadata": {},
   "outputs": [
    {
     "name": "stdout",
     "output_type": "stream",
     "text": [
      "i=0, i(mod m)=0\n",
      "i=1, i(mod m)=1\n",
      "i=2, i(mod m)=2\n",
      "i=3, i(mod m)=3\n",
      "i=4, i(mod m)=4\n",
      "i=5, i(mod m)=5\n",
      "i=6, i(mod m)=6\n",
      "i=7, i(mod m)=0\n",
      "i=8, i(mod m)=1\n",
      "i=9, i(mod m)=2\n",
      "i=10, i(mod m)=3\n",
      "i=11, i(mod m)=4\n",
      "i=12, i(mod m)=5\n",
      "i=13, i(mod m)=6\n",
      "i=14, i(mod m)=0\n",
      "i=15, i(mod m)=1\n",
      "i=16, i(mod m)=2\n",
      "i=17, i(mod m)=3\n",
      "i=18, i(mod m)=4\n",
      "i=19, i(mod m)=5\n",
      "i=20, i(mod m)=6\n"
     ]
    }
   ],
   "source": [
    "m = 7\n",
    "for i in range(3*m):\n",
    "    print(\"i={}, i(mod m)={}\".format(i,i%m))"
   ]
  },
  {
   "cell_type": "markdown",
   "metadata": {},
   "source": [
    "See that we are looping all over in between 0 and $m-1$ and the operation modulo is nothing less than the remainder of the division by $m$. We say that two integers $a$ and $b$ are **congruent modulo** if their difference is integer modulo $m$. This is, $a\\equiv b$(mod m). In our example 10 and 3 are congruent modulo because 10-3 = 7 and 7 is multiple of 7. \n",
    "\n",
    "### Sum in modular arithmetic\n",
    "\n",
    "A property of the modulo operation:\n",
    "If $a_1 \\equiv a_2$(mod m) and $b_1 \\equiv b_2$(mod m), then $a_1 \\pm b_1 \\equiv a_2 + b_2$ (mod m)\n"
   ]
  },
  {
   "cell_type": "code",
   "execution_count": 11,
   "metadata": {},
   "outputs": [
    {
     "name": "stdout",
     "output_type": "stream",
     "text": [
      "a1=3, a2=10, b1=0, b2=14\n",
      "a1 + b1 = 3, a2 + b2 (mod m)= 3\n"
     ]
    }
   ],
   "source": [
    "m = 7\n",
    "a2 = 10\n",
    "b2 = 14\n",
    "\n",
    "a1 = a2%m\n",
    "b1 = b2%m\n",
    "\n",
    "print(\"a1={}, a2={}, b1={}, b2={}\".format(a1,a2,b1,b2))\n",
    "print(\"a1 + b1 = {}, a2 + b2 (mod m)= {}\".format(a1+b1, (a2+b2)%m))"
   ]
  },
  {
   "cell_type": "markdown",
   "metadata": {},
   "source": [
    "The set of numbers $0, 1 \\cdots m-1$ along with the sum modulo operation forms an algebraic structure called abelian group. Here's the definition.\n",
    "\n",
    "A group is a set, $G$, together with an operation $\\times$ (it can be multiplication in some cases but not necessarily, $\\times$ is a symbol here) that combines any two elements $a$ and $b$ to form another element, denoted $ a \\times b$ or ab. To qualify as a group, the set and operation, ($G$, $\\times$), must satisfy four requirements:\n",
    "\n",
    "* **Closure**: for any $a$ and $b$ in the set, the operation $a \\times b$ must also be in the set.\n",
    "* **Associativity** for any $a$, $b$ and $c$ in the set, $(a\\times b)\\times c = a \\times (b \\times c)$\n",
    "* **Existence of identity**: There exist an element $e$ in the set such that for any $a$ in the set $a \\times e = a$\n",
    "* **Inverse Element**: For any element in the group $a$ there must be another element $b$ such that $a \\times b = e$\n",
    "\n",
    "If all these conditions are met, we say that ($G$, $\\times$) is a group. Also, if the condition $a \\times b = b \\times a$ is met (commutativity) then we call the group an abelian group.\n",
    "\n",
    "In our case, we name the set as\n",
    "\n",
    "$$Z/Z_m = {0, 1, 2,... m-1}$$\n",
    "\n",
    "and the operation\n",
    "\n",
    "$$a \\times b = a \\cdot b (mod m)$$"
   ]
  },
  {
   "cell_type": "markdown",
   "metadata": {},
   "source": [
    "### Multiplication in modular arithmetic\n",
    "\n",
    "Similar happens with multiplication $a_1b_1\\equiv a_2b_2$(mod m)"
   ]
  },
  {
   "cell_type": "code",
   "execution_count": 12,
   "metadata": {},
   "outputs": [
    {
     "name": "stdout",
     "output_type": "stream",
     "text": [
      "a1=3, a2=10, b1=0, b2=14\n",
      "a1*b1 = 0, a2*b2 (mod m)= 0\n"
     ]
    }
   ],
   "source": [
    "print(\"a1={}, a2={}, b1={}, b2={}\".format(a1,a2,b1,b2))\n",
    "print(\"a1*b1 = {}, a2*b2 (mod m)= {}\".format(a1*b1, (a2*b2)%m))"
   ]
  },
  {
   "cell_type": "markdown",
   "metadata": {},
   "source": [
    "The **inverse** can also be defined in the modululo operation. Let $a$ be an integer then, there exists $b$ such that $a\\cdot b \\equiv 1$ (mod m) if and only if $gcd(a,m)=1$.\n",
    "\n",
    "To prove this, let's assume gcd(a,m)=1, then by the extended euclidean theorem we know that \n",
    "\n",
    "$$au+mv=1$$\n",
    "\n",
    "This means that \n",
    "\n",
    "$$au-1=-mv$$\n",
    "\n",
    "so, $au-1$ is multiple of m and therefore if we apply (mod m) operation to both sides we get $au\\equiv 1$ (mod m). Therefore we can take $b$ (the inverse) as $u$. Let's code this:"
   ]
  },
  {
   "cell_type": "code",
   "execution_count": 13,
   "metadata": {},
   "outputs": [
    {
     "name": "stdout",
     "output_type": "stream",
     "text": [
      "inverse of 10 in modulo 7 is -2\n",
      "a*inv_a = 1\n"
     ]
    }
   ],
   "source": [
    "def InverseMod(a, m):\n",
    "    g, u, _ = xgcd(a,m)\n",
    "    if g!=1:\n",
    "        print(\"{} has no inverse on modulo {}\".format(a,m))\n",
    "        return None\n",
    "    return u\n",
    "\n",
    "a = 10\n",
    "m = 7\n",
    "inv_a = InverseMod(a,m)\n",
    "\n",
    "print(\"inverse of {} in modulo {} is {}\\na*inv_a = {}\".format(a,m,inv_a,a*inv_a%m))"
   ]
  },
  {
   "cell_type": "markdown",
   "metadata": {},
   "source": [
    "Note that the existence of the inverse is guaranteed if and only if gcd(a,m)=1. For instance 2 mod(8) has no inverse."
   ]
  },
  {
   "cell_type": "code",
   "execution_count": 14,
   "metadata": {},
   "outputs": [
    {
     "name": "stdout",
     "output_type": "stream",
     "text": [
      "2 has no inverse on modulo 8\n",
      "2 8 None\n"
     ]
    }
   ],
   "source": [
    "a = 2\n",
    "m = 8\n",
    "inv_a = InverseMod(a,m)\n",
    "print(a,m,inv_a)"
   ]
  },
  {
   "cell_type": "markdown",
   "metadata": {},
   "source": [
    "The fact that the inverse is not defined for all elements of $Z/mZ$ prevents us to define the triplet ($Z/mZ$,+,$\\times$) as an algebraic [field](https://en.wikipedia.org/wiki/Field_(mathematics)) but a [ring](https://en.wikipedia.org/wiki/Ring_(mathematics)). \n",
    "\n",
    "A ring is a triplet ($G$,+,$\\times$), i.e. a set of elements with two operations with the following properties\n",
    "\n",
    "* ($G$,+) is an abelian group\n",
    "* **Associativity on $\\times$** for any $a$, $b$ and $c$ in the set, $(a\\times b)\\times c = a \\times (b \\times c)$\n",
    "* **Existence of identity on $\\times$**: There exist an element $e$ in the set such that for any $a$ in the set $a \\times e = a$\n",
    "* **$\\times$ is distributive with respect to +**: $$a \\times (b + c) = a \\times b + a\\times c$$ and $$(b+c)\\times a = b\\times a + c\\times a$$\n",
    "\n",
    "But what is a Field?\n",
    "\n",
    "Basically a field is a ring such that the second operation also satisfies all the group properties (after throwing out the additive identity); i.e. it has multiplicative inverses, multiplicative identity, and is commutative\n",
    "\n",
    "Let's try to define an abelian group with the elements of $Z/mZ$ and the modular multiplication, to do so, we have to get rid of the non invertible elements. We do so with the help of the gcd(a,m). We define the set\n",
    "\n",
    "$$(Z/mZ)^* = a \\in Z/mZ | gcd(a,m)=1$$\n",
    "\n",
    "Let me write a function\n"
   ]
  },
  {
   "cell_type": "code",
   "execution_count": 15,
   "metadata": {},
   "outputs": [
    {
     "name": "stdout",
     "output_type": "stream",
     "text": [
      "The invertible numbers (product wise) of Z/mZ m=24 are\n",
      "[1, 5, 7, 11, 13, 17, 19, 23]\n"
     ]
    }
   ],
   "source": [
    "def InvertibleNumbers(m):\n",
    "    inv = []\n",
    "    for i in range(m):\n",
    "        g, _, _ = xgcd(i,m)\n",
    "        if g==1:\n",
    "            inv.append(i)\n",
    "    return inv\n",
    "\n",
    "m = 24\n",
    "inv = InvertibleNumbers(m)\n",
    "print(\"The invertible numbers (product wise) of Z/mZ m={} are\\n{}\".format(m,inv))"
   ]
  },
  {
   "cell_type": "markdown",
   "metadata": {},
   "source": [
    "Now let's do the multiplication table and find the inverses of all elements"
   ]
  },
  {
   "cell_type": "code",
   "execution_count": 16,
   "metadata": {},
   "outputs": [
    {
     "name": "stdout",
     "output_type": "stream",
     "text": [
      "1 times 1 is 1\n",
      "1 times 5 is 5\n",
      "1 times 7 is 7\n",
      "1 times 11 is 11\n",
      "1 times 13 is 13\n",
      "1 times 17 is 17\n",
      "1 times 19 is 19\n",
      "1 times 23 is 23\n",
      "5 times 5 is 1\n",
      "5 times 7 is 11\n",
      "5 times 11 is 7\n",
      "5 times 13 is 17\n",
      "5 times 17 is 13\n",
      "5 times 19 is 23\n",
      "5 times 23 is 19\n",
      "7 times 7 is 1\n",
      "7 times 11 is 5\n",
      "7 times 13 is 19\n",
      "7 times 17 is 23\n",
      "7 times 19 is 13\n",
      "7 times 23 is 17\n",
      "11 times 11 is 1\n",
      "11 times 13 is 23\n",
      "11 times 17 is 19\n",
      "11 times 19 is 17\n",
      "11 times 23 is 13\n",
      "13 times 13 is 1\n",
      "13 times 17 is 5\n",
      "13 times 19 is 7\n",
      "13 times 23 is 11\n",
      "17 times 17 is 1\n",
      "17 times 19 is 11\n",
      "17 times 23 is 7\n",
      "19 times 19 is 1\n",
      "19 times 23 is 5\n",
      "23 times 23 is 1\n"
     ]
    }
   ],
   "source": [
    "for i,elem1 in enumerate(inv):\n",
    "    for j,elem2 in enumerate(inv[i:]):\n",
    "        print(\"{} times {} is {}\".format(elem1,elem2, (elem1*elem2)%m))"
   ]
  },
  {
   "cell_type": "code",
   "execution_count": 17,
   "metadata": {},
   "outputs": [
    {
     "name": "stdout",
     "output_type": "stream",
     "text": [
      "Inverse of 1 is 1, check == 1\n",
      "Inverse of 5 is 5, check == 1\n",
      "Inverse of 7 is 7, check == 1\n",
      "Inverse of 11 is 11, check == 1\n",
      "Inverse of 13 is -11, check == 1\n",
      "Inverse of 17 is -7, check == 1\n",
      "Inverse of 19 is -5, check == 1\n",
      "Inverse of 23 is -1, check == 1\n"
     ]
    }
   ],
   "source": [
    "for elem in inv:\n",
    "    i = InverseMod(elem,m)\n",
    "    print(\"Inverse of {} is {}, check == {}\".format(elem,i, elem*i%m))"
   ]
  },
  {
   "cell_type": "markdown",
   "metadata": {},
   "source": [
    "Now recall that if $m$ is a prime number $p$, for all elements $a$ in $Z/pZ=0,\\cdots p-1$ the greatest common divisor $gcd(a, p) = 1$ and so every element has an inverse. Now we can define an algebraic field on this set!"
   ]
  },
  {
   "cell_type": "code",
   "execution_count": 18,
   "metadata": {},
   "outputs": [
    {
     "name": "stdout",
     "output_type": "stream",
     "text": [
      "The invertible numbers (product wise) of Z/mZ m=11 are\n",
      "[1, 2, 3, 4, 5, 6, 7, 8, 9, 10]\n",
      "1 times 1 is 1\n",
      "1 times 2 is 2\n",
      "1 times 3 is 3\n",
      "1 times 4 is 4\n",
      "1 times 5 is 5\n",
      "1 times 6 is 6\n",
      "1 times 7 is 7\n",
      "1 times 8 is 8\n",
      "1 times 9 is 9\n",
      "1 times 10 is 10\n",
      "2 times 2 is 4\n",
      "2 times 3 is 6\n",
      "2 times 4 is 8\n",
      "2 times 5 is 10\n",
      "2 times 6 is 1\n",
      "2 times 7 is 3\n",
      "2 times 8 is 5\n",
      "2 times 9 is 7\n",
      "2 times 10 is 9\n",
      "3 times 3 is 9\n",
      "3 times 4 is 1\n",
      "3 times 5 is 4\n",
      "3 times 6 is 7\n",
      "3 times 7 is 10\n",
      "3 times 8 is 2\n",
      "3 times 9 is 5\n",
      "3 times 10 is 8\n",
      "4 times 4 is 5\n",
      "4 times 5 is 9\n",
      "4 times 6 is 2\n",
      "4 times 7 is 6\n",
      "4 times 8 is 10\n",
      "4 times 9 is 3\n",
      "4 times 10 is 7\n",
      "5 times 5 is 3\n",
      "5 times 6 is 8\n",
      "5 times 7 is 2\n",
      "5 times 8 is 7\n",
      "5 times 9 is 1\n",
      "5 times 10 is 6\n",
      "6 times 6 is 3\n",
      "6 times 7 is 9\n",
      "6 times 8 is 4\n",
      "6 times 9 is 10\n",
      "6 times 10 is 5\n",
      "7 times 7 is 5\n",
      "7 times 8 is 1\n",
      "7 times 9 is 8\n",
      "7 times 10 is 4\n",
      "8 times 8 is 9\n",
      "8 times 9 is 6\n",
      "8 times 10 is 3\n",
      "9 times 9 is 4\n",
      "9 times 10 is 2\n",
      "10 times 10 is 1\n"
     ]
    }
   ],
   "source": [
    "m = 11\n",
    "inv = InvertibleNumbers(m)\n",
    "print(\"The invertible numbers (product wise) of Z/mZ m={} are\\n{}\".format(m,inv))\n",
    "\n",
    "for i,elem1 in enumerate(inv):\n",
    "    for j,elem2 in enumerate(inv[i:]):\n",
    "        print(\"{} times {} is {}\".format(elem1,elem2, (elem1*elem2)%m))"
   ]
  },
  {
   "cell_type": "markdown",
   "metadata": {},
   "source": [
    "Let's now study the fast powering algorithm that can be found in the book [An Introduction to Mathematical Cryptography](https://www.springer.com/gp/book/9781493917105). "
   ]
  },
  {
   "cell_type": "code",
   "execution_count": 19,
   "metadata": {},
   "outputs": [],
   "source": [
    "def fastPowering(a,k,p):\n",
    "    \"\"\"\n",
    "    Fast powering algorithm\n",
    "    a in $Z_p$ and integers 0 <= k <= p\n",
    "    p is a large prime number\n",
    "    \n",
    "    returns:\n",
    "    a^k (mod p)\n",
    "    \n",
    "    Note: exactly the same as pow(a,k,p) implemented in python\n",
    "    \"\"\"\n",
    "    b = 1\n",
    "    if k == 0:\n",
    "        return b\n",
    "    A = a\n",
    "    # If the least significant bit is 1, $a^1 = a$\n",
    "    if 1 & k:\n",
    "        b = a\n",
    "    k = k >> 1\n",
    "    while k:\n",
    "        A = (A**2) % p\n",
    "        if 1 & k:\n",
    "            b = (b * A) % p\n",
    "        k = k >> 1\n",
    "    return b"
   ]
  },
  {
   "cell_type": "markdown",
   "metadata": {},
   "source": [
    "So let's calculate powers of 3 modulo 7"
   ]
  },
  {
   "cell_type": "code",
   "execution_count": 20,
   "metadata": {},
   "outputs": [
    {
     "name": "stdout",
     "output_type": "stream",
     "text": [
      "3^0 (mod 7) = 1\n",
      "3^1 (mod 7) = 3\n",
      "3^2 (mod 7) = 2\n",
      "3^3 (mod 7) = 6\n",
      "3^4 (mod 7) = 4\n",
      "3^5 (mod 7) = 5\n",
      "3^6 (mod 7) = 1\n",
      "3^7 (mod 7) = 3\n",
      "3^8 (mod 7) = 2\n",
      "3^9 (mod 7) = 6\n",
      "3^10 (mod 7) = 4\n",
      "3^11 (mod 7) = 5\n",
      "3^12 (mod 7) = 1\n",
      "3^13 (mod 7) = 3\n",
      "3^14 (mod 7) = 2\n",
      "3^15 (mod 7) = 6\n",
      "3^16 (mod 7) = 4\n",
      "3^17 (mod 7) = 5\n",
      "3^18 (mod 7) = 1\n",
      "3^19 (mod 7) = 3\n",
      "3^20 (mod 7) = 2\n"
     ]
    }
   ],
   "source": [
    "p = 7\n",
    "for k in range(3*p):\n",
    "    print(\"3^{} (mod {}) = {}\".format(k, p, fastPowering(3,k,p)))"
   ]
  },
  {
   "cell_type": "markdown",
   "metadata": {},
   "source": [
    "Muliplications modulo have interesting properties when dealing with prime numbers. One of them is **Fermat's little theorem**. This is $a^{p-1}=1$(mod p) if a is not divisible by $p$. If conversely a is divisible by $p$ the result is 1. Let's check with few numbers."
   ]
  },
  {
   "cell_type": "code",
   "execution_count": 21,
   "metadata": {},
   "outputs": [
    {
     "name": "stdout",
     "output_type": "stream",
     "text": [
      "Using prime number p = 17\n",
      "a = 10, a^(p-1)=1\n",
      "a = 17, a^(p-1)=0\n",
      "a = 34, a^(p-1)=0\n",
      "a = 16, a^(p-1)=1\n"
     ]
    }
   ],
   "source": [
    "p = 17\n",
    "print(\"Using prime number p = {}\".format(p))\n",
    "\n",
    "a = 10\n",
    "print(\"a = {}, a^(p-1)={}\".format(a, fastPowering(a,p-1,p)))\n",
    "\n",
    "a = 17\n",
    "print(\"a = {}, a^(p-1)={}\".format(a, fastPowering(a,p-1,p)))\n",
    "\n",
    "a = 2*17\n",
    "print(\"a = {}, a^(p-1)={}\".format(a, fastPowering(a,p-1,p)))\n",
    "\n",
    "a = 16\n",
    "print(\"a = {}, a^(p-1)={}\".format(a, fastPowering(a,p-1,p)))"
   ]
  },
  {
   "cell_type": "markdown",
   "metadata": {},
   "source": [
    "Fermat's little theorem can help us calculate the inverse of a number $a<p$. Since $a^{p-1}=1$(mod p) we multiply both sides by $a^{-1}$ so we get $a^{p-2}=a^{-1}$(mod p)"
   ]
  },
  {
   "cell_type": "code",
   "execution_count": 22,
   "metadata": {},
   "outputs": [
    {
     "name": "stdout",
     "output_type": "stream",
     "text": [
      "Inverse modulo of 10 with p=17 is 12. a*a^-1=1\n",
      "Inverse modulo of 11 with p=17 is 14. a*a^-1=1\n",
      "Inverse modulo of 5 with p=17 is 7. a*a^-1=1\n"
     ]
    }
   ],
   "source": [
    "def InverseFermat(a, p):\n",
    "    #p must be a prime number\n",
    "    return fastPowering(a, p-2, p)\n",
    "\n",
    "p = 17\n",
    "a = 10\n",
    "print(\"Inverse modulo of {} with p={} is {}. a*a^-1={}\".format(a, p, InverseFermat(a,p), a*InverseFermat(a,p)%p))\n",
    "a = 11\n",
    "print(\"Inverse modulo of {} with p={} is {}. a*a^-1={}\".format(a, p, InverseFermat(a,p), a*InverseFermat(a,p)%p))\n",
    "a = 5\n",
    "print(\"Inverse modulo of {} with p={} is {}. a*a^-1={}\".format(a, p, InverseFermat(a,p), a*InverseFermat(a,p)%p))\n",
    "\n"
   ]
  },
  {
   "cell_type": "markdown",
   "metadata": {},
   "source": [
    "Which algorithm should we use here? The Euclidean algorithm or the Fermat's little theorem to calculate the inverse?. The fact is that both presented here run in similar time. There are however better implementations of the Euclidean algorithm."
   ]
  },
  {
   "cell_type": "markdown",
   "metadata": {},
   "source": [
    "So far we found an interesting algebraic structure called Field in $(Z/pZ)^*$ where the elements with respect to the sum are {0,1,...,p-1} and those with respect to the product {1, 2, ..., p-1}. Of course both, product are sum are modulo operations. \n",
    "\n",
    "The multiplicative elements of field $(Z/pZ)^*$ can all be generated by powering an element of the set called generator $g$. In fact we are guaranteed that such an element exist but not all elments of the set are generators. This is called the **primitive root theorem**.\n",
    "\n",
    "As an example, 2 is a generator of the group $F_{11}$. Let's power it!"
   ]
  },
  {
   "cell_type": "code",
   "execution_count": 23,
   "metadata": {},
   "outputs": [
    {
     "name": "stdout",
     "output_type": "stream",
     "text": [
      "2^0 (mod 11) = 1 || 2^1 (mod 11) = 2 || 2^2 (mod 11) = 4 || 2^3 (mod 11) = 8 || 2^4 (mod 11) = 5 || 2^5 (mod 11) = 10 || 2^6 (mod 11) = 9 || 2^7 (mod 11) = 7 || 2^8 (mod 11) = 3 || 2^9 (mod 11) = 6 || \n",
      "\n",
      "The sorted elements generated by powering 2 are:\n",
      "{1, 2, 3, 4, 5, 6, 7, 8, 9, 10}\n"
     ]
    }
   ],
   "source": [
    "p = 11\n",
    "a = 2\n",
    "\n",
    "l = []\n",
    "for i in range(0,p-1):\n",
    "    print(\"2^{} (mod {}) = {} || \".format(i,p,fastPowering(a,i,p)), end = '')\n",
    "    l.append(fastPowering(a,i,p))\n",
    "\n",
    "print(\"\\n\")\n",
    "l.sort()\n",
    "print(\"The sorted elements generated by powering {} are:\".format(a))\n",
    "print(set(l))"
   ]
  },
  {
   "cell_type": "markdown",
   "metadata": {},
   "source": [
    "But 3 is not a generator on this field"
   ]
  },
  {
   "cell_type": "code",
   "execution_count": 24,
   "metadata": {},
   "outputs": [
    {
     "name": "stdout",
     "output_type": "stream",
     "text": [
      "2^0 (mod 11) = 1 || 2^1 (mod 11) = 3 || 2^2 (mod 11) = 9 || 2^3 (mod 11) = 5 || 2^4 (mod 11) = 4 || 2^5 (mod 11) = 1 || 2^6 (mod 11) = 3 || 2^7 (mod 11) = 9 || 2^8 (mod 11) = 5 || 2^9 (mod 11) = 4 || \n",
      "\n",
      "The sorted elements generated by powering 3 are:\n",
      "{1, 3, 4, 5, 9}\n"
     ]
    }
   ],
   "source": [
    "p = 11\n",
    "a = 3\n",
    "\n",
    "l = []\n",
    "for i in range(0,p-1):\n",
    "    print(\"2^{} (mod {}) = {} || \".format(i,p,fastPowering(a,i,p)), end = '')\n",
    "    l.append(fastPowering(a,i,p))\n",
    "\n",
    "print(\"\\n\")\n",
    "l.sort()\n",
    "print(\"The sorted elements generated by powering {} are:\".format(a))\n",
    "print(set(l))"
   ]
  },
  {
   "cell_type": "code",
   "execution_count": null,
   "metadata": {},
   "outputs": [],
   "source": []
  }
 ],
 "metadata": {
  "kernelspec": {
   "display_name": "Python 3",
   "language": "python",
   "name": "python3"
  },
  "language_info": {
   "codemirror_mode": {
    "name": "ipython",
    "version": 3
   },
   "file_extension": ".py",
   "mimetype": "text/x-python",
   "name": "python",
   "nbconvert_exporter": "python",
   "pygments_lexer": "ipython3",
   "version": "3.7.5"
  }
 },
 "nbformat": 4,
 "nbformat_minor": 2
}
