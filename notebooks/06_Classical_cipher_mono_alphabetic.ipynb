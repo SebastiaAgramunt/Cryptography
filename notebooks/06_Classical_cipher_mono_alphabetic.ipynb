{
 "cells": [
  {
   "cell_type": "markdown",
   "metadata": {},
   "source": [
    "## Mono-alphabetic sustitution cipher\n",
    "\n",
    "We've seen that the shift ciphertext is easy to break as the number of possible keys was 26. A better approach would be to simply substitute each letter of the alphabet by another random letter. This way we would have 26! different permutations (that is a number of the order of $10^{26}$), here we cannot do exhaustive search, it would take so long for our computer...\n",
    "\n",
    "Let's see an example of this encryption scheme"
   ]
  },
  {
   "cell_type": "code",
   "execution_count": null,
   "metadata": {},
   "outputs": [],
   "source": [
    "import string\n",
    "from copy import deepcopy\n",
    "from random import randint, seed\n",
    "\n",
    "seed(1) #fix seed so that we can reproduce the results\n",
    "characters = string.ascii_lowercase\n",
    "\n",
    "def random_permutation(characters):\n",
    "    old_chars = list(deepcopy(characters))\n",
    "    permut_ = []\n",
    "    \n",
    "    while len(old_chars)>0:\n",
    "        elem = old_chars.pop(randint(0,len(old_chars)-1))\n",
    "        permut_.append(elem)\n",
    "    return ''.join(permut_)\n",
    "    \n",
    "print(\"Plaintext characters are: \\n\\t{}\".format(characters))\n",
    "print(\"Equivalent in one random mono-alphabetic order: \\n\\t{}\".format(random_permutation(characters)))"
   ]
  },
  {
   "cell_type": "markdown",
   "metadata": {},
   "source": [
    "Alice and Bob just have to meet once and exchange the key which is now lenght 26 (the random substitution). In this particular case $a$ in the plaintext will be substituted by $e$ in the ciphertext, $b$ by $t$... according to the results above. Let's write the functions to encrypt and decrypt"
   ]
  },
  {
   "cell_type": "code",
   "execution_count": null,
   "metadata": {},
   "outputs": [],
   "source": [
    "# The random key generator is simply the permutation of the original characters\n",
    "key_generator = lambda c: random_permutation(c)\n",
    "\n",
    "def mono_encrypt(plaintext, characters, key):\n",
    "    convert_dict = {}\n",
    "    for p, c in zip(characters, key):\n",
    "        convert_dict[p] = c    \n",
    "    convert_dict[' '] = ' '\n",
    "    \n",
    "    c = ''\n",
    "    for p in plaintext:\n",
    "        c += convert_dict[p]\n",
    "        \n",
    "    return c\n",
    "\n",
    "\n",
    "def mono_decrypt(ciphertext, characters, key):\n",
    "    convert_dict = {}\n",
    "    for p, c in zip(characters, key):\n",
    "        convert_dict[c] = p    \n",
    "    convert_dict[' '] = ' '\n",
    "    \n",
    "    c = ''\n",
    "    for p in  ciphertext:\n",
    "        c += convert_dict[p]\n",
    "        \n",
    "    return c"
   ]
  },
  {
   "cell_type": "markdown",
   "metadata": {},
   "source": [
    "Now lets encrypt and decrypt a message using a new fresh generated key"
   ]
  },
  {
   "cell_type": "code",
   "execution_count": 3,
   "metadata": {},
   "outputs": [
    {
     "name": "stdout",
     "output_type": "stream",
     "text": [
      "The key is: avsboircylxmpgkhjwqdtzefun\n",
      "\n",
      "\n",
      "THE SENTENCE:\n",
      "\n",
      "it was a bright cold day in april and the clocks were striking thirteen winston smith his chin nuzzled into his breast in an effort to escape the vile wind slipped quickly through the glass doors of victory mansions though not quickly enough to prevent a swirl of gritty dust from entering along with him\n",
      "\n",
      "CIPHERTEXT:\n",
      "\n",
      "yd eaq a vwyrcd skmb bau yg ahwym agb dco smksxq eowo qdwyxygr dcywdoog eygqdkg qpydc cyq scyg gtnnmob ygdk cyq vwoaqd yg ag oiikwd dk oqsaho dco zymo eygb qmyhhob jtysxmu dcwktrc dco rmaqq bkkwq ki zysdkwu pagqykgq dcktrc gkd jtysxmu ogktrc dk hwozogd a qeywm ki rwyddu btqd iwkp ogdowygr amkgr eydc cyp\n",
      "\n",
      "PLAINTEXT:\n",
      "\n",
      "it was a bright cold day in april and the clocks were striking thirteen winston smith his chin nuzzled into his breast in an effort to escape the vile wind slipped quickly through the glass doors of victory mansions though not quickly enough to prevent a swirl of gritty dust from entering along with him\n"
     ]
    }
   ],
   "source": [
    "key = key_generator(characters)\n",
    "sentence = 'it was a bright cold day in april and the clocks were striking thirteen winston smith his chin nuzzled into his breast in an effort to escape the vile wind slipped quickly through the glass doors of victory mansions though not quickly enough to prevent a swirl of gritty dust from entering along with him'\n",
    "\n",
    "ciphertext = mono_encrypt(sentence, characters, key)\n",
    "plaintext = mono_decrypt(ciphertext, characters, key)\n",
    "print(\"The key is: {}\\n\\n\".format(key))\n",
    "print(\"THE SENTENCE:\\n\\n{}\\n\\nCIPHERTEXT:\\n\\n{}\\n\\nPLAINTEXT:\\n\\n{}\".format(sentence, ciphertext, plaintext))"
   ]
  },
  {
   "cell_type": "markdown",
   "metadata": {},
   "source": [
    "Seems to work well, but hold your horses... There is a plausible attack we can carry. Imagine the attacker knows the language in which Alice and Bob are comunciating, then he gained a lot of information with that!. He knows the distribution/frequency of all letters. Let me load George Orwell's book to estimate the probabilities of letters in English language"
   ]
  },
  {
   "cell_type": "code",
   "execution_count": 4,
   "metadata": {},
   "outputs": [],
   "source": [
    "from utils import download_data, process_load_textfile\n",
    "import string\n",
    "import os\n",
    "\n",
    "url = 'http://gutenberg.net.au/ebooks01/0100021.txt'\n",
    "filename = 'Nineteen-eighty-four_Orwell.txt'\n",
    "download_path = '/'.join(os.getcwd().split('/')[:-1]) + '/data/'\n",
    "\n",
    "#download data to specified path\n",
    "download_data(url, filename, download_path)\n",
    "#load data and process\n",
    "data = process_load_textfile(filename, download_path)#.replace(\" \",\"\")"
   ]
  },
  {
   "cell_type": "code",
   "execution_count": 5,
   "metadata": {},
   "outputs": [
    {
     "name": "stdout",
     "output_type": "stream",
     "text": [
      "The lenght of the book is 569015 characters\n"
     ]
    }
   ],
   "source": [
    "print(\"The lenght of the book is {} characters\".format(len(list(data))))"
   ]
  },
  {
   "cell_type": "code",
   "execution_count": 6,
   "metadata": {},
   "outputs": [
    {
     "data": {
      "text/plain": [
       "'  project gutenberg australia    title nineteen eightyfour author george orwell pseudonym of eric blair   a project gutenberg of australia ebook  ebook no  txt language   english date first posted august  date most recently updated november   project gutenberg of australia ebooks are created from printed editions which are in the public domain in australia unless a copyright notice is included we do not keep any ebooks in compliance with a particular paper edition  copyright laws are changing all over the world be sure to check the copyright laws for your country before downloading or redistributing this file  this ebook is made available at no cost and with almost no restrictions whatsoever you may copy it give it away or reuse it under the terms of the project gutenberg of australia license which may be viewed online at httpgutenbergnetaulicencehtml  to contact project gutenberg of australia go to httpgutenbergnetau   title      nineteen eightyfour author     george orwell pseudonym '"
      ]
     },
     "execution_count": 6,
     "metadata": {},
     "output_type": "execute_result"
    }
   ],
   "source": [
    "#just a sample the first 1000 characters to see how it looks like\n",
    "data[:1000]"
   ]
  },
  {
   "cell_type": "markdown",
   "metadata": {},
   "source": [
    "We assume that english letters occur with the distribution of Orwell's book so we count the letters as follows:"
   ]
  },
  {
   "cell_type": "code",
   "execution_count": 7,
   "metadata": {},
   "outputs": [
    {
     "name": "stdout",
     "output_type": "stream",
     "text": [
      "{'a': 36523, 'b': 7653, 'c': 11636, 'd': 19022, 'e': 59619, 'f': 10188, 'g': 9283, 'h': 29164, 'i': 31950, 'j': 463, 'k': 3609, 'l': 18657, 'm': 10828, 'n': 31986, 'o': 35051, 'p': 8614, 'q': 409, 'r': 26126, 's': 28972, 't': 43877, 'u': 13037, 'v': 4313, 'w': 12243, 'x': 792, 'y': 9423, 'z': 306}\n"
     ]
    }
   ],
   "source": [
    "def count_char_freqs(text, characters = string.ascii_lowercase):\n",
    "    freqs = {}\n",
    "    for letter in characters:\n",
    "        f = text.count(letter)\n",
    "        freqs[letter] = f\n",
    "    return freqs\n",
    "\n",
    "english_frequencies = count_char_freqs(data)\n",
    "print(english_frequencies)"
   ]
  },
  {
   "cell_type": "markdown",
   "metadata": {},
   "source": [
    "Let's take a random sample of length 0.01 the size of the original text and encrypt it. Then we will try to infer some information just looking at the ciphertext letter frequencies and knowing the english letter distrbution."
   ]
  },
  {
   "cell_type": "code",
   "execution_count": 8,
   "metadata": {},
   "outputs": [
    {
     "name": "stdout",
     "output_type": "stream",
     "text": [
      "We sample a chunk of 28451 characters from the book starting at position 348856\n",
      "Using the private key k = avsboircylxmpgkhjwqdtzefun\n",
      "\n",
      "\n",
      "Sampled Plaintext:\n",
      " this would provide only the economic and not the emotional basis for a hierarchical society what is concerned here is not the morale of masses whose attitude is unimportant so long as they are kept steadily at work but the morale of the party itself even the humblest party member is expected to be competent industrious and even intelligent within narrow limits but it is also necessary that he should be a credulous and ignorant fanatic whose prevailing moods are fear hatred adulation and orgiastic triumph in other words it is necessary that he should have the mentality appropriate to a state of war it does not matter whether the war is actually happening and since no decisive victory is possible it does not matter whether the war is going well or badly all that is needed is that a state of war should exist the splitting of the intelligence which the party requires of its members and which is more easily achieved in an atmosphere of war is now almost universal but the higher up the ranks one goes the more marked it becomes it is precisely in the inner party that war hysteria and hatred of the enemy are strongest in his capacity as an administrator it is often necessary for a member of the inner party to know that this or that item of war news is untruthful and he may often be aware that the entire war is spurious and is either not happening or is being waged for purposes quite other than the declared ones but such knowledge is easily neutralized by the technique of doublethink meanwhile no inner party member wavers for an instant in his mystical belief that the war is real and that it is bound to end victoriously with oceania the undisputed master of the entire world  all members of the inner party believe in this coming conquest as an article of faith it is to be achieved either by gradually acquiring more and more territory and so building up an overwhelming preponderance of power or by the discovery of some new and unanswerable weapon the search for new weapons continues unceasingly and is one of the very few remaining activities in which the inventive or speculative type of mind can find any outlet in oceania at the present day science in the old sense has almost ceased to exist in newspeak there is no word for science the empirical method of thought on which all the scientific achievements of the past were founded is opposed to the most fundamental principles of ingsoc and even technological progress only happens when its products can in some way be used for the diminution of human liberty in all the useful arts the world is either standing still or going backwards the fields are cultivated with horseploughs while books are written by machinery but in matters of vital importancemeaning in effect war and police espionagethe empirical approach is still encouraged or at least tolerated the two aims of the party are to conquer the whole surface of the earth and to extinguish once and for all the possibility of independent thought there are therefore two great problems which the party is concerned to solve one is how to discover against his will what another human being is thinking and the other is how to kill several hundred million people in a few seconds without giving warning beforehand in so far as scientific research still continues this is its subject matter the scientist of today is either a mixture of psychologist and inquisitor studying with real ordinary minuteness the meaning of facial expressions gestures and tones of voice and testing the truthproducing effects of drugs shock therapy hypnosis and physical torture or he is chemist physicist or biologist concerned only with such branches of his special subject as are relevant to the taking of life in the vast laboratories of the ministry of peace and in the experimental stations hidden in the brazilian forests or in the australian desert or on lost islands of the antarctic the teams of experts are indefatigably at work some are concerned simply with planning the logistics of future wars others devise larger and larger rocket bombs more and more powerful explosives and more and more impenetrable armourplating others search for new and deadlier gases or for soluble poisons capable of being produced in such quantities as to destroy the vegetation of whole continents or for breeds of disease germs immunized against all possible antibodies others strive to produce a vehicle that shall bore its way under the soil like a submarine under the water or an aeroplane as independent of its base as a sailingship others explore even remoter possibilities such as focusing the suns rays through lenses suspended thousands of kilometres away in space or producing artificial earthquakes and tidal waves by tapping the heat at the earths centre  but none of these projects ever comes anywhere near realization and none of the three superstates ever gains a significant lead on the others what is more remarkable is that all three powers already possess in the atomic bomb a weapon far more powerful than any that their present researches are likely to discover although the party according to its habit claims the invention for itself atomic bombs first appeared as early as the nineteenforties and were first used on a large scale about ten years later at that time some hundreds of bombs were dropped on industrial centres chiefly in european russia western europe and north america the effect was to convince the ruling groups of all countries that a few more atomic bombs would mean the end of organized society and hence of their own power thereafter although no formal agreement was ever made or hinted at no more bombs were dropped all three powers merely continue to produce atomic bombs and store them up against the decisive opportunity which they all believe will come sooner or later and meanwhile the art of war has remained almost stationary for thirty or forty years helicopters are more used than they were formerly bombing planes have been largely superseded by selfpropelled projectiles and the fragile movable battleship has given way to the almost unsinkable floating fortress but otherwise there has been little development the tank the submarine the torpedo the machine gun even the rifle and the hand grenade are still in use and in spite of the endless slaughters reported in the press and on the telescreens the desperate battles of earlier wars in which hundreds of thousands or even millions of men were often killed in a few weeks have never been repeated  none of the three superstates ever attempts any manoeuvre which involves the risk of serious defeat when any large operation is undertaken it is usually a surprise attack against an ally the strategy that all three powers are following or pretend to themselves that they are following is the same the plan is by a combination of fighting bargaining and welltimed strokes of treachery to acquire a ring of bases completely encircling one or other of the rival states and then to sign a pact of friendship with that rival and remain on peaceful terms for so many years as to lull suspicion to sleep during this time rockets loaded with atomic bombs can be assembled at all the strategic spots finally they will all be fired simultaneously with effects so devastating as to make retaliation impossible it will then be time to sign a pact of friendship with the remaining worldpower in preparation for another attack this scheme it is hardly necessary to say is a mere daydream impossible of realization moreover no fighting ever occurs except in the disputed areas round the equator and the pole no invasion of enemy territory is ever undertaken this explains the fact that in some places the frontiers between the superstates are arbitrary eurasia for example could easily conquer the british isles which are geographically part of europe or on the other hand it would be possible for oceania to push its frontiers to the rhine or even to the vistula but this would violate the principle followed on all sides though never formulated of cultural integrity if oceania were to conquer the areas that used once to be known as france and germany it would be necessary either to exterminate the inhabitants a task of great physical difficulty or to assimilate a population of about a hundred million people who so far as technical development goes are roughly on the oceanic level the problem is the same for all three superstates it is absolutely necessary to their structure that there should be no contact with foreigners except to a limited extent with war prisoners and coloured slaves even the official ally of the moment is always regarded with the darkest suspicion war prisoners apart the average citizen of oceania never sets eyes on a citizen of either eurasia or eastasia and he is forbidden the knowledge of foreign languages if he were allowed contact with foreigners he would discover that they are creatures similar to himself and that most of what he has been told about them is lies the sealed world in which he lives would be broken and the fear hatred and selfrighteousness on which his morale depends might evaporate it is therefore realized on all sides that however often persia or egypt or java or ceylon may change hands the main frontiers must never be crossed by anything except bombs  under this lies a fact never mentioned aloud but tacitly understood and acted upon namely that the conditions of life in all three superstates are very much the same in oceania the prevailing philosophy is called ingsoc in eurasia it is called neobolshevism and in eastasia it is called by a chinese name usually translated as deathworship but perhaps better rendered as obliteration of the self the citizen of oceania is not allowed to know anything of the tenets of the other two philosophies but he is taught to execrate them as barbarous outrages upon morality and common sense actually the three philosophies are barely distinguishable and the social systems which they support are not distinguishable at all everywhere there is the same pyramidal structure the same worship of semidivine leader the same economy existing by and for continuous warfare it follows that the three superstates not only cannot conquer one another but would gain no advantage by doing so on the contrary so long as they remain in conflict they prop one another up like three sheaves of corn and as usual the ruling groups of all three powers are simultaneously aware and unaware of what they are doing their lives are dedicated to world conquest but they also know that it is necessary that the war should continue everlastingly and without victory meanwhile the fact that there is no danger of conquest makes possible the denial of reality which is the special feature of ingsoc and its rival systems of thought here it is necessary to repeat what has been said earlier that by becoming continuous war has fundamentally changed its character  in past ages a war almost by definition was something that sooner or later came to an end usually in unmistakable victory or defeat in the past also war was one of the main instruments by which human societies were kept in touch with physical reality all rulers in all ages have tried to impose a false view of the world upon their followers but they could not afford to encourage any illusion that tended to impair military efficiency so long as defeat meant the loss of independence or some other result generally held to be undesirable the precautions against defeat had to be serious physical facts could not be ignored in philosophy or religion or ethics or politics two and two might make five but when one was designing a gun or an aeroplane they had to make four inefficient nations were always conquered sooner or later and the struggle for efficiency was inimical to illusions moreover to be efficient it was necessary to be able to learn from the past which meant having a fairly accurate idea of what had happened in the past newspapers and history books were of course always coloured and biased but falsification of the kind that is practised today would have been impossible war was a sure safeguard of sanity and so far as the ruling classes were concerned it was probably the most important of all safeguards while wars could be won or lost no ruling class could be completely irresponsible  but when war becomes literally continuous it also ceases to be dangerous when war is continuous there is no such thing as military necessity technical progress can cease and the most palpable facts can be denied or disregarded as we have seen researches that could be called scientific are still carried out for the purposes of war but they are essentially a kind of daydreaming and their failure to show results is not important efficiency even military efficiency is no longer needed nothing is efficient in oceania except the thought police since each of the three superstates is unconquerable each is in effect a separate universe within which almost any perversion of thought can be safely practised reality only exerts its pressure through the needs of everyday lifethe need to eat and drink to get shelter and clothing to avoid swallowing poison or stepping out of topstorey windows and the like between life and death and between physical pleasure and physical pain there is still a distinction but that is all cut off from contact with the outer world and with the past the citizen of oceania is like a man in interstellar space who has no way of knowing which direction is up and which is down the rulers of such a state are absolute as the pharaohs or the caesars could not be they are obliged to prevent their followers from starving to death in numbers large enough to be inconvenient and they are obliged to remain at the same low level of military technique as their rivals but once that minimum is achieved they can twist reality into whatever shape they choose  the war therefore if we judge it by the standards of previous wars is merely an imposture it is like the battles between certain ruminant animals whose horns are set at such an angle that they are incapable of hurting one another but though it is unreal it is not meaningless it eats up the surplus of consumable goods and it helps to preserve the special mental atmosphere that a hierarchical society needs war it will be seen is now a purely internal affair in the past the ruling groups of all countries although they might recognize their common interest and therefore limit the destructiveness of war did fight against one another and the victor always plundered the vanquished in our own day they are not fighting against one another at all the war is waged by each ruling group against its own subjects and the object of the war is not to make or prevent conquests of territory but to keep the structure of society intact the very word war therefore has become misleading it would probably be accurate to say that by becoming continuous war has ceased to exist the peculiar pressure that it exerted on human beings between the neolithic age and the early twentieth century has disappeared and been replaced by something quite different the effect would be much the same if the three superstates instead of fighting one another should agree to live in perpetual peace each inviolate within its own boundaries for in that case each would still be a selfcontained universe freed for ever from the sobering influence of external danger a peace that was truly permanent would be the same as a permanent war thisalthough the vast majority of party members understand it only in a shallower senseis the inner meaning of the party slogan war is peace   winston stopped reading for a moment somewhere in remote distance a rocket bomb thundered the blissful feeling of being alone with the forbidden book in a room with no telescreen had not worn off solitude and safety were physical sensations mixed up somehow with the tiredness of his body the softness of the chair the touch of the faint breeze from the window that played upon his cheek the book fascinated him or more exactly it reassured him in a sense it told him nothing that was new but that was part of the attraction it said what he would have said if it had been possible for him to set his scattered thoughts in order it was the product of a mind similar to his own but enormously more powerful more systematic less fearridden the best books he perceived are those that tell you what you know already he had just turned back to chapter i when he heard julias footstep on the stair and started out of his chair to meet her she dumped her brown toolbag on the floor and flung herself into his arms it was more than a week since they had seen one another  ive got the book he said as they disentangled themselves  oh youve got it good she said without much interest and almost immediately knelt down beside the oil stove to make the coffee  they did not return to the subject until they had been in bed for half an hour the evening was just cool enough to make it worth while to pull up the counterpane from below came the familiar sound of singing and the scrape of boots on the flagstones the brawny redarmed woman whom winston had seen there on his first visit was almost a fixture in the yard there seemed to be no hour of daylight when she was not marching to and fro between the washtub and the line alternately gagging herself with clothes pegs and breaking forth into lusty song julia had settled down on her side and seemed to be already on the point of falling asleep he reached out for the book which was lying on the floor and sat up against the bedhead  we must read it he said you too all members of the brotherhood have to read it  you read it she said with her eyes shut read it aloud thats the best way then you can explain it to me as you go  the clocks hands said six meaning eighteen they had three or four hours ahead of them he propped the book against his knees and began reading   chapter i ignorance is strength  throughout recorded time and probably since the end of the neolithic age there have been three kinds of people in the world the high the middle and the low they have been subdivided in many ways they have borne countless different names and their relative numbers as well as their attitude towards one another have varied from age to age but the essential structure of society has never altered even after enormous upheavals and seemingly irrevocable changes the same pattern has always reasserted itself just as a gyroscope will always return to equilibrium however far it is pushed one way or the other   julia are you awake said winston  yes my love im listening go on its marvellous  he continued reading   the aims of these three groups are entirely irreconcilable the aim of the high is to remain where they are the aim of the middle is to change places with the high the aim of the low when they have an aimfor it is an abiding characteristic of the low that they are too much crushed by drudgery to be more than intermittently conscious of anything outside their daily livesis to abolish all distinctions and create a society in which all men shall be equal thus throughout history a struggle which is the same in its main outlines recurs over and over again for long periods the high seem to be securely in power but sooner or later there always comes a moment when they lose either their belief in themselves or their capacity to govern efficiently or both they are then overthrown by the middle who enlist the low on their side by pretending to them that they are fighting for liberty and justice as soon as they have reached their objective the middle thrust the low back into their old position of servitude and themselves become the high presently a new middle group splits off from one of the other groups or from both of them and the struggle begins over again of the three groups only the low are never even temporarily successful in achieving their aims it would be an exaggeration to say that throughout history there has been no progress of a material kind even today in a period of decline the average human being is physically better off than he was a few centuries ago but no advance in wealth no softening of manners no reform or revolution has ever brought human equality a millimetre nearer from the point of view of the low no historic change has ever meant much more than a change in the name of their masters  by the late nineteenth century the recurrence of this pattern had become obvious to many observers there then rose schools of thinkers who interpreted history as a cyclical process and claimed to show that inequality was the unalterable law of human life this doctrine of course had always had its adherents but in the manner in which it was now put forward there was a significant change in the past the need for a hierarchical form of society had been the doctrine specifically of the high it had been preached by kings and aristocrats and by the priests lawyers and the like who were parasitical upon them and it had generally been softened by promises of compensation in an imaginary world beyond the grave the middle so long as it was struggling for power had always made use of such terms as freedom justice and fraternity now however the concept of human brotherhood began to be assailed by people who were not yet in positions of command but merely hoped to be so before long in the past the middle had made revolutions under the banner of equality and then had established a fresh tyranny as soon as the old one was overthrown the new middle groups in effect proclaimed their tyranny beforehand socialism a theory which appeared in the early nineteenth century and was the last link in a chain of thought stretching back to the slave rebellions of antiquity was still deeply infected by the utopianism of past ages but in each variant of socialism that appeared from about  onwards the aim of establishing liberty and equality was more and more openly abandoned the new movements which appeared in the middle years of the century ingsoc in oceania neobolshevism in eurasia deathworship as it is commonly called in eastasia had the conscious aim of perpetuating unfreedom and inequality these new movements of course grew out of the old ones and tended to keep their names and pay lipservice to their ideology but the purpose of all of them was to arrest progress and freeze history at a chosen moment the familiar pendulum swing was to happen once more and then stop as usual the high were to be turned out by the middle who would then become the high but this time by conscious strategy the high would be able to maintain their position permanently  the new doctrines arose partly because of the accumulation of historical knowledge and the growth of the historical sense which had hardly existed before the nineteenth century the cyclical movement of history was now intelligible or appeared to be so and if it was intelligible then it was alterable but the principal underlying cause was that as early as the beginning of the twentieth century human equality had become technically possible it was still true that men were not equal in their native talents and that functions had to be specialized in ways that favoured some individuals against others but there was no longer any real need for class distinctions or for large differences of wealth in earlier ages class distinctions had been not only inevitable but desirable inequality was the price of civilization with the development of machine production however the case was altered even if it was still necessary for human beings to do different kinds of work it was no longer necessary for them to live at different social or economic levels therefore from the point of view of the new groups who were on the point of seizing power human equality was no longer an ideal to be striven after but a danger to be averted in more primitive ages when a just and peaceful society was in fact not possible it had been fairly easy to believe it the idea of an earthly paradise in which men should live together in a state of brotherhood without laws and without brute labour had haunted the human imagination for thousands of years and this vision had had a certain hold even on the groups who actually profited by each historical change the heirs of the french english and american revolutions had partly believed in their own phrases about the rights of man freedom of speech equality before the law and the like and have even allowed their conduct to be influenced by them to some extent but by the fourth decade of the twentieth century all the main currents of political thought were authoritarian the earthly paradise had been discredited at exactly the moment when it became realizable every new political theory by whatever name it called itself led back to hierarchy and regimentation and in the general hardening of outlook that set in round about  practices which had been long abandoned in some cases for hundreds of yearsimprisonment without trial the use of war prisoners as slaves public executions torture to extract confessions the use of hostages and the deportation of whole populationsnot only became common again but were tolerated and even defended by people who considered themselves enlightened and progressive  it was only after a decade of national wars civil wars revolutions and counterrevolutions in all parts of the world that ingsoc and its rivals emerged as fully workedout political theories but they had been foreshadowed by the various systems generally called totalitarian which had appeared earlier in the century and the main outlines of the world which would emerge from the prevailing chaos had long been obvious what kind of people would control this world had been equally obvious the new aristocracy was made up for the most part of bureaucrats scientists technicians tradeunion organizers publicity experts sociologists teachers journalists and professional politicians these people whose origins lay in the salaried middle class and the upper grades of the working class had been shaped and brought together by the barren world of monopoly industry and centralized government as compared with their opposite numbers in past ages they were less avaricious less tempted by luxury hungrier for pure power and above all more conscious of what they were doing and more intent on crushing opposition this last difference was cardinal by comparison with that existing today all the tyrannies of the past were halfhearted and inefficient the ruling groups were always infected to some extent by liberal ideas and were content to leave loose ends everywhere to regard only the overt act and to be uninterested in what their subjects were thinking even the catholic church of the middle ages was tolerant by modern standards part of the reason for this was that in the past no government had the power to keep its citizens under constant surveillance the invention of print however made it easier to manipulate public opinion and the film and the radio carried the process further with the development of television and the technical advance which made it possible to receive and transmit simultaneously on the same instrument private life came to an end every citizen or at least every citizen important enough to be worth watching could be kept for twentyfour hours a day under the eyes of the police and in the sound of official propaganda with all other channels of communication closed the possibility of enforcing not only complete obedience to the will of the state but complete uniformity of opinion on all subjects now existed for the first time  after the revolutionary period of the fifties and sixties society regrouped itself as always into high middle and low but the new high group unlike all its forerunners did not act upon instinct but knew what was needed to safeguard its position it had long been realized that the only secure basis for oligarchy is collectivism wealth and privilege are most easily defended when they are possessed jointly the socalled abolition of private property which took place in the middle years of the century meant in effect the concentration of property in far fewer hands than before but with this difference that the new owners were a group instead of a mass of individuals individually no member of the party owns anything except pet\n"
     ]
    }
   ],
   "source": [
    "n = round(len(data)*0.05)\n",
    "i = randint(0, len(data)-1)\n",
    "sampled_data = data[i:i+n]\n",
    "encrypted_sampled_data = mono_encrypt(sampled_data, characters, key)\n",
    "\n",
    "print(\"We sample a chunk of {} characters from the book starting at position {}\".format(n, i))\n",
    "print(\"Using the private key k = {}\\n\\n\".format(key))\n",
    "print(\"Sampled Plaintext:\")\n",
    "print(sampled_data)"
   ]
  },
  {
   "cell_type": "code",
   "execution_count": 9,
   "metadata": {},
   "outputs": [],
   "source": [
    "ciphertext_frequencies = count_char_freqs(encrypted_sampled_data)"
   ]
  },
  {
   "cell_type": "code",
   "execution_count": 10,
   "metadata": {},
   "outputs": [
    {
     "name": "stdout",
     "output_type": "stream",
     "text": [
      "The orinal key is: \n",
      "\tavsboircylxmpgkhjwqdtzefun\n",
      "The inferred key: \n",
      "\tarimohuqgjxbpykvncwdsztfel\n"
     ]
    }
   ],
   "source": [
    "def find_key_attack(ciphertext_freqencies, english_frequencies):\n",
    "    \"\"\"Takes two frequency dictionaries on letters and outputs a plausible\n",
    "    key\n",
    "    inputs like: {'a': 36548, 'b': 7668, 'c': 11642 ...\n",
    "    outputs a key\n",
    "    \"\"\"\n",
    "    cf = sorted(ciphertext_frequencies.items(), key=lambda item: item[1])\n",
    "    ef = sorted(english_frequencies.items(), key=lambda item: item[1])\n",
    "    \n",
    "    #map english to \n",
    "    mapping = {}\n",
    "    for e, c in zip(ef, cf):\n",
    "        mapping[e[0]] = c[0]\n",
    "    \n",
    "    m = ''\n",
    "    for letter in string.ascii_lowercase:\n",
    "        m += mapping[letter]\n",
    "        \n",
    "    return m\n",
    "\n",
    "\n",
    "inferred_key = find_key_attack(ciphertext_frequencies, english_frequencies)\n",
    "\n",
    "print(\"The orinal key is: \\n\\t{}\".format(key))\n",
    "print(\"The inferred key: \\n\\t{}\".format(inferred_key))"
   ]
  },
  {
   "cell_type": "code",
   "execution_count": 11,
   "metadata": {},
   "outputs": [
    {
     "name": "stdout",
     "output_type": "stream",
     "text": [
      "We have correctly guessed 8 out of 26 digits of the key\n"
     ]
    }
   ],
   "source": [
    "count = 0\n",
    "for a, b in zip(key, inferred_key):\n",
    "    if a == b:\n",
    "        count += 1\n",
    "        \n",
    "print(\"We have correctly guessed {} out of {} digits of the key\".format(count, len(characters)))"
   ]
  },
  {
   "cell_type": "markdown",
   "metadata": {},
   "source": [
    "We see that there are some coincidences, let's try to decrypt the message using the inferred key"
   ]
  },
  {
   "cell_type": "code",
   "execution_count": 12,
   "metadata": {},
   "outputs": [
    {
     "data": {
      "text/plain": [
       "' trnh yowdl fsovnle oidg tre euoiomnu ail iot tre emotnoiad pahnh cos a rnesasurnuad hounetg yrat nh uoiuesiel rese nh iot tre mosade oc mahheh yrohe attntwle nh winmfostait ho doib ah treg ase keft htealndg at yosk pwt tre mosade oc tre fastg nthedc evei tre rwmpdeht fastg mempes nh exfeutel to pe uomfeteit nilwhtsnowh ail evei niteddnbeit yntrni iassoy dnmnth pwt nt nh adho ieuehhasg trat re hrowdl pe a uselwdowh ail nbiosait caiatnu yrohe fsevandnib moolh ase ceas ratsel alwdatnoi ail osbnahtnu tsnwmfr ni otres yoslh nt nh ieuehhasg trat re hrowdl rave tre meitadntg affsofsnate to a htate oc yas nt loeh iot mattes yretres tre yas nh autwaddg raffeinib ail hniue io leunhnve vnutosg nh fohhnpde nt loeh iot mattes yretres tre yas nh bonib yedd os paldg add trat nh ieelel nh trat a htate oc yas hrowdl exnht tre hfdnttnib oc tre niteddnbeiue yrnur tre fastg sejwnseh oc nth mempesh ail yrnur nh mose eahndg aurnevel ni ai atmohfrese oc yas nh ioy admoht winveshad pwt tre rnbres wf tre saikh oie boeh tre mose maskel nt peuomeh nt nh fseunhedg ni tre niies fastg trat yas rghtesna ail ratsel oc tre eiemg ase htsoibeht ni rnh uafauntg ah ai almninhtsatos nt nh octei ieuehhasg cos a mempes oc tre niies fastg to kioy trat trnh os trat ntem oc yas ieyh nh witswtrcwd ail re mag octei pe ayase trat tre eitnse yas nh hfwsnowh ail nh entres iot raffeinib os nh penib yabel cos fwsfoheh jwnte otres trai tre leudasel oieh pwt hwur kioydelbe nh eahndg iewtsadnqel pg tre teurinjwe oc lowpdetrnik meaiyrnde io niies fastg mempes yavesh cos ai nihtait ni rnh mghtnuad pednec trat tre yas nh sead ail trat nt nh powil to eil vnutosnowhdg yntr oueaina tre wilnhfwtel mahtes oc tre eitnse yosdl  add mempesh oc tre niies fastg pedneve ni trnh uomnib uoijweht ah ai astnude oc cantr nt nh to pe aurnevel entres pg bsalwaddg aujwnsnib mose ail mose tessntosg ail ho pwndlnib wf ai ovesyredmnib fsefoilesaiue oc foyes os pg tre lnhuovesg oc home iey ail wiaihyesapde yeafoi tre heasur cos iey yeafoih uoitniweh wiueahnibdg ail nh oie oc tre vesg cey semaninib autnvntneh ni yrnur tre niveitnve os hfeuwdatnve tgfe oc mnil uai cnil aig owtdet ni oueaina at tre fseheit lag huneiue ni tre odl heihe rah admoht ueahel to exnht ni ieyhfeak trese nh io yosl cos huneiue tre emfnsnuad metrol oc trowbrt oi yrnur add tre huneitncnu aurnevemeith oc tre faht yese cowilel nh offohel to tre moht cwilameitad fsniunfdeh oc nibhou ail evei teuriodobnuad fsobsehh oidg raffeih yrei nth fsolwuth uai ni home yag pe whel cos tre lnmniwtnoi oc rwmai dnpestg ni add tre whecwd asth tre yosdl nh entres htailnib htndd os bonib paukyaslh tre cnedlh ase uwdtnvatel yntr roshefdowbrh yrnde pookh ase ysnttei pg maurniesg pwt ni mattesh oc vntad nmfostaiuemeainib ni ecceut yas ail fodnue ehfnoiabetre emfnsnuad affsoaur nh htndd eiuowsabel os at deaht todesatel tre tyo anmh oc tre fastg ase to uoijwes tre yrode hwscaue oc tre eastr ail to extnibwnhr oiue ail cos add tre fohhnpndntg oc nilefeileit trowbrt trese ase tresecose tyo bseat fsopdemh yrnur tre fastg nh uoiuesiel to hodve oie nh roy to lnhuoves abaniht rnh yndd yrat aiotres rwmai penib nh trniknib ail tre otres nh roy to kndd hevesad rwilsel mnddnoi feofde ni a cey heuoilh yntrowt bnvnib yasinib pecoserail ni ho cas ah huneitncnu seheasur htndd uoitniweh trnh nh nth hwpzeut mattes tre huneitnht oc tolag nh entres a mnxtwse oc fhgurodobnht ail nijwnhntos htwlgnib yntr sead oslniasg mniwteiehh tre meainib oc caunad exfsehhnoih behtwseh ail toieh oc vonue ail tehtnib tre tswtrfsolwunib ecceuth oc lswbh hrouk tresafg rgfiohnh ail frghnuad tostwse os re nh uremnht frghnunht os pnodobnht uoiuesiel oidg yntr hwur psaiureh oc rnh hfeunad hwpzeut ah ase sedevait to tre taknib oc dnce ni tre vaht daposatosneh oc tre mninhtsg oc feaue ail ni tre exfesnmeitad htatnoih rnllei ni tre psaqndnai cosehth os ni tre awhtsadnai lehest os oi doht nhdailh oc tre aitasutnu tre teamh oc exfesth ase nilecatnbapdg at yosk home ase uoiuesiel hnmfdg yntr fdaiinib tre dobnhtnuh oc cwtwse yash otresh levnhe dasbes ail dasbes souket pomph mose ail mose foyescwd exfdohnveh ail mose ail mose nmfeietsapde asmowsfdatnib otresh heasur cos iey ail lealdnes baheh os cos hodwpde fonhoih uafapde oc penib fsolwuel ni hwur jwaitntneh ah to lehtsog tre vebetatnoi oc yrode uoitnieith os cos pseelh oc lnheahe besmh nmmwinqel abaniht add fohhnpde aitnpolneh otresh htsnve to fsolwue a vernude trat hradd pose nth yag wiles tre hond dnke a hwpmasnie wiles tre yates os ai aesofdaie ah nilefeileit oc nth pahe ah a handnibhrnf otresh exfdose evei semotes fohhnpndntneh hwur ah couwhnib tre hwih sagh trsowbr deiheh hwhfeilel trowhailh oc kndometseh ayag ni hfaue os fsolwunib astncnunad eastrjwakeh ail tnlad yaveh pg taffnib tre reat at tre eastrh ueitse  pwt ioie oc trehe fsozeuth eves uomeh aigyrese ieas seadnqatnoi ail ioie oc tre trsee hwfeshtateh eves banih a hnbincnuait deal oi tre otresh yrat nh mose semaskapde nh trat add trsee foyesh adsealg fohhehh ni tre atomnu pomp a yeafoi cas mose foyescwd trai aig trat trens fseheit seheasureh ase dnkedg to lnhuoves adtrowbr tre fastg auuoslnib to nth rapnt udanmh tre niveitnoi cos nthedc atomnu pomph cnsht affeasel ah easdg ah tre inieteeicostneh ail yese cnsht whel oi a dasbe huade apowt tei geash dates at trat tnme home rwilselh oc pomph yese lsoffel oi nilwhtsnad ueitseh urnecdg ni ewsofeai swhhna yehtesi ewsofe ail iostr amesnua tre ecceut yah to uoivniue tre swdnib bsowfh oc add uowitsneh trat a cey mose atomnu pomph yowdl meai tre eil oc osbainqel hounetg ail reiue oc trens oyi foyes treseactes adtrowbr io cosmad abseemeit yah eves male os rnitel at io mose pomph yese lsoffel add trsee foyesh mesedg uoitniwe to fsolwue atomnu pomph ail htose trem wf abaniht tre leunhnve offostwintg yrnur treg add pedneve yndd uome hooies os dates ail meaiyrnde tre ast oc yas rah semaniel admoht htatnoiasg cos trnstg os costg geash rednuoftesh ase mose whel trai treg yese cosmesdg pompnib fdaieh rave peei dasbedg hwfeshelel pg hedcfsofeddel fsozeutndeh ail tre csabnde movapde pattdehrnf rah bnvei yag to tre admoht wihnikapde cdoatnib costsehh pwt otresynhe trese rah peei dnttde levedofmeit tre taik tre hwpmasnie tre tosfelo tre maurnie bwi evei tre sncde ail tre rail bseiale ase htndd ni whe ail ni hfnte oc tre eildehh hdawbrtesh sefostel ni tre fsehh ail oi tre tedehuseeih tre lehfesate pattdeh oc easdnes yash ni yrnur rwilselh oc trowhailh os evei mnddnoih oc mei yese octei knddel ni a cey yeekh rave ieves peei sefeatel  ioie oc tre trsee hwfeshtateh eves attemfth aig maioewvse yrnur nivodveh tre snhk oc hesnowh leceat yrei aig dasbe ofesatnoi nh wilestakei nt nh whwaddg a hwsfsnhe attauk abaniht ai addg tre htsatebg trat add trsee foyesh ase coddoynib os fseteil to tremhedveh trat treg ase coddoynib nh tre hame tre fdai nh pg a uompniatnoi oc cnbrtnib pasbaninib ail yeddtnmel htsokeh oc tseauresg to aujwnse a snib oc paheh uomfdetedg eiunsudnib oie os otres oc tre snvad htateh ail trei to hnbi a faut oc csneilhrnf yntr trat snvad ail semani oi feauecwd tesmh cos ho maig geash ah to dwdd hwhfnunoi to hdeef lwsnib trnh tnme souketh doalel yntr atomnu pomph uai pe ahhempdel at add tre htsatebnu hfoth cniaddg treg yndd add pe cnsel hnmwdtaieowhdg yntr ecceuth ho levahtatnib ah to make setadnatnoi nmfohhnpde nt yndd trei pe tnme to hnbi a faut oc csneilhrnf yntr tre semaninib yosdlfoyes ni fsefasatnoi cos aiotres attauk trnh hureme nt nh rasldg ieuehhasg to hag nh a mese laglseam nmfohhnpde oc seadnqatnoi moseoves io cnbrtnib eves ouuwsh exueft ni tre lnhfwtel aseah sowil tre ejwatos ail tre fode io nivahnoi oc eiemg tessntosg nh eves wilestakei trnh exfdanih tre caut trat ni home fdaueh tre csoitnesh petyeei tre hwfeshtateh ase aspntsasg ewsahna cos examfde uowdl eahndg uoijwes tre psntnhr nhdeh yrnur ase beobsafrnuaddg fast oc ewsofe os oi tre otres rail nt yowdl pe fohhnpde cos oueaina to fwhr nth csoitnesh to tre srnie os evei to tre vnhtwda pwt trnh yowdl vnodate tre fsniunfde coddoyel oi add hnleh trowbr ieves cosmwdatel oc uwdtwsad nitebsntg nc oueaina yese to uoijwes tre aseah trat whel oiue to pe kioyi ah csaiue ail besmaig nt yowdl pe ieuehhasg entres to extesmniate tre nirapntaith a tahk oc bseat frghnuad lnccnuwdtg os to ahhnmndate a fofwdatnoi oc apowt a rwilsel mnddnoi feofde yro ho cas ah teurinuad levedofmeit boeh ase sowbrdg oi tre oueainu deved tre fsopdem nh tre hame cos add trsee hwfeshtateh nt nh aphodwtedg ieuehhasg to trens htswutwse trat trese hrowdl pe io uoitaut yntr cosenbiesh exueft to a dnmntel exteit yntr yas fsnhoiesh ail uodowsel hdaveh evei tre occnunad addg oc tre momeit nh adyagh sebaslel yntr tre laskeht hwhfnunoi yas fsnhoiesh afast tre avesabe untnqei oc oueaina ieves heth egeh oi a untnqei oc entres ewsahna os eahtahna ail re nh cospnllei tre kioydelbe oc cosenbi daibwabeh nc re yese addoyel uoitaut yntr cosenbiesh re yowdl lnhuoves trat treg ase useatwseh hnmndas to rnmhedc ail trat moht oc yrat re rah peei todl apowt trem nh dneh tre headel yosdl ni yrnur re dnveh yowdl pe psokei ail tre ceas ratsel ail hedcsnbrteowhiehh oi yrnur rnh mosade lefeilh mnbrt evafosate nt nh tresecose seadnqel oi add hnleh trat royeves octei feshna os ebgft os zava os uegdoi mag uraibe railh tre mani csoitnesh mwht ieves pe usohhel pg aigtrnib exueft pomph  wiles trnh dneh a caut ieves meitnoiel adowl pwt tauntdg wileshtool ail autel wfoi iamedg trat tre uoilntnoih oc dnce ni add trsee hwfeshtateh ase vesg mwur tre hame ni oueaina tre fsevandnib frndohofrg nh uaddel nibhou ni ewsahna nt nh uaddel ieopodhrevnhm ail ni eahtahna nt nh uaddel pg a urniehe iame whwaddg tsaihdatel ah leatryoshrnf pwt fesrafh pettes seilesel ah opdntesatnoi oc tre hedc tre untnqei oc oueaina nh iot addoyel to kioy aigtrnib oc tre teieth oc tre otres tyo frndohofrneh pwt re nh tawbrt to exeusate trem ah paspasowh owtsabeh wfoi mosadntg ail uommoi heihe autwaddg tre trsee frndohofrneh ase pasedg lnhtnibwnhrapde ail tre hounad hghtemh yrnur treg hwffost ase iot lnhtnibwnhrapde at add evesgyrese trese nh tre hame fgsamnlad htswutwse tre hame yoshrnf oc hemnlnvnie deales tre hame euoiomg exnhtnib pg ail cos uoitniwowh yascase nt coddoyh trat tre trsee hwfeshtateh iot oidg uaiiot uoijwes oie aiotres pwt yowdl bani io alvaitabe pg lonib ho oi tre uoitsasg ho doib ah treg semani ni uoicdnut treg fsof oie aiotres wf dnke trsee hreaveh oc uosi ail ah whwad tre swdnib bsowfh oc add trsee foyesh ase hnmwdtaieowhdg ayase ail wiayase oc yrat treg ase lonib trens dnveh ase lelnuatel to yosdl uoijweht pwt treg adho kioy trat nt nh ieuehhasg trat tre yas hrowdl uoitniwe evesdahtnibdg ail yntrowt vnutosg meaiyrnde tre caut trat trese nh io laibes oc uoijweht makeh fohhnpde tre leinad oc seadntg yrnur nh tre hfeunad ceatwse oc nibhou ail nth snvad hghtemh oc trowbrt rese nt nh ieuehhasg to sefeat yrat rah peei hanl easdnes trat pg peuomnib uoitniwowh yas rah cwilameitaddg uraibel nth urasautes  ni faht abeh a yas admoht pg lecnintnoi yah hometrnib trat hooies os dates uame to ai eil whwaddg ni wimnhtakapde vnutosg os leceat ni tre faht adho yas yah oie oc tre mani nihtswmeith pg yrnur rwmai hounetneh yese keft ni towur yntr frghnuad seadntg add swdesh ni add abeh rave tsnel to nmfohe a cadhe vney oc tre yosdl wfoi trens coddoyesh pwt treg uowdl iot accosl to eiuowsabe aig nddwhnoi trat teilel to nmfans mndntasg eccnuneiug ho doib ah leceat meait tre dohh oc nilefeileiue os home otres sehwdt beiesaddg redl to pe wilehnsapde tre fseuawtnoih abaniht leceat ral to pe hesnowh frghnuad cauth uowdl iot pe nbiosel ni frndohofrg os sednbnoi os etrnuh os fodntnuh tyo ail tyo mnbrt make cnve pwt yrei oie yah lehnbinib a bwi os ai aesofdaie treg ral to make cows nieccnuneit iatnoih yese adyagh uoijwesel hooies os dates ail tre htswbbde cos eccnuneiug yah ninmnuad to nddwhnoih moseoves to pe eccnuneit nt yah ieuehhasg to pe apde to deasi csom tre faht yrnur meait ravnib a cansdg auuwsate nlea oc yrat ral raffeiel ni tre faht ieyhfafesh ail rnhtosg pookh yese oc uowshe adyagh uodowsel ail pnahel pwt cadhncnuatnoi oc tre knil trat nh fsautnhel tolag yowdl rave peei nmfohhnpde yas yah a hwse hacebwasl oc haintg ail ho cas ah tre swdnib udahheh yese uoiuesiel nt yah fsopapdg tre moht nmfostait oc add hacebwaslh yrnde yash uowdl pe yoi os doht io swdnib udahh uowdl pe uomfdetedg nssehfoihnpde  pwt yrei yas peuomeh dntesaddg uoitniwowh nt adho ueaheh to pe laibesowh yrei yas nh uoitniwowh trese nh io hwur trnib ah mndntasg ieuehhntg teurinuad fsobsehh uai ueahe ail tre moht fadfapde cauth uai pe leinel os lnhsebaslel ah ye rave heei seheasureh trat uowdl pe uaddel huneitncnu ase htndd uassnel owt cos tre fwsfoheh oc yas pwt treg ase ehheitnaddg a knil oc laglseamnib ail trens candwse to hroy sehwdth nh iot nmfostait eccnuneiug evei mndntasg eccnuneiug nh io doibes ieelel iotrnib nh eccnuneit ni oueaina exueft tre trowbrt fodnue hniue eaur oc tre trsee hwfeshtateh nh wiuoijwesapde eaur nh ni ecceut a hefasate winveshe yntrni yrnur admoht aig fesveshnoi oc trowbrt uai pe hacedg fsautnhel seadntg oidg exesth nth fsehhwse trsowbr tre ieelh oc evesglag dncetre ieel to eat ail lsnik to bet hredtes ail udotrnib to avonl hyaddoynib fonhoi os hteffnib owt oc tofhtoseg yniloyh ail tre dnke petyeei dnce ail leatr ail petyeei frghnuad fdeahwse ail frghnuad fani trese nh htndd a lnhtniutnoi pwt trat nh add uwt occ csom uoitaut yntr tre owtes yosdl ail yntr tre faht tre untnqei oc oueaina nh dnke a mai ni niteshteddas hfaue yro rah io yag oc kioynib yrnur lnseutnoi nh wf ail yrnur nh loyi tre swdesh oc hwur a htate ase aphodwte ah tre frasaorh os tre uaehash uowdl iot pe treg ase opdnbel to fseveit trens coddoyesh csom htasvnib to leatr ni iwmpesh dasbe eiowbr to pe niuoiveineit ail treg ase opdnbel to semani at tre hame doy deved oc mndntasg teurinjwe ah trens snvadh pwt oiue trat mninmwm nh aurnevel treg uai tynht seadntg nito yrateves hrafe treg uroohe  tre yas tresecose nc ye zwlbe nt pg tre htailaslh oc fsevnowh yash nh mesedg ai nmfohtwse nt nh dnke tre pattdeh petyeei uestani swmniait ainmadh yrohe rosih ase het at hwur ai aibde trat treg ase niuafapde oc rwstnib oie aiotres pwt trowbr nt nh wisead nt nh iot meainibdehh nt eath wf tre hwsfdwh oc uoihwmapde boolh ail nt redfh to fsehesve tre hfeunad meitad atmohfrese trat a rnesasurnuad hounetg ieelh yas nt yndd pe heei nh ioy a fwsedg nitesiad accans ni tre faht tre swdnib bsowfh oc add uowitsneh adtrowbr treg mnbrt seuobinqe trens uommoi niteseht ail tresecose dnmnt tre lehtswutnveiehh oc yas lnl cnbrt abaniht oie aiotres ail tre vnutos adyagh fdwilesel tre vaijwnhrel ni ows oyi lag treg ase iot cnbrtnib abaniht oie aiotres at add tre yas nh yabel pg eaur swdnib bsowf abaniht nth oyi hwpzeuth ail tre opzeut oc tre yas nh iot to make os fseveit uoijwehth oc tessntosg pwt to keef tre htswutwse oc hounetg nitaut tre vesg yosl yas tresecose rah peuome mnhdealnib nt yowdl fsopapdg pe auuwsate to hag trat pg peuomnib uoitniwowh yas rah ueahel to exnht tre feuwdnas fsehhwse trat nt exestel oi rwmai penibh petyeei tre ieodntrnu abe ail tre easdg tyeitnetr ueitwsg rah lnhaffeasel ail peei sefdauel pg hometrnib jwnte lncceseit tre ecceut yowdl pe mwur tre hame nc tre trsee hwfeshtateh nihteal oc cnbrtnib oie aiotres hrowdl absee to dnve ni fesfetwad feaue eaur nivnodate yntrni nth oyi powilasneh cos ni trat uahe eaur yowdl htndd pe a hedcuoitaniel winveshe cseel cos eves csom tre hopesnib nicdweiue oc extesiad laibes a feaue trat yah tswdg fesmaieit yowdl pe tre hame ah a fesmaieit yas trnhadtrowbr tre vaht mazosntg oc fastg mempesh wileshtail nt oidg ni a hraddoyes heihenh tre niies meainib oc tre fastg hdobai yas nh feaue   ynihtoi htoffel sealnib cos a momeit homeyrese ni semote lnhtaiue a souket pomp trwilesel tre pdnhhcwd ceednib oc penib adoie yntr tre cospnllei pook ni a soom yntr io tedehuseei ral iot yosi occ hodntwle ail hacetg yese frghnuad heihatnoih mnxel wf homeroy yntr tre tnseliehh oc rnh polg tre hoctiehh oc tre urans tre towur oc tre canit pseeqe csom tre yniloy trat fdagel wfoi rnh ureek tre pook cahuniatel rnm os mose exautdg nt seahhwsel rnm ni a heihe nt todl rnm iotrnib trat yah iey pwt trat yah fast oc tre attsautnoi nt hanl yrat re yowdl rave hanl nc nt ral peei fohhnpde cos rnm to het rnh huattesel trowbrth ni osles nt yah tre fsolwut oc a mnil hnmndas to rnh oyi pwt eiosmowhdg mose foyescwd mose hghtematnu dehh ceassnllei tre peht pookh re fesuenvel ase trohe trat tedd gow yrat gow kioy adsealg re ral zwht twsiel pauk to uraftes n yrei re reasl zwdnah coothtef oi tre htans ail htastel owt oc rnh urans to meet res hre lwmfel res psoyi toodpab oi tre cdoos ail cdwib reshedc nito rnh asmh nt yah mose trai a yeek hniue treg ral heei oie aiotres  nve bot tre pook re hanl ah treg lnheitaibdel tremhedveh  or gowve bot nt bool hre hanl yntrowt mwur niteseht ail admoht nmmelnatedg kiedt loyi pehnle tre ond htove to make tre uoccee  treg lnl iot setwsi to tre hwpzeut witnd treg ral peei ni pel cos radc ai rows tre eveinib yah zwht uood eiowbr to make nt yostr yrnde to fwdd wf tre uowitesfaie csom pedoy uame tre camndnas howil oc hnibnib ail tre husafe oc pooth oi tre cdabhtoieh tre psayig selasmel yomai yrom ynihtoi ral heei trese oi rnh cnsht vnhnt yah admoht a cnxtwse ni tre gasl trese heemel to pe io rows oc lagdnbrt yrei hre yah iot masurnib to ail cso petyeei tre yahrtwp ail tre dnie adtesiatedg babbnib reshedc yntr udotreh febh ail pseaknib costr nito dwhtg hoib zwdna ral hettdel loyi oi res hnle ail heemel to pe adsealg oi tre fonit oc caddnib ahdeef re seaurel owt cos tre pook yrnur yah dgnib oi tre cdoos ail hat wf abaniht tre pelreal  ye mwht seal nt re hanl gow too add mempesh oc tre psotresrool rave to seal nt  gow seal nt hre hanl yntr res egeh hrwt seal nt adowl trath tre peht yag trei gow uai exfdani nt to me ah gow bo  tre udoukh railh hanl hnx meainib enbrteei treg ral trsee os cows rowsh areal oc trem re fsoffel tre pook abaniht rnh kieeh ail pebai sealnib   uraftes n nbiosaiue nh htseibtr  trsowbrowt seuoslel tnme ail fsopapdg hniue tre eil oc tre ieodntrnu abe trese rave peei trsee knilh oc feofde ni tre yosdl tre rnbr tre mnllde ail tre doy treg rave peei hwplnvnlel ni maig yagh treg rave posie uowitdehh lncceseit iameh ail trens sedatnve iwmpesh ah yedd ah trens attntwle toyaslh oie aiotres rave vasnel csom abe to abe pwt tre ehheitnad htswutwse oc hounetg rah ieves adtesel evei actes eiosmowh wfreavadh ail heemnibdg nssevouapde uraibeh tre hame fattesi rah adyagh seahhestel nthedc zwht ah a bgsohuofe yndd adyagh setwsi to ejwndnpsnwm royeves cas nt nh fwhrel oie yag os tre otres   zwdna ase gow ayake hanl ynihtoi  geh mg dove nm dnhteinib bo oi nth masveddowh  re uoitniwel sealnib   tre anmh oc trehe trsee bsowfh ase eitnsedg nsseuoiundapde tre anm oc tre rnbr nh to semani yrese treg ase tre anm oc tre mnllde nh to uraibe fdaueh yntr tre rnbr tre anm oc tre doy yrei treg rave ai anmcos nt nh ai apnlnib urasautesnhtnu oc tre doy trat treg ase too mwur uswhrel pg lswlbesg to pe mose trai nitesmntteitdg uoihunowh oc aigtrnib owthnle trens landg dnvehnh to apodnhr add lnhtniutnoih ail useate a hounetg ni yrnur add mei hradd pe ejwad trwh trsowbrowt rnhtosg a htswbbde yrnur nh tre hame ni nth mani owtdnieh seuwsh oves ail oves abani cos doib fesnolh tre rnbr heem to pe heuwsedg ni foyes pwt hooies os dates trese adyagh uomeh a momeit yrei treg dohe entres trens pednec ni tremhedveh os trens uafauntg to bovesi eccnuneitdg os potr treg ase trei ovestrsoyi pg tre mnllde yro eidnht tre doy oi trens hnle pg fseteilnib to trem trat treg ase cnbrtnib cos dnpestg ail zwhtnue ah hooi ah treg rave seaurel trens opzeutnve tre mnllde trswht tre doy pauk nito trens odl fohntnoi oc hesvntwle ail tremhedveh peuome tre rnbr fseheitdg a iey mnllde bsowf hfdnth occ csom oie oc tre otres bsowfh os csom potr oc trem ail tre htswbbde pebnih oves abani oc tre trsee bsowfh oidg tre doy ase ieves evei temfosasndg hwuuehhcwd ni aurnevnib trens anmh nt yowdl pe ai exabbesatnoi to hag trat trsowbrowt rnhtosg trese rah peei io fsobsehh oc a matesnad knil evei tolag ni a fesnol oc leudnie tre avesabe rwmai penib nh frghnuaddg pettes occ trai re yah a cey ueitwsneh abo pwt io alvaiue ni yeadtr io hocteinib oc maiiesh io secosm os sevodwtnoi rah eves psowbrt rwmai ejwadntg a mnddnmetse ieases csom tre fonit oc vney oc tre doy io rnhtosnu uraibe rah eves meait mwur mose trai a uraibe ni tre iame oc trens mahtesh  pg tre date inieteeitr ueitwsg tre seuwsseiue oc trnh fattesi ral peuome opvnowh to maig ophesvesh trese trei sohe huroodh oc trnikesh yro nitesfsetel rnhtosg ah a ugudnuad fsouehh ail udanmel to hroy trat niejwadntg yah tre wiadtesapde day oc rwmai dnce trnh loutsnie oc uowshe ral adyagh ral nth alreseith pwt ni tre maiies ni yrnur nt yah ioy fwt cosyasl trese yah a hnbincnuait uraibe ni tre faht tre ieel cos a rnesasurnuad cosm oc hounetg ral peei tre loutsnie hfeuncnuaddg oc tre rnbr nt ral peei fseaurel pg knibh ail asnhtousath ail pg tre fsnehth daygesh ail tre dnke yro yese fasahntnuad wfoi trem ail nt ral beiesaddg peei hocteiel pg fsomnheh oc uomfeihatnoi ni ai nmabniasg yosdl pegoil tre bsave tre mnllde ho doib ah nt yah htswbbdnib cos foyes ral adyagh male whe oc hwur tesmh ah cseelom zwhtnue ail csatesintg ioy royeves tre uoiueft oc rwmai psotresrool pebai to pe ahhandel pg feofde yro yese iot get ni fohntnoih oc uommail pwt mesedg rofel to pe ho pecose doib ni tre faht tre mnllde ral male sevodwtnoih wiles tre paiies oc ejwadntg ail trei ral ehtapdnhrel a csehr tgsaiig ah hooi ah tre odl oie yah ovestrsoyi tre iey mnllde bsowfh ni ecceut fsoudanmel trens tgsaiig pecoserail hounadnhm a treosg yrnur affeasel ni tre easdg inieteeitr ueitwsg ail yah tre daht dnik ni a urani oc trowbrt htseturnib pauk to tre hdave sepeddnoih oc aitnjwntg yah htndd leefdg niceutel pg tre wtofnainhm oc faht abeh pwt ni eaur vasnait oc hounadnhm trat affeasel csom apowt  oiyaslh tre anm oc ehtapdnhrnib dnpestg ail ejwadntg yah mose ail mose ofeidg apailoiel tre iey movemeith yrnur affeasel ni tre mnllde geash oc tre ueitwsg nibhou ni oueaina ieopodhrevnhm ni ewsahna leatryoshrnf ah nt nh uommoidg uaddel ni eahtahna ral tre uoihunowh anm oc fesfetwatnib wicseelom ail niejwadntg trehe iey movemeith oc uowshe bsey owt oc tre odl oieh ail teilel to keef trens iameh ail fag dnfhesvnue to trens nleodobg pwt tre fwsfohe oc add oc trem yah to asseht fsobsehh ail cseeqe rnhtosg at a urohei momeit tre camndnas feilwdwm hynib yah to raffei oiue mose ail trei htof ah whwad tre rnbr yese to pe twsiel owt pg tre mnllde yro yowdl trei peuome tre rnbr pwt trnh tnme pg uoihunowh htsatebg tre rnbr yowdl pe apde to manitani trens fohntnoi fesmaieitdg  tre iey loutsnieh asohe fastdg peuawhe oc tre auuwmwdatnoi oc rnhtosnuad kioydelbe ail tre bsoytr oc tre rnhtosnuad heihe yrnur ral rasldg exnhtel pecose tre inieteeitr ueitwsg tre ugudnuad movemeit oc rnhtosg yah ioy niteddnbnpde os affeasel to pe ho ail nc nt yah niteddnbnpde trei nt yah adtesapde pwt tre fsniunfad wilesdgnib uawhe yah trat ah easdg ah tre pebniinib oc tre tyeitnetr ueitwsg rwmai ejwadntg ral peuome teurinuaddg fohhnpde nt yah htndd tswe trat mei yese iot ejwad ni trens iatnve tadeith ail trat cwiutnoih ral to pe hfeunadnqel ni yagh trat cavowsel home nilnvnlwadh abaniht otresh pwt trese yah io doibes aig sead ieel cos udahh lnhtniutnoih os cos dasbe lncceseiueh oc yeadtr ni easdnes abeh udahh lnhtniutnoih ral peei iot oidg nievntapde pwt lehnsapde niejwadntg yah tre fsnue oc unvndnqatnoi yntr tre levedofmeit oc maurnie fsolwutnoi royeves tre uahe yah adtesel evei nc nt yah htndd ieuehhasg cos rwmai penibh to lo lncceseit knilh oc yosk nt yah io doibes ieuehhasg cos trem to dnve at lncceseit hounad os euoiomnu devedh tresecose csom tre fonit oc vney oc tre iey bsowfh yro yese oi tre fonit oc henqnib foyes rwmai ejwadntg yah io doibes ai nlead to pe htsnvei actes pwt a laibes to pe avestel ni mose fsnmntnve abeh yrei a zwht ail feauecwd hounetg yah ni caut iot fohhnpde nt ral peei cansdg eahg to pedneve nt tre nlea oc ai eastrdg fasalnhe ni yrnur mei hrowdl dnve tobetres ni a htate oc psotresrool yntrowt dayh ail yntrowt pswte dapows ral rawitel tre rwmai nmabniatnoi cos trowhailh oc geash ail trnh vnhnoi ral ral a uestani rodl evei oi tre bsowfh yro autwaddg fsocntel pg eaur rnhtosnuad uraibe tre rensh oc tre cseiur eibdnhr ail amesnuai sevodwtnoih ral fastdg pednevel ni trens oyi frsaheh apowt tre snbrth oc mai cseelom oc hfeeur ejwadntg pecose tre day ail tre dnke ail rave evei addoyel trens uoilwut to pe nicdweiuel pg trem to home exteit pwt pg tre cowstr leuale oc tre tyeitnetr ueitwsg add tre mani uwsseith oc fodntnuad trowbrt yese awtrosntasnai tre eastrdg fasalnhe ral peei lnhuselntel at exautdg tre momeit yrei nt peuame seadnqapde evesg iey fodntnuad treosg pg yrateves iame nt uaddel nthedc del pauk to rnesasurg ail sebnmeitatnoi ail ni tre beiesad rasleinib oc owtdook trat het ni sowil apowt  fsautnueh yrnur ral peei doib apailoiel ni home uaheh cos rwilselh oc geashnmfsnhoimeit yntrowt tsnad tre whe oc yas fsnhoiesh ah hdaveh fwpdnu exeuwtnoih tostwse to extsaut uoicehhnoih tre whe oc rohtabeh ail tre lefostatnoi oc yrode fofwdatnoihiot oidg peuame uommoi abani pwt yese todesatel ail evei leceilel pg feofde yro uoihnlesel tremhedveh eidnbrteiel ail fsobsehhnve  nt yah oidg actes a leuale oc iatnoiad yash unvnd yash sevodwtnoih ail uowitessevodwtnoih ni add fasth oc tre yosdl trat nibhou ail nth snvadh emesbel ah cwddg yoskelowt fodntnuad treosneh pwt treg ral peei cosehraloyel pg tre vasnowh hghtemh beiesaddg uaddel totadntasnai yrnur ral affeasel easdnes ni tre ueitwsg ail tre mani owtdnieh oc tre yosdl yrnur yowdl emesbe csom tre fsevandnib uraoh ral doib peei opvnowh yrat knil oc feofde yowdl uoitsod trnh yosdl ral peei ejwaddg opvnowh tre iey asnhtousaug yah male wf cos tre moht fast oc pwseawusath huneitnhth teurinunaih tsalewinoi osbainqesh fwpdnuntg exfesth hounodobnhth teauresh zowsiadnhth ail fsocehhnoiad fodntnunaih trehe feofde yrohe osnbnih dag ni tre hadasnel mnllde udahh ail tre wffes bsaleh oc tre yosknib udahh ral peei hrafel ail psowbrt tobetres pg tre passei yosdl oc moiofodg nilwhtsg ail ueitsadnqel bovesimeit ah uomfasel yntr trens offohnte iwmpesh ni faht abeh treg yese dehh avasnunowh dehh temftel pg dwxwsg rwibsnes cos fwse foyes ail apove add mose uoihunowh oc yrat treg yese lonib ail mose niteit oi uswhrnib offohntnoi trnh daht lncceseiue yah uaslniad pg uomfasnhoi yntr trat exnhtnib tolag add tre tgsaiineh oc tre faht yese radcreastel ail nieccnuneit tre swdnib bsowfh yese adyagh niceutel to home exteit pg dnpesad nleah ail yese uoiteit to deave doohe eilh evesgyrese to sebasl oidg tre ovest aut ail to pe winitesehtel ni yrat trens hwpzeuth yese trniknib evei tre uatrodnu urwsur oc tre mnllde abeh yah todesait pg molesi htailaslh fast oc tre seahoi cos trnh yah trat ni tre faht io bovesimeit ral tre foyes to keef nth untnqeih wiles uoihtait hwsvenddaiue tre niveitnoi oc fsnit royeves male nt eahnes to mainfwdate fwpdnu ofninoi ail tre cndm ail tre salno uassnel tre fsouehh cwstres yntr tre levedofmeit oc tedevnhnoi ail tre teurinuad alvaiue yrnur male nt fohhnpde to seuenve ail tsaihmnt hnmwdtaieowhdg oi tre hame nihtswmeit fsnvate dnce uame to ai eil evesg untnqei os at deaht evesg untnqei nmfostait eiowbr to pe yostr yaturnib uowdl pe keft cos tyeitgcows rowsh a lag wiles tre egeh oc tre fodnue ail ni tre howil oc occnunad fsofabaila yntr add otres uraiiedh oc uommwinuatnoi udohel tre fohhnpndntg oc eicosunib iot oidg uomfdete opelneiue to tre yndd oc tre htate pwt uomfdete wincosmntg oc ofninoi oi add hwpzeuth ioy exnhtel cos tre cnsht tnme  actes tre sevodwtnoiasg fesnol oc tre cnctneh ail hnxtneh hounetg sebsowfel nthedc ah adyagh nito rnbr mnllde ail doy pwt tre iey rnbr bsowf widnke add nth coseswiiesh lnl iot aut wfoi nihtniut pwt kiey yrat yah ieelel to hacebwasl nth fohntnoi nt ral doib peei seadnqel trat tre oidg heuwse pahnh cos odnbasurg nh uoddeutnvnhm yeadtr ail fsnvndebe ase moht eahndg leceilel yrei treg ase fohhehhel zonitdg tre houaddel apodntnoi oc fsnvate fsofestg yrnur took fdaue ni tre mnllde geash oc tre ueitwsg meait ni ecceut tre uoiueitsatnoi oc fsofestg ni cas ceyes railh trai pecose pwt yntr trnh lncceseiue trat tre iey oyiesh yese a bsowf nihteal oc a mahh oc nilnvnlwadh nilnvnlwaddg io mempes oc tre fastg oyih aigtrnib exueft fet'"
      ]
     },
     "execution_count": 12,
     "metadata": {},
     "output_type": "execute_result"
    }
   ],
   "source": [
    "mono_decrypt(encrypted_sampled_data, characters, inferred_key)"
   ]
  },
  {
   "cell_type": "markdown",
   "metadata": {},
   "source": [
    "We can see that some words are easily readable to the human eye. In fact, we have guessed quite a lot of information just by looking at the ciphertext and this is dangerous!. If the attacker keeps on gathering encrypted messages in between Alice and Bob, he'll gather a lot of information and eventually will be able to find the key."
   ]
  }
 ],
 "metadata": {
  "kernelspec": {
   "display_name": "Python 3",
   "language": "python",
   "name": "python3"
  },
  "language_info": {
   "codemirror_mode": {
    "name": "ipython",
    "version": 3
   },
   "file_extension": ".py",
   "mimetype": "text/x-python",
   "name": "python",
   "nbconvert_exporter": "python",
   "pygments_lexer": "ipython3",
   "version": "3.7.5"
  }
 },
 "nbformat": 4,
 "nbformat_minor": 4
}
