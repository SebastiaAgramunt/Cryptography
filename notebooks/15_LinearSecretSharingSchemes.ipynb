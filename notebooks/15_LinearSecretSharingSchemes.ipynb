{
 "cells": [
  {
   "cell_type": "markdown",
   "metadata": {},
   "source": [
    "# Linear Secret Sharing Schemes (a.k.a LSSS)\n",
    "\n",
    "In the past two notebooks we have seen two secret sharing schemes, first one is additive secret sharing (where we defined sum and product) and Shamir secret sharing based on polynomial reconstruction. We didn't define product in this last one but don't worry we'll do soon.\n",
    "\n",
    "Additive secret sharing and Shamir secret sharing are part of a group of secret sharing schemes called linear secret sharing shemes (LSSS) because they can be formalised using linear algebra. Before defining LSSS formally let's reformulate the additive secret sharing.\n",
    "\n",
    "As we defined previously a $(t, n)$ threshold secret sharing scheme is a method for $n$ parties to carry shares of\n",
    "a message s such that any $t$ of the them to reconstruct the message, but so that no $t − 1$\n",
    "of them can easy do so. The threshold scheme is perfect if knowledge of $t − 1$ or fewer\n",
    "shares provides no information regarding $s$.\n",
    "\n",
    "Warning!!: In all the section all arithmetics will be modulo prime $p$ chosen. Sums, products and inverses are modulo $p$. To avoid repetition I will omit $\\pmod{p}$ in all operations, but it is implicit.\n",
    "\n",
    "\n",
    "## Linear reformulation of additive secret sharing\n",
    "\n",
    "Remember that in this scheme the data holder splits the secret into $n$ random shares whose sum modulo $p$ is the original secret.\n",
    "\n",
    "$$s = s_0+s_1+\\cdots s_n=\\sum_{i=0}^{i=n}s_i$$\n",
    "\n",
    "For this case we define the identity matrix \n",
    "\n",
    "$$\n",
    "\\begin{align}\n",
    "M = \\mathbb{1}^{n\\times n} =\n",
    "\\begin{bmatrix} \n",
    "    1 & 0 & \\dots & 0\\\\\n",
    "    0 & 1 & \\dots & 0\\\\\n",
    "    \\vdots &  & \\ddots & \\vdots\\\\\n",
    "    0 & 0 & \\dots & 1\\\\\n",
    "    \\end{bmatrix}\n",
    "\\end{align}\n",
    "$$ \n",
    "\n",
    "This is a matrix with diagonal ones and the rest zero. If we multipy any vector of size $n$ by this matrix we get the same vector. Actually this matrix lives in the space $\\mathbb{F}^{n\\times n}_{p}$ where $p$ is the agreed prime number.\n",
    "\n",
    "We define a vector $\\mathbf{v}$ of size $n$ and only ones in its entries\n",
    "\n",
    "$$\n",
    "\\begin{align}\n",
    "\\textbf{v} = \n",
    "\\begin{bmatrix} \n",
    "    1\\\\\n",
    "    1\\\\\n",
    "    \\vdots \\\\\n",
    "    1 \\\\\n",
    "    \\end{bmatrix}\n",
    "\\in \\mathbb{F}^{n}_p\n",
    "\\end{align}\n",
    "$$ \n",
    "\n",
    "A vector $\\textbf{k}$ of random numbers and accomplishing property that when we sum all coefficcients and apply modulo we get the secret (same as the previous defined $s$ but remember we are reformulating the sscheme. \n",
    "\n",
    "$$\n",
    "\\begin{align}\n",
    "\\textbf{k} = \n",
    "\\begin{bmatrix} \n",
    "    k_0\\\\\n",
    "    k_1\\\\\n",
    "    \\vdots \\\\\n",
    "    k_{n-1} \\\\\n",
    "    \\end{bmatrix}\n",
    "\\in \\mathbb{F}^{n}_p\n",
    ", s.t. \\sum_{i=0}^{n-1}k_i = s\n",
    "\\end{align}\n",
    "$$ \n",
    "\n",
    "With this defined we can get the vector of shares as:\n",
    "\n",
    "$$\n",
    "\\begin{align}\n",
    "\\textbf{s} = \n",
    "\\begin{bmatrix} \n",
    "    s_0\\\\\n",
    "    s_1\\\\\n",
    "    \\vdots \\\\\n",
    "    s_{n-1} \\\\\n",
    "    \\end{bmatrix}\n",
    "=\n",
    "\\begin{bmatrix} \n",
    "    k_0\\\\\n",
    "    k_1\\\\\n",
    "    \\vdots \\\\\n",
    "    k_{n-1} \\\\\n",
    "    \\end{bmatrix}\n",
    "=M\\textbf{k}\n",
    "\\end{align}\n",
    "$$ \n",
    "\n",
    "And recover the secret with the scalar product:\n",
    "\n",
    "$$s = \\textbf{v}^t \\cdot \\textbf{k} = k_0+k_1+\\cdots+k_{n-1} $$\n",
    "\n",
    "As always I've coded this. This time in a class called AdditiveLSSS"
   ]
  },
  {
   "cell_type": "code",
   "execution_count": 1,
   "metadata": {},
   "outputs": [
    {
     "name": "stdout",
     "output_type": "stream",
     "text": [
      "Chosen random prime 3244611641\n",
      "number of parties to split the secret is 5\n",
      "Random secret chosen 844054145\n"
     ]
    }
   ],
   "source": [
    "from smpc import AdditiveLSSS\n",
    "from random import seed, randrange\n",
    "\n",
    "seed(5)\n",
    "\n",
    "bits = 32\n",
    "parties = 5\n",
    "scheme = AdditiveLSSS(n=parties, size=bits)\n",
    "\n",
    "print(f\"Chosen random prime {scheme.p}\")\n",
    "print(f\"number of parties to split the secret is {scheme.n}\")\n",
    "\n",
    "# just not to put secret 10 we generate one random\n",
    "secret = randrange(0, scheme.p)\n",
    "print(f\"Random secret chosen {secret}\")"
   ]
  },
  {
   "cell_type": "markdown",
   "metadata": {},
   "source": [
    "We get the vector k by setting the secret into the object"
   ]
  },
  {
   "cell_type": "code",
   "execution_count": 2,
   "metadata": {},
   "outputs": [
    {
     "name": "stdout",
     "output_type": "stream",
     "text": [
      "Generated k=[ 511189398 1056934719 1985156919 1479108632 2300887759]\n"
     ]
    }
   ],
   "source": [
    "scheme.secret = secret\n",
    "print(f\"Generated k={scheme.k}\")"
   ]
  },
  {
   "cell_type": "markdown",
   "metadata": {},
   "source": [
    "But every time we call the function generate we will generate and store the new shares of $\\textbf{k}$"
   ]
  },
  {
   "cell_type": "code",
   "execution_count": 3,
   "metadata": {},
   "outputs": [
    {
     "name": "stdout",
     "output_type": "stream",
     "text": [
      "Generating new random shares\n",
      "Generated k=[2201153626 1523825202 2253577168 1077581322  277140109]\n",
      "whose sum modulo p is 844054145 secret is 844054145\n",
      "\n"
     ]
    }
   ],
   "source": [
    "print(\"Generating new random shares\")\n",
    "scheme.GenerateK()\n",
    "print(f\"Generated k={scheme.k}\")\n",
    "print(f\"whose sum modulo p is {int(sum(scheme.k)%scheme.p)} secret is {secret}\\n\")\n"
   ]
  },
  {
   "cell_type": "markdown",
   "metadata": {},
   "source": [
    "We regenerate again and show the shares each client is going to get"
   ]
  },
  {
   "cell_type": "code",
   "execution_count": 4,
   "metadata": {},
   "outputs": [
    {
     "name": "stdout",
     "output_type": "stream",
     "text": [
      "Generated k=[1987924596  464083540 2533014395 3214345152 2378521385]\n",
      "Dictonary of shares: {0: [1987924596], 1: [464083540], 2: [2533014395], 3: [3214345152], 4: [2378521385]}\n",
      "whose sum modulo p is 844054145 secret is 844054145\n"
     ]
    }
   ],
   "source": [
    "scheme.GenerateK()\n",
    "print(f\"Generated k={scheme.k}\")\n",
    "print(f\"Dictonary of shares: {scheme.GetShares()}\")\n",
    "print(f\"whose sum modulo p is {int(sum(scheme.k)%scheme.p)} secret is {secret}\")"
   ]
  },
  {
   "cell_type": "markdown",
   "metadata": {},
   "source": [
    "The recovery of the shares is coded in the same object"
   ]
  },
  {
   "cell_type": "code",
   "execution_count": 5,
   "metadata": {},
   "outputs": [
    {
     "name": "stdout",
     "output_type": "stream",
     "text": [
      "The recovered secret is 844054145\n"
     ]
    }
   ],
   "source": [
    "assert secret==scheme.RevealSecret(), \"Something went wrong, secret incorrectly recovered\"\n",
    "print(f\"The recovered secret is {scheme.RevealSecret()}\")"
   ]
  },
  {
   "cell_type": "markdown",
   "metadata": {},
   "source": [
    "## Linear reformulation of Shamir secret sharing\n",
    "\n",
    "It is possible to formulate Shamir secret sharing in the LSSS. Let's define the polynomial and the parameters. The polynomial is \n",
    "\n",
    "$$\n",
    "f(x)=a_0+a_1x+a_2x^2+\\cdots+a_{t-1}x^{t-1}\n",
    "$$\n",
    "\n",
    "Where $a_0$ is the secret and we need at least $n=t$ shares to reconstruct perfectly the polynomial and thus get the secret.\n",
    "\n",
    "The matrix $M$ in this LSSS is now the matrix of the evaluation of $1$, $x$, $x^2, \\cdots, x^{t-1}$ for the values of $x$ from 1 until $n$.\n",
    "\n",
    "$$\n",
    "\\begin{align}\n",
    "M^{n\\times t} = \n",
    "\\begin{bmatrix} \n",
    "    1 & 1 & \\dots & 1^{t-1}\\\\\n",
    "    1 & 2 & \\dots & 2^{t-1}\\\\\n",
    "    \\vdots &  &  & \\vdots\\\\\n",
    "    1 & n & \\dots & n^{t-1}\\\\\n",
    "    \\end{bmatrix}\n",
    "\\end{align}\n",
    "$$ \n",
    "i.e. this is a matrix $\\mathbb{F}^{n\\times t}$. Then, $\\textbf{v}$ is \n",
    "\n",
    "$$\n",
    "\\begin{align}\n",
    "\\textbf{v} = \n",
    "\\begin{bmatrix} \n",
    "    1\\\\\n",
    "    0\\\\\n",
    "    \\vdots \\\\\n",
    "    0 \\\\\n",
    "    \\end{bmatrix}\n",
    "\\in \\mathbb{F}^t_p\n",
    "\\end{align}\n",
    "$$\n",
    "\n",
    "The vector $\\textbf{k}$ must be generated as we did with Shamir shceme, this is $f(0)=a_0=s$, the rest of the coefficients are completely random. \n",
    "\n",
    "$$\n",
    "\\begin{align}\n",
    "\\textbf{k} = \n",
    "\\begin{bmatrix} \n",
    "    a_0\\\\\n",
    "    a_1\\\\\n",
    "    \\vdots \\\\\n",
    "    a_{t-1} \\\\\n",
    "    \\end{bmatrix}\n",
    "\\in \\mathbb{F}^{t}_p\n",
    ", s.t. a_0 = s\n",
    "\\end{align}\n",
    "$$ \n",
    "\n",
    "The shares are\n",
    "\n",
    "$$\n",
    "\\begin{align}\n",
    "\\textbf{S}=M\\textbf{k}=\n",
    "\\begin{bmatrix}\n",
    "  a_{0}+a_{1}+a_2+\\cdots+a_{t-1} \\\\\n",
    "  a_{0}+2a_1+4a_2+\\cdots+2^{t-1}a_{t-1}  \\\\\n",
    "  \\vdots \\\\\n",
    "  a_{0}+na_1+n^2a_2+\\cdots+n^{t-1}a_{t-1}\n",
    "\\end{bmatrix}\n",
    "=\n",
    "\\begin{bmatrix}\n",
    "  f(1) \\\\\n",
    "  f(2)  \\\\\n",
    "  \\vdots \\\\\n",
    "  f(n)\n",
    "\\end{bmatrix}\n",
    "\\end{align}\n",
    "$$        \n",
    "         \n",
    "This is, the shares are the polynomial evaluated at points $x=1, 2, \\cdots, n$. Obviously we are not going to send $f(0)$ to any party since it is our secret.\n",
    "\n",
    "The secret is revealed as\n",
    "\n",
    "$$s = \\textbf{v}^t\\textbf{k}=a_0=s$$\n",
    "\n",
    "Following, the implementation in code"
   ]
  },
  {
   "cell_type": "code",
   "execution_count": 6,
   "metadata": {},
   "outputs": [
    {
     "name": "stdout",
     "output_type": "stream",
     "text": [
      "Chosen random prime 4095423053\n",
      "number of parties to split the secret is 5, threshold 2\n",
      "Random secret chosen 1554902337\n"
     ]
    }
   ],
   "source": [
    "from smpc import ShamirLSSS\n",
    "\n",
    "bits = 32\n",
    "n = 5 #number of parties\n",
    "t = 2 #Degree of polynomial, we need t+1 ponints to reconstruct\n",
    "\n",
    "scheme = ShamirLSSS(n=n, t=t, size=bits)\n",
    "\n",
    "print(f\"Chosen random prime {scheme.p}\")\n",
    "print(f\"number of parties to split the secret is {scheme.n}, threshold {t}\")\n",
    "\n",
    "# just not to put secret 10 we generate one random\n",
    "secret = randrange(0, scheme.p)\n",
    "print(f\"Random secret chosen {secret}\")"
   ]
  },
  {
   "cell_type": "code",
   "execution_count": 7,
   "metadata": {},
   "outputs": [
    {
     "name": "stdout",
     "output_type": "stream",
     "text": [
      "Generated k=[1554902337 3085772251  179794653]\n"
     ]
    }
   ],
   "source": [
    "scheme.secret = secret\n",
    "print(f\"Generated k={scheme.k}\")"
   ]
  },
  {
   "cell_type": "code",
   "execution_count": 8,
   "metadata": {},
   "outputs": [
    {
     "name": "stdout",
     "output_type": "stream",
     "text": [
      "Generated k=[1554902337 3085772251  179794653]\n",
      "Dictonary of shares: {0: [4820469241], 1: [8445625451], 2: [12430370967], 3: [16774705789], 4: [21478629917]}\n"
     ]
    }
   ],
   "source": [
    "print(f\"Generated k={scheme.k}\")\n",
    "print(f\"Dictonary of shares: {scheme.GetShares()}\")"
   ]
  },
  {
   "cell_type": "code",
   "execution_count": 9,
   "metadata": {},
   "outputs": [
    {
     "name": "stdout",
     "output_type": "stream",
     "text": [
      "The recovered secret is 1554902337\n"
     ]
    }
   ],
   "source": [
    "assert secret==scheme.RevealSecret(), \"Something went wrong, secret incorrectly recovered\"\n",
    "print(f\"The recovered secret is {scheme.RevealSecret()}\")"
   ]
  },
  {
   "cell_type": "markdown",
   "metadata": {},
   "source": [
    "## Linear reformulation of Replicated Secret Sharing"
   ]
  },
  {
   "cell_type": "code",
   "execution_count": 10,
   "metadata": {},
   "outputs": [
    {
     "name": "stdout",
     "output_type": "stream",
     "text": [
      "Chosen random prime 2702220557\n",
      "number of parties to split the secret is 3, threshold 2\n",
      "Random secret chosen 462141184\n"
     ]
    }
   ],
   "source": [
    "from smpc import ReplicatedLSSS\n",
    "\n",
    "bits = 32\n",
    "\n",
    "scheme = ReplicatedLSSS(size=bits)\n",
    "\n",
    "print(f\"Chosen random prime {scheme.p}\")\n",
    "print(f\"number of parties to split the secret is {scheme.n}, threshold {t}\")\n",
    "\n",
    "# just not to put secret 10 we generate one random\n",
    "secret = randrange(0, scheme.p)\n",
    "print(f\"Random secret chosen {secret}\")"
   ]
  },
  {
   "cell_type": "code",
   "execution_count": 11,
   "metadata": {},
   "outputs": [
    {
     "name": "stdout",
     "output_type": "stream",
     "text": [
      "Generated k=[2343301041  821108895 2702172362]\n",
      "Dictonary of shares: {0: [821108895, 2702172362], 1: [2343301041, 2702172362], 2: [2343301041, 821108895]}\n"
     ]
    }
   ],
   "source": [
    "scheme.secret = secret\n",
    "print(f\"Generated k={scheme.k}\")\n",
    "print(f\"Dictonary of shares: {scheme.GetShares()}\")"
   ]
  },
  {
   "cell_type": "markdown",
   "metadata": {},
   "source": [
    "See that now each party gets two shares and some of them are repated. "
   ]
  },
  {
   "cell_type": "code",
   "execution_count": 12,
   "metadata": {},
   "outputs": [
    {
     "name": "stdout",
     "output_type": "stream",
     "text": [
      "True\n",
      "True\n"
     ]
    }
   ],
   "source": [
    "print(scheme.GetShares()[0][0]==scheme.GetShares()[2][1])\n",
    "print(scheme.GetShares()[0][1]==scheme.GetShares()[1][1])"
   ]
  },
  {
   "cell_type": "markdown",
   "metadata": {},
   "source": [
    "Again we can regenerate the K's and recompute the different shares"
   ]
  },
  {
   "cell_type": "code",
   "execution_count": 13,
   "metadata": {},
   "outputs": [
    {
     "data": {
      "text/plain": [
       "{0: [1845420870, 1256403922],\n",
       " 1: [62536949, 1256403922],\n",
       " 2: [62536949, 1845420870]}"
      ]
     },
     "execution_count": 13,
     "metadata": {},
     "output_type": "execute_result"
    }
   ],
   "source": [
    "scheme.GenerateK()\n",
    "scheme.GetShares()"
   ]
  },
  {
   "cell_type": "code",
   "execution_count": 14,
   "metadata": {},
   "outputs": [
    {
     "name": "stdout",
     "output_type": "stream",
     "text": [
      "The recovered secret is 462141184\n"
     ]
    }
   ],
   "source": [
    "assert secret==scheme.RevealSecret(), \"Something went wrong, secret incorrectly recovered\"\n",
    "print(f\"The recovered secret is {scheme.RevealSecret()}\")"
   ]
  },
  {
   "cell_type": "code",
   "execution_count": null,
   "metadata": {},
   "outputs": [],
   "source": []
  }
 ],
 "metadata": {
  "kernelspec": {
   "display_name": "Python 3",
   "language": "python",
   "name": "python3"
  },
  "language_info": {
   "codemirror_mode": {
    "name": "ipython",
    "version": 3
   },
   "file_extension": ".py",
   "mimetype": "text/x-python",
   "name": "python",
   "nbconvert_exporter": "python",
   "pygments_lexer": "ipython3",
   "version": "3.7.5"
  }
 },
 "nbformat": 4,
 "nbformat_minor": 4
}
