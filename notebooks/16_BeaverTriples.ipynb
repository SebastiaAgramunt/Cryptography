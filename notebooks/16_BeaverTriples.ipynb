{
 "cells": [
  {
   "cell_type": "markdown",
   "metadata": {},
   "source": [
    "# Beaver Triples and multiplication\n",
    "\n",
    "In this notebook we will show a tecnique to find the multiplication of two shared numbers using randomly generated shares.\n",
    "\n",
    "We've seen that we can do multiplication in Shamir secret sharing only if we have $2t$ parties that can reconstruct the secret. In this case we will generate some random numbers called Beaver triples to help us perform the calculation. \n",
    "\n",
    "## Secretly computing one multiplication\n",
    "\n",
    "In the first example we will try to secretly multipy two integers $x$ and $y$ that are owned by Ausiàs and Bernat, respectively. They want to compute $x*y$ without each other (or nobody else) know what is $x$ or $y$ actually. To this end we will use some computational parties $n$ that will carry the computation."
   ]
  },
  {
   "cell_type": "code",
   "execution_count": 1,
   "metadata": {},
   "outputs": [
    {
     "name": "stdout",
     "output_type": "stream",
     "text": [
      "Ausias has a secret value ausias_secret=10\n",
      "Bernat has a secret value bernat_secret=20\n"
     ]
    }
   ],
   "source": [
    "from random import seed, randrange\n",
    "seed(3)\n",
    "\n",
    "x = 10\n",
    "y = 20\n",
    "\n",
    "print(f\"Ausias has a secret value ausias_secret={x}\")\n",
    "print(f\"Bernat has a secret value bernat_secret={y}\")"
   ]
  },
  {
   "cell_type": "code",
   "execution_count": 19,
   "metadata": {},
   "outputs": [
    {
     "name": "stdout",
     "output_type": "stream",
     "text": [
      "Multiplication will be performed using 2 parties\n",
      "Prime number of 16 bits randomly chosen: 42179\n"
     ]
    }
   ],
   "source": [
    "from crypt import GeneratePrimeGeneratorPair\n",
    "from smpc import BeaverTriplesGenerator\n",
    "\n",
    "n = 2 # number of parties involved\n",
    "k = 1 # number of multiplications to perform\n",
    "bits = 16 # bits of the calculation\n",
    "\n",
    "p, _ = GeneratePrimeGeneratorPair(bits)\n",
    "\n",
    "print(f\"Multiplication will be performed using {n} parties\")\n",
    "print(f\"Prime number of {bits} bits randomly chosen: {p}\")"
   ]
  },
  {
   "cell_type": "markdown",
   "metadata": {},
   "source": [
    "First thing Ausias and Bernat have to do is to split into additive shares their values:"
   ]
  },
  {
   "cell_type": "code",
   "execution_count": 20,
   "metadata": {},
   "outputs": [
    {
     "name": "stdout",
     "output_type": "stream",
     "text": [
      "shares for Ausias value:\n",
      "\t[29015, 13174]\n",
      "shares for Bernat value:\n",
      "\t[32130, 10069]\n"
     ]
    }
   ],
   "source": [
    "def share(secret, n, p):\n",
    "    # generate n random shares\n",
    "    shares = [randrange(p) for _ in range(n-1)]\n",
    "    shares.append((secret-sum(shares))%p)\n",
    "    return shares\n",
    "\n",
    "def reconstruct(shares, p):\n",
    "    return (sum(shares)%p)\n",
    "\n",
    "x_shares = share(x, n, p)\n",
    "y_shares = share(y, n, p)\n",
    "\n",
    "print(f\"shares for Ausias value:\\n\\t{x_shares}\")\n",
    "print(f\"shares for Bernat value:\\n\\t{y_shares}\")"
   ]
  },
  {
   "cell_type": "code",
   "execution_count": 21,
   "metadata": {},
   "outputs": [
    {
     "name": "stdout",
     "output_type": "stream",
     "text": [
      "Ausias value reconstructed: 10\n",
      "Bernat value reconstructed: 20\n"
     ]
    }
   ],
   "source": [
    "print(f\"Ausias value reconstructed: {reconstruct(x_shares, p)}\")\n",
    "print(f\"Bernat value reconstructed: {reconstruct(y_shares, p)}\")"
   ]
  },
  {
   "cell_type": "markdown",
   "metadata": {},
   "source": [
    "We have to generate the beaver triples, these are a triplet of shared values $[a]$, $[b]$, $[c]$ such that when reconstructed $c=a\\times b$. Check the function BeaverTriplesGenerator for details on the generation of such numbers"
   ]
  },
  {
   "cell_type": "code",
   "execution_count": 22,
   "metadata": {},
   "outputs": [
    {
     "name": "stdout",
     "output_type": "stream",
     "text": [
      "Showing shares of a, b and c: \n",
      "\n",
      "[a] = [10085, 21838]\n",
      "\n",
      "[b] = [11250, 33729]\n",
      "\n",
      "[c] = [1504, 5595]\n"
     ]
    }
   ],
   "source": [
    "generator = BeaverTriplesGenerator(n, p)\n",
    "a, b, c = generator.GenerateKBatches(k)\n",
    "\n",
    "print(\"Showing shares of a, b and c: \\n\")\n",
    "print(f\"[a] = {a}\\n\")\n",
    "print(f\"[b] = {b}\\n\")\n",
    "print(f\"[c] = {c}\")"
   ]
  },
  {
   "cell_type": "markdown",
   "metadata": {},
   "source": [
    "Let's check that the triple generation is done correctly by checking that:\n",
    "\n",
    "$$a*b = c$$\n",
    "\n",
    "so we reconstruct a, b and c modulo p and then check the equality"
   ]
  },
  {
   "cell_type": "code",
   "execution_count": 23,
   "metadata": {},
   "outputs": [
    {
     "name": "stdout",
     "output_type": "stream",
     "text": [
      "cumulative sum of a times cumulative sum of b modulo p 7099\n",
      "cumulative sum of c modulo p 7099\n",
      "They are equal!\n"
     ]
    }
   ],
   "source": [
    "a_reconstructed = reconstruct(a, p)\n",
    "b_reconstructed = reconstruct(b, p)\n",
    "c_reconstructed = reconstruct(c, p)\n",
    "\n",
    "assert a_reconstructed*b_reconstructed%p==c_reconstructed%p\n",
    "print(f\"cumulative sum of a times cumulative sum of b modulo p {a_reconstructed*b_reconstructed%p}\")\n",
    "print(f\"cumulative sum of c modulo p {c_reconstructed%p}\")\n",
    "print(\"They are equal!\")"
   ]
  },
  {
   "cell_type": "markdown",
   "metadata": {},
   "source": [
    "The shares $[a]$, $[b]$, $[c]$ have to be split into the workers. We also print the shared value of $x$ and $y$ to show what each party gets."
   ]
  },
  {
   "cell_type": "code",
   "execution_count": 24,
   "metadata": {},
   "outputs": [
    {
     "name": "stdout",
     "output_type": "stream",
     "text": [
      "Party 0:\n",
      "\tx=29015\n",
      "\ty=32130\n",
      "\ta=10085\n",
      "\tb=11250\n",
      "\tc=1504\n",
      "\t\n",
      "Party 1:\n",
      "\tx=13174\n",
      "\ty=10069\n",
      "\ta=21838\n",
      "\tb=33729\n",
      "\tc=5595\n",
      "\t\n"
     ]
    }
   ],
   "source": [
    "for i, (x_, y_, a_, b_, c_) in enumerate(zip(x_shares, y_shares, a, b, c)):\n",
    "    print(f\"Party {i}:\\n\\tx={x_}\\n\\ty={y_}\\n\\ta={a_}\\n\\tb={b_}\\n\\tc={c_}\\n\\t\")"
   ]
  },
  {
   "cell_type": "markdown",
   "metadata": {},
   "source": [
    "Now each party has to calculate:\n",
    "\n",
    "$$[\\epsilon]=[x]-[a]$$\n",
    "$$[\\delta]=[y]-[b]$$"
   ]
  },
  {
   "cell_type": "code",
   "execution_count": 25,
   "metadata": {},
   "outputs": [
    {
     "name": "stdout",
     "output_type": "stream",
     "text": [
      "They open epsilon and delta: \n",
      "\n",
      "epsilon=10266\n",
      "delta=39399\n"
     ]
    }
   ],
   "source": [
    "e, d = [], []\n",
    "\n",
    "for x_, y_, a_, b_, c_ in zip(x_shares, y_shares, a, b, c):\n",
    "    e.append(x_ - a_)\n",
    "    d.append(y_ - b_)\n",
    "    \n",
    "epsilon = reconstruct(e, p)\n",
    "delta = reconstruct(d, p)\n",
    "\n",
    "print(f\"They open epsilon and delta: \\n\\nepsilon={epsilon}\\ndelta={delta}\")"
   ]
  },
  {
   "cell_type": "markdown",
   "metadata": {},
   "source": [
    "Recall that $\\epsilon$ and $\\delta$ are one time padded (we use a different random beaver triple every time we run a multiplication) and therefeore do not provide any information about $x$ and $y$ the values that Ausias and Bernat want to multiply using third party helpers."
   ]
  },
  {
   "cell_type": "markdown",
   "metadata": {},
   "source": [
    "Now each party has to calculate:\n",
    "\n",
    "$$[z] = [c] + \\epsilon [b] + \\delta[a] + \\epsilon\\delta$$"
   ]
  },
  {
   "cell_type": "code",
   "execution_count": 26,
   "metadata": {},
   "outputs": [],
   "source": [
    "z = []\n",
    "for x_, y_, a_, b_, c_ in zip(x_shares, y_shares, a, b, c):\n",
    "    z_ = (c_ + epsilon*b_ + delta*a_ + epsilon*delta%p)\n",
    "    z.append(z_)"
   ]
  },
  {
   "cell_type": "code",
   "execution_count": 27,
   "metadata": {},
   "outputs": [
    {
     "name": "stdout",
     "output_type": "stream",
     "text": [
      "15903\n"
     ]
    }
   ],
   "source": [
    "print(reconstruct(z, p))"
   ]
  },
  {
   "cell_type": "code",
   "execution_count": 28,
   "metadata": {},
   "outputs": [
    {
     "name": "stdout",
     "output_type": "stream",
     "text": [
      "200 15903\n"
     ]
    },
    {
     "ename": "AssertionError",
     "evalue": "Something went wrong, reconstruction was not correct",
     "output_type": "error",
     "traceback": [
      "\u001b[0;31m---------------------------------------------------------------------------\u001b[0m",
      "\u001b[0;31mAssertionError\u001b[0m                            Traceback (most recent call last)",
      "\u001b[0;32m<ipython-input-28-183d944ce0e1>\u001b[0m in \u001b[0;36m<module>\u001b[0;34m\u001b[0m\n\u001b[1;32m      1\u001b[0m \u001b[0mprint\u001b[0m\u001b[0;34m(\u001b[0m\u001b[0mx\u001b[0m\u001b[0;34m*\u001b[0m\u001b[0my\u001b[0m\u001b[0;34m,\u001b[0m \u001b[0mreconstruct\u001b[0m\u001b[0;34m(\u001b[0m\u001b[0mz\u001b[0m\u001b[0;34m,\u001b[0m \u001b[0mp\u001b[0m\u001b[0;34m)\u001b[0m\u001b[0;34m)\u001b[0m\u001b[0;34m\u001b[0m\u001b[0;34m\u001b[0m\u001b[0m\n\u001b[0;32m----> 2\u001b[0;31m \u001b[0;32massert\u001b[0m \u001b[0mx\u001b[0m\u001b[0;34m*\u001b[0m\u001b[0my\u001b[0m\u001b[0;34m==\u001b[0m\u001b[0mreconstruct\u001b[0m\u001b[0;34m(\u001b[0m\u001b[0mz\u001b[0m\u001b[0;34m,\u001b[0m \u001b[0mp\u001b[0m\u001b[0;34m)\u001b[0m\u001b[0;34m,\u001b[0m \u001b[0;34m\"Something went wrong, reconstruction was not correct\"\u001b[0m\u001b[0;34m\u001b[0m\u001b[0;34m\u001b[0m\u001b[0m\n\u001b[0m",
      "\u001b[0;31mAssertionError\u001b[0m: Something went wrong, reconstruction was not correct"
     ]
    }
   ],
   "source": [
    "print(x*y, reconstruct(z, p))\n",
    "assert x*y==reconstruct(z, p), \"Something went wrong, reconstruction was not correct\""
   ]
  },
  {
   "cell_type": "code",
   "execution_count": 29,
   "metadata": {},
   "outputs": [
    {
     "name": "stdout",
     "output_type": "stream",
     "text": [
      "200\n"
     ]
    }
   ],
   "source": [
    "zp = reconstruct(c, p) + epsilon*reconstruct(b, p)%p + delta*reconstruct(a, p)%p + epsilon*delta%p\n",
    "print(zp%p)"
   ]
  },
  {
   "cell_type": "code",
   "execution_count": 30,
   "metadata": {},
   "outputs": [
    {
     "name": "stdout",
     "output_type": "stream",
     "text": [
      "200\n"
     ]
    }
   ],
   "source": [
    "zp = reconstruct(c, p) + delta*x%p + epsilon*y%p - epsilon*delta%p\n",
    "print(zp%p)"
   ]
  },
  {
   "cell_type": "code",
   "execution_count": null,
   "metadata": {},
   "outputs": [],
   "source": []
  }
 ],
 "metadata": {
  "kernelspec": {
   "display_name": "Python 3",
   "language": "python",
   "name": "python3"
  },
  "language_info": {
   "codemirror_mode": {
    "name": "ipython",
    "version": 3
   },
   "file_extension": ".py",
   "mimetype": "text/x-python",
   "name": "python",
   "nbconvert_exporter": "python",
   "pygments_lexer": "ipython3",
   "version": "3.7.5"
  }
 },
 "nbformat": 4,
 "nbformat_minor": 4
}
