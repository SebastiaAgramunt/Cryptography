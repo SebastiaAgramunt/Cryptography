{
 "cells": [
  {
   "cell_type": "markdown",
   "metadata": {},
   "source": [
    "# Beaver Triples and multiplication\n",
    "\n",
    "In this notebook we will show a tecnique to find the multiplication of two shared numbers using randomly generated shares.\n",
    "\n",
    "We've seen that we can do multiplication in Shamir secret sharing only if we have $2t$ parties that can reconstruct the secret. In this case we will generate some random numbers called Beaver triples to help us perform the calculation. \n",
    "\n",
    "## Secretly computing one multiplication\n",
    "\n",
    "In the first example we will try to secretly multipy two integers $x$ and $y$ that are owned by Ausiàs and Bernat, respectively. They want to compute $x*y$ without each other (or nobody else) know what is $x$ or $y$ actually. To this end we will use some computational parties $n$ that will carry the computation."
   ]
  },
  {
   "cell_type": "code",
   "execution_count": 1,
   "metadata": {},
   "outputs": [
    {
     "name": "stdout",
     "output_type": "stream",
     "text": [
      "Ausias has a secret value ausias_secret=5\n",
      "Bernat has a secret value bernat_secret=21\n"
     ]
    }
   ],
   "source": [
    "from random import seed, randrange\n",
    "seed(3)\n",
    "\n",
    "x = 5\n",
    "y = 21\n",
    "\n",
    "print(f\"Ausias has a secret value ausias_secret={x}\")\n",
    "print(f\"Bernat has a secret value bernat_secret={y}\")"
   ]
  },
  {
   "cell_type": "code",
   "execution_count": 2,
   "metadata": {},
   "outputs": [
    {
     "name": "stdout",
     "output_type": "stream",
     "text": [
      "Multiplication will be performed using 2 parties\n",
      "Prime number of 16 bits randomly chosen: 63587\n"
     ]
    }
   ],
   "source": [
    "from crypt import GeneratePrimeGeneratorPair\n",
    "from smpc import BeaverTriplesGenerator\n",
    "\n",
    "n = 2 # number of parties involved\n",
    "k = 1 # number of multiplications to perform\n",
    "bits = 16 # bits of the calculation\n",
    "\n",
    "p, _ = GeneratePrimeGeneratorPair(bits)\n",
    "\n",
    "print(f\"Multiplication will be performed using {n} parties\")\n",
    "print(f\"Prime number of {bits} bits randomly chosen: {p}\")"
   ]
  },
  {
   "cell_type": "markdown",
   "metadata": {},
   "source": [
    "First thing Ausias and Bernat have to do is to split into additive shares their values:"
   ]
  },
  {
   "cell_type": "code",
   "execution_count": 3,
   "metadata": {},
   "outputs": [
    {
     "name": "stdout",
     "output_type": "stream",
     "text": [
      "shares for Ausias value:\n",
      "\t[5239, 58353]\n",
      "shares for Bernat value:\n",
      "\t[22066, 41542]\n"
     ]
    }
   ],
   "source": [
    "def share(secret, n, p):\n",
    "    # generate n random shares\n",
    "    shares = [randrange(p) for _ in range(n-1)]\n",
    "    shares.append((secret-sum(shares))%p)\n",
    "    return shares\n",
    "\n",
    "def reconstruct(shares, p):\n",
    "    return (sum(shares)%p)\n",
    "\n",
    "x_shares = share(x, n, p)\n",
    "y_shares = share(y, n, p)\n",
    "\n",
    "print(f\"shares for Ausias value:\\n\\t{x_shares}\")\n",
    "print(f\"shares for Bernat value:\\n\\t{y_shares}\")"
   ]
  },
  {
   "cell_type": "code",
   "execution_count": 4,
   "metadata": {},
   "outputs": [
    {
     "name": "stdout",
     "output_type": "stream",
     "text": [
      "Ausias value reconstructed: 5\n",
      "Bernat value reconstructed: 21\n"
     ]
    }
   ],
   "source": [
    "print(f\"Ausias value reconstructed: {reconstruct(x_shares, p)}\")\n",
    "print(f\"Bernat value reconstructed: {reconstruct(y_shares, p)}\")"
   ]
  },
  {
   "cell_type": "markdown",
   "metadata": {},
   "source": [
    "We have to generate the Beaver triples, these are a triplet of shared values $[a]$, $[b]$, $[c]$ such that when reconstructed $c=a\\times b$. Check the function BeaverTriplesGenerator for details on the generation of such numbers"
   ]
  },
  {
   "cell_type": "code",
   "execution_count": 5,
   "metadata": {},
   "outputs": [
    {
     "name": "stdout",
     "output_type": "stream",
     "text": [
      "Showing shares of a, b and c: \n",
      "\n",
      "[a] = [[48843, 15605]]\n",
      "\n",
      "[b] = [[7917, 23608]]\n",
      "\n",
      "[c] = [[11260, 43703]]\n"
     ]
    }
   ],
   "source": [
    "generator = BeaverTriplesGenerator(n, p)\n",
    "a, b, c = generator.GenerateKBatches(k)\n",
    "\n",
    "print(\"Showing shares of a, b and c: \\n\")\n",
    "print(f\"[a] = {a}\\n\")\n",
    "print(f\"[b] = {b}\\n\")\n",
    "print(f\"[c] = {c}\")"
   ]
  },
  {
   "cell_type": "markdown",
   "metadata": {},
   "source": [
    "Let's check that the triple generation is done correctly by checking that:\n",
    "\n",
    "$$a*b = c$$\n",
    "\n",
    "so we reconstruct a, b and c modulo p and then check the equality"
   ]
  },
  {
   "cell_type": "code",
   "execution_count": 6,
   "metadata": {},
   "outputs": [
    {
     "name": "stdout",
     "output_type": "stream",
     "text": [
      "cumulative sum of a times cumulative sum of b modulo p 54963\n",
      "cumulative sum of c modulo p 54963\n",
      "They are equal!\n"
     ]
    }
   ],
   "source": [
    "a_reconstructed = reconstruct(a[0], p)\n",
    "b_reconstructed = reconstruct(b[0], p)\n",
    "c_reconstructed = reconstruct(c[0], p)\n",
    "\n",
    "assert a_reconstructed*b_reconstructed%p==c_reconstructed%p\n",
    "print(f\"cumulative sum of a times cumulative sum of b modulo p {a_reconstructed*b_reconstructed%p}\")\n",
    "print(f\"cumulative sum of c modulo p {c_reconstructed%p}\")\n",
    "print(\"They are equal!\")"
   ]
  },
  {
   "cell_type": "markdown",
   "metadata": {},
   "source": [
    "The shares $[a]$, $[b]$, $[c]$ have to be split into the workers. We also print the shared value of $x$ and $y$ to show what each party gets."
   ]
  },
  {
   "cell_type": "code",
   "execution_count": 7,
   "metadata": {},
   "outputs": [
    {
     "name": "stdout",
     "output_type": "stream",
     "text": [
      "Party 0:\n",
      "\tx=5239\n",
      "\ty=22066\n",
      "\ta=48843\n",
      "\tb=7917\n",
      "\tc=11260\n",
      "\t\n",
      "Party 1:\n",
      "\tx=58353\n",
      "\ty=41542\n",
      "\ta=15605\n",
      "\tb=23608\n",
      "\tc=43703\n",
      "\t\n"
     ]
    }
   ],
   "source": [
    "for i, (x_, y_, a_, b_, c_) in enumerate(zip(x_shares, y_shares, a[0], b[0], c[0])):\n",
    "    print(f\"Party {i}:\\n\\tx={x_}\\n\\ty={y_}\\n\\ta={a_}\\n\\tb={b_}\\n\\tc={c_}\\n\\t\")"
   ]
  },
  {
   "cell_type": "markdown",
   "metadata": {},
   "source": [
    "Now each party has to calculate:\n",
    "\n",
    "$$[\\epsilon]=[x]-[a]$$\n",
    "$$[\\delta]=[y]-[b]$$"
   ]
  },
  {
   "cell_type": "code",
   "execution_count": 8,
   "metadata": {},
   "outputs": [
    {
     "name": "stdout",
     "output_type": "stream",
     "text": [
      "They open epsilon and delta: \n",
      "\n",
      "epsilon=62731\n",
      "delta=32083\n"
     ]
    }
   ],
   "source": [
    "e, d = [], []\n",
    "\n",
    "for x_, y_, a_, b_, c_ in zip(x_shares, y_shares, a[0], b[0], c[0]):\n",
    "    e.append((x_ - a_)%p)\n",
    "    d.append((y_ - b_)%p)\n",
    "    \n",
    "epsilon = reconstruct(e, p)\n",
    "delta = reconstruct(d, p)\n",
    "\n",
    "print(f\"They open epsilon and delta: \\n\\nepsilon={epsilon}\\ndelta={delta}\")"
   ]
  },
  {
   "cell_type": "markdown",
   "metadata": {},
   "source": [
    "Recall that $\\epsilon$ and $\\delta$ are one time padded (we use a different random Beaver triple every time we run a multiplication) and therefeore do not provide any information about $x$ and $y$ the values that Ausias and Bernat want to multiply using third party helpers."
   ]
  },
  {
   "cell_type": "markdown",
   "metadata": {},
   "source": [
    "Now each party has to calculate:\n",
    "\n",
    "$$[z] = [c] + \\epsilon [b] + \\delta[a] + \\epsilon\\delta$$\n",
    "\n",
    "\n",
    "WARNING! Look out on this step! $\\epsilon\\delta$ is now a public value and just one party has to add it to the calculation. We do it in the first one by default"
   ]
  },
  {
   "cell_type": "code",
   "execution_count": 9,
   "metadata": {},
   "outputs": [],
   "source": [
    "z = []\n",
    "for x_, y_, a_, b_, c_ in zip(x_shares, y_shares, a[0], b[0], c[0]):\n",
    "    z_ = (c_ + epsilon*b_ + delta*a_)%p\n",
    "    z.append(z_)\n",
    "\n",
    "# adding public value to the first client only\n",
    "z[0] += epsilon*delta"
   ]
  },
  {
   "cell_type": "markdown",
   "metadata": {},
   "source": [
    "Now everybody make public their shares so they can reconstruct"
   ]
  },
  {
   "cell_type": "code",
   "execution_count": 10,
   "metadata": {},
   "outputs": [
    {
     "name": "stdout",
     "output_type": "stream",
     "text": [
      "The result of multiplicate 5 and 5 secret values is 105\n"
     ]
    }
   ],
   "source": [
    "print(f\"The result of multiplicate {x} and {x} secret values is {reconstruct(z, p)}\")\n",
    "assert x*y==reconstruct(z, p), \"Something went wrong, reconstruction was not correct\""
   ]
  },
  {
   "cell_type": "markdown",
   "metadata": {},
   "source": [
    "Even though the following calculation is not secret it is nice to see that if we reconstruct all the values and perform the same calculation as above we get the same result."
   ]
  },
  {
   "cell_type": "code",
   "execution_count": 11,
   "metadata": {},
   "outputs": [],
   "source": [
    "zp = (reconstruct(c[0], p) + epsilon*reconstruct(b[0], p) + delta*reconstruct(a[0], p) + epsilon*delta)%p\n",
    "assert zp%p==reconstruct(z, p), \"Something went wrong, reconstruction was not correct\""
   ]
  },
  {
   "cell_type": "markdown",
   "metadata": {},
   "source": [
    "Or equivalently reconstructing on the shares of x and y:"
   ]
  },
  {
   "cell_type": "code",
   "execution_count": 12,
   "metadata": {},
   "outputs": [],
   "source": [
    "zp = reconstruct(c[0], p) + delta*reconstruct(x_shares, p)%p + epsilon*reconstruct(y_shares, p)%p - epsilon*delta%p\n",
    "assert zp%p==reconstruct(z, p), \"Something went wrong, reconstruction was not correct\"\n"
   ]
  },
  {
   "cell_type": "markdown",
   "metadata": {},
   "source": [
    "So is this really secure?. Let's analyze... The values of the triplets contain no information about the secret values $x$ and $y$ and are suposed to be uniromly random between the range of 0 to $p$. Therefore wen we calculate $\\epsilon$ and $\\delta$ we are padding with a random value and so each share of $\\epsilon$ and $\\delta$ contain no information about the actual value of $x$ and $y$ so the parties can share their corresponding shares for $\\epsilon$ and $\\delta$. \n",
    "\n",
    "\n",
    "## Several multiplications\n",
    "\n",
    "Now imagine that the holders of the private values $x$ and $y$ want to outsource the calculation of several values, let's say 10 to 4 parties. We have to generate 10 beaver triplets of lenght 4. Let's code this!"
   ]
  },
  {
   "cell_type": "code",
   "execution_count": 13,
   "metadata": {},
   "outputs": [
    {
     "name": "stdout",
     "output_type": "stream",
     "text": [
      "Prime number of 32 bits randomly chosen: 4226052217\n",
      "\n",
      "x = [171382766, 335484322, 1034632707, 915970885, 448268701, 710108163, 302918109, 451838982, 882340072, 899441922]\n",
      "y = [635070364, 725609445, 494935713, 364905823, 982022104, 785802611, 562876344, 542403849, 352021502, 764032359]\n",
      "\n",
      "Multiplication will be performed using 4 parties\n",
      "We can perform 10 multiplications\n"
     ]
    }
   ],
   "source": [
    "from random import seed, randrange\n",
    "from crypt import GeneratePrimeGeneratorPair\n",
    "from smpc import BeaverTriplesGenerator\n",
    "\n",
    "seed(5)\n",
    "\n",
    "n = 4 # number of parties involved\n",
    "k = 10 # number of multiplications to perform\n",
    "bits = 32 # bits of the calculation\n",
    "\n",
    "p, _ = GeneratePrimeGeneratorPair(bits)\n",
    "\n",
    "x = [randrange(p//4) for _ in range(k)]\n",
    "y = [randrange(p//4) for _ in range(k)]\n",
    "\n",
    "print(f\"Prime number of {bits} bits randomly chosen: {p}\\n\")\n",
    "print(f\"x = {x}\")\n",
    "print(f\"y = {y}\\n\")\n",
    "\n",
    "print(f\"Multiplication will be performed using {n} parties\")\n",
    "print(f\"We can perform {k} multiplications\")\n"
   ]
  },
  {
   "cell_type": "code",
   "execution_count": 14,
   "metadata": {},
   "outputs": [
    {
     "name": "stdout",
     "output_type": "stream",
     "text": [
      "x shares: \n",
      "\t\n",
      "\t[2960040999, 2638725046, 3389060587, 3861712785]\n",
      "\t[3418869866, 61026012, 684227583, 397413078]\n",
      "\t[2477863492, 2124033828, 2800158410, 2084681411]\n",
      "\t[5200585, 2315099732, 3396513666, 3651261336]\n",
      "\t[2073382968, 3313593901, 2000151613, 1513244653]\n",
      "\t[3595306181, 1602804837, 185424399, 3778677180]\n",
      "\t[976545007, 2298812163, 8900742, 1244712414]\n",
      "\t[2055551344, 4171603642, 513230824, 2163557606]\n",
      "\t[3164887442, 870048867, 725786741, 347669239]\n",
      "\t[4184824778, 733871712, 3662057698, 770792168]\n",
      "y shares: \n",
      "\t\n",
      "\t[2178846392, 1022962142, 2860127913, 3025238351]\n",
      "\t[3561047244, 1715454038, 2795991898, 1105220699]\n",
      "\t[439049416, 1653147711, 1793752823, 835037980]\n",
      "\t[2769103316, 3708372235, 983575982, 1355958724]\n",
      "\t[2772820510, 1175782748, 3951769298, 1533753982]\n",
      "\t[43340798, 880567911, 2820272352, 1267673767]\n",
      "\t[1013079011, 2497131583, 287508572, 991209395]\n",
      "\t[3192928261, 3998657813, 2163732437, 3865241989]\n",
      "\t[1602723052, 1867731291, 2500476193, 2833195400]\n",
      "\t[1316040632, 957809239, 3158144681, 3784142241]\n"
     ]
    }
   ],
   "source": [
    "x_shares = [share(x_, n, p) for x_ in x]\n",
    "y_shares = [share(y_, n, p) for y_ in y]\n",
    "\n",
    "print(f\"x shares: \\n\\t\")\n",
    "for x_s in x_shares:\n",
    "    print(f\"\\t{x_s}\")\n",
    "    \n",
    "print(f\"y shares: \\n\\t\")\n",
    "for y_s in y_shares:\n",
    "    print(f\"\\t{y_s}\")"
   ]
  },
  {
   "cell_type": "code",
   "execution_count": 15,
   "metadata": {},
   "outputs": [
    {
     "name": "stdout",
     "output_type": "stream",
     "text": [
      "Showing shares of a, b and c: \n",
      "\n",
      "[a] = \n",
      "\t[1957249673, 2254077750, 3297105215, 1056760732]\n",
      "\t[395485659, 3739766301, 999360773, 236896232]\n",
      "\t[2827189904, 2408203629, 3791262365, 2259085819]\n",
      "\t[2499862764, 1075250475, 3075445279, 2671770808]\n",
      "\t[3608950050, 692035623, 1570366022, 645950124]\n",
      "\t[2694167901, 1237044081, 782197768, 3014893532]\n",
      "\t[25785821, 3010546550, 2362099281, 3504365697]\n",
      "\t[3803214799, 342875159, 2094985100, 1104926244]\n",
      "\t[3803352435, 2051571744, 1136892690, 3047917330]\n",
      "\t[2306181790, 1771393359, 733090959, 2026787461]\n",
      "[b] = \n",
      "\t[864717120, 2978299693, 2952975892, 2832539761]\n",
      "\t[3939121783, 1814821073, 3406089661, 2568009658]\n",
      "\t[3546103788, 3064892670, 3157225860, 2548217026]\n",
      "\t[2928783976, 3723505140, 3304518172, 4127793019]\n",
      "\t[2719862558, 406764726, 3043254524, 2221879130]\n",
      "\t[29579488, 2337280713, 639444605, 1837647468]\n",
      "\t[2004056478, 4113526903, 3559062689, 1965889497]\n",
      "\t[646052392, 1578755279, 29178817, 1716547518]\n",
      "\t[3450272090, 2454736490, 1938153019, 3860147564]\n",
      "\t[1688840353, 1831822574, 2399819644, 2468523982]\n",
      "[c] = \n",
      "\t[3694903752, 3601343871, 2933189331, 438807448]\n",
      "\t[3489678374, 1787103188, 3538880472, 1322327743]\n",
      "\t[1904427869, 3146614272, 819278725, 692754798]\n",
      "\t[198286525, 824980716, 3526881613, 1674245192]\n",
      "\t[2601041427, 1859718355, 1556465687, 491665969]\n",
      "\t[3029785505, 1826809819, 4072236074, 1944696306]\n",
      "\t[3582043931, 3858337336, 1400824091, 3771338842]\n",
      "\t[251184625, 3104970300, 2584772748, 2644061530]\n",
      "\t[3805764233, 3945894825, 1413961609, 65904958]\n",
      "\t[1891198821, 4200818938, 3533882288, 1344761351]\n",
      "\n",
      "number of multiplications to perform is : 10\n"
     ]
    }
   ],
   "source": [
    "generator = BeaverTriplesGenerator(n, p)\n",
    "a, b, c = generator.GenerateKBatches(k)\n",
    "\n",
    "print(\"Showing shares of a, b and c: \\n\")\n",
    "print(f\"[a] = \")\n",
    "for a_s in a:\n",
    "    print(f\"\\t{a_s}\")\n",
    "\n",
    "print(f\"[b] = \")\n",
    "for b_s in b:\n",
    "    print(f\"\\t{b_s}\")\n",
    "    \n",
    "print(f\"[c] = \")\n",
    "for c_s in c:\n",
    "    print(f\"\\t{c_s}\")\n",
    "    \n",
    "    \n",
    "print(f\"\\nnumber of multiplications to perform is : {len(a)}\")"
   ]
  },
  {
   "cell_type": "code",
   "execution_count": 16,
   "metadata": {},
   "outputs": [
    {
     "name": "stdout",
     "output_type": "stream",
     "text": [
      "They open epsilon and delta: \n",
      "\n",
      "epsilon=[58293830, 3416079791, 2427047641, 45745993, 2383071316, 1433909315, 4078277411, 1557942114, 3520762524, 2514092787]\n",
      "delta=[3684694549, 1675723921, 856653020, 3184514384, 1042365600, 167902554, 1598497428, 797922060, 1326868990, 827130240]\n"
     ]
    }
   ],
   "source": [
    "epsilon, delta = [], []\n",
    "# looping over multiplications\n",
    "for i in range(k):\n",
    "    e, d = [], []\n",
    "    for x_, y_, a_, b_, c_ in zip(x_shares[i], y_shares[i], a[i], b[i], c[i]):\n",
    "        e.append((x_ - a_)%p)\n",
    "        d.append((y_ - b_)%p)\n",
    "    \n",
    "    epsilon.append(reconstruct(e, p))\n",
    "    delta.append(reconstruct(d, p))\n",
    "    \n",
    "print(f\"They open epsilon and delta: \\n\\nepsilon={epsilon}\\ndelta={delta}\")"
   ]
  },
  {
   "cell_type": "code",
   "execution_count": 17,
   "metadata": {},
   "outputs": [],
   "source": [
    "z = []\n",
    "for i in range(k):\n",
    "    z_tmp = []\n",
    "    for x_, y_, a_, b_, c_ in zip(x_shares[i], y_shares[i], a[i], b[i], c[i]):\n",
    "        z_ = (c_ + epsilon[i]*b_ + delta[i]*a_)%p\n",
    "        z_tmp.append(z_)\n",
    "        \n",
    "    # adding public value to the first client only\n",
    "    z_tmp[0] += epsilon[i]*delta[i]\n",
    "    z.append(z_tmp)"
   ]
  },
  {
   "cell_type": "code",
   "execution_count": 18,
   "metadata": {},
   "outputs": [
    {
     "name": "stdout",
     "output_type": "stream",
     "text": [
      "[[214794960964287581, 1299596488, 3524032757, 4102672674], [5724406623834744671, 2431305481, 587980058, 957238475], [2079137695471337508, 2136170787, 1454087343, 1233055626], [145678773715715969, 725725219, 2749086242, 4000108859], [2484031564507987983, 1454987998, 490613773, 1006931053], [240757036954823877, 1697780883, 3345746177, 2181188042], [6519115956152937177, 1741132950, 1371396328, 2819467901], [1243116384520319745, 3874444826, 3390020310, 2033888922], [4671590616328410370, 349905084, 3191634670, 360875086], [2079482174408344051, 3738211994, 1923943103, 2424188983]]\n"
     ]
    }
   ],
   "source": [
    "print(z)"
   ]
  },
  {
   "cell_type": "code",
   "execution_count": 19,
   "metadata": {},
   "outputs": [
    {
     "name": "stdout",
     "output_type": "stream",
     "text": [
      "multiplication of 171382766 times 635070364 is 201087304, we calculated secretly 201087304\n",
      "multiplication of 335484322 times 725609445 is 3058084736, we calculated secretly 3058084736\n",
      "multiplication of 1034632707 times 494935713 is 247014640, we calculated secretly 247014640\n",
      "multiplication of 915970885 times 364905823 is 3813151306, we calculated secretly 3813151306\n",
      "multiplication of 448268701 times 982022104 is 971965664, we calculated secretly 971965664\n",
      "multiplication of 710108163 times 785802611 is 3089304220, we calculated secretly 3089304220\n",
      "multiplication of 302918109 times 562876344 is 2396237340, we calculated secretly 2396237340\n",
      "multiplication of 451838982 times 542403849 is 778287945, we calculated secretly 778287945\n",
      "multiplication of 882340072 times 352021502 is 2049008670, we calculated secretly 2049008670\n",
      "multiplication of 899441922 times 764032359 is 26634969, we calculated secretly 26634969\n"
     ]
    }
   ],
   "source": [
    "for i in range(k):\n",
    "    print(f\"multiplication of {x[i]} times {y[i]} is {x[i]*y[i]%p}, we calculated secretly {reconstruct(z[i], p)}\")\n",
    "    assert x[i]*y[i]%p == reconstruct(z[i], p), \"Something went wrong\""
   ]
  },
  {
   "cell_type": "markdown",
   "metadata": {},
   "source": [
    "## Conclusions\n",
    "\n",
    "We've seen how by generating random triples we can achieve secure multiplication. However one must take care on who provides these random triples. In general we would have a \"crypto provider\", that is, a machine that provides the triples but is not active on the protocol (does not compute/hold any shares). The crypto provider calculates the triples on an offline phase and can store them to send to the parties when they require to do a computation. This party can be honest but courious (follows the protocol, i.e. provides correct triples)."
   ]
  },
  {
   "cell_type": "code",
   "execution_count": null,
   "metadata": {},
   "outputs": [],
   "source": []
  }
 ],
 "metadata": {
  "kernelspec": {
   "display_name": "Python 3",
   "language": "python",
   "name": "python3"
  },
  "language_info": {
   "codemirror_mode": {
    "name": "ipython",
    "version": 3
   },
   "file_extension": ".py",
   "mimetype": "text/x-python",
   "name": "python",
   "nbconvert_exporter": "python",
   "pygments_lexer": "ipython3",
   "version": "3.7.5"
  }
 },
 "nbformat": 4,
 "nbformat_minor": 4
}
