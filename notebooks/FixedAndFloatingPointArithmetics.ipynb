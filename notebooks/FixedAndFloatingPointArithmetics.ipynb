{
 "cells": [
  {
   "cell_type": "markdown",
   "metadata": {},
   "source": [
    "# Writing numbers on computers\n",
    "\n",
    "Computers are base 2 machines, they just understand 0's and 1's and can perform operations on them. In this notebook we will show how computers can handle integers and real numbers. We will answer questions like\n",
    "\n",
    "* How does a computer write the natural number like 1987\n",
    "* How a computer can represent a fraction number like 5/4=1.25\n",
    "* How can we represent (if that's even possible) an irrational like $\\pi$ number\n",
    "\n",
    "Let's start with integers\n",
    "\n",
    "## Integers\n",
    "\n",
    "Calculations on integers are \"easy\" on a computer, just think on summing two integers or subtracting another two. Normally you represent integers internally with a string of bits so in languages like C there are types like **int** (4 bytes) or **long** (8 bytes). For unsigned integers (without sign) you can represent from 0 to $2^{8b}$ where $b$ is the number of bytes.\n"
   ]
  },
  {
   "cell_type": "code",
   "execution_count": 2,
   "metadata": {},
   "outputs": [
    {
     "name": "stdout",
     "output_type": "stream",
     "text": [
      "An unsigned 4 byte int ranges from 0 to 4294967295\n"
     ]
    }
   ],
   "source": [
    "print(f\"An unsigned 4 byte int ranges from {0} to {2**(4*8)-1}\")"
   ]
  },
  {
   "cell_type": "markdown",
   "metadata": {},
   "source": [
    "For a signed integer the ranges are from \n",
    "\n",
    "$$-2^{8b-1}$$\n",
    "\n",
    "to \n",
    "\n",
    "$$2^{8b-1}$$\n",
    "\n",
    "where again $b$ is the number of bytes of the type. Recall that for 4 bytes we have a string of 0's and 1's of lenght 8*4=32 but we have to take out one bit that accounts for the sing. For instance, for 4 byte intenger the ranges are:"
   ]
  },
  {
   "cell_type": "code",
   "execution_count": 1,
   "metadata": {},
   "outputs": [
    {
     "name": "stdout",
     "output_type": "stream",
     "text": [
      "An signed 4 byte int ranges from -2147483648 to 2147483647\n"
     ]
    }
   ],
   "source": [
    "print(f\"An signed 4 byte int ranges from {-2**(4*8-1)} to {2**(4*8-1)-1}\")"
   ]
  },
  {
   "cell_type": "code",
   "execution_count": 3,
   "metadata": {},
   "outputs": [
    {
     "name": "stdout",
     "output_type": "stream",
     "text": [
      "An unsigned 8 byte int ranges from 0 to 18446744073709551615\n",
      "A long signed 8 byte int ranges from -9223372036854775808 to 9223372036854775807\n",
      "A long unsigned 8 byte int ranges from 0 to 18446744073709551615\n"
     ]
    }
   ],
   "source": [
    "print(f\"An unsigned 8 byte int ranges from 0 to {2**(8*8)-1}\")\n",
    "print(f\"A long signed 8 byte int ranges from {-2**(8*8-1)} to {2**(8*8-1)-1}\")\n",
    "print(f\"A long unsigned 8 byte int ranges from {0} to {2**(8*8)-1}\")"
   ]
  },
  {
   "cell_type": "markdown",
   "metadata": {},
   "source": [
    "In python (as a difference to other languages like C) integers are not bounded and we can have an integer as long as the capacity of the avaliable memory in the computer. In essence, python int type is an array of *int32* inside the machine. You can therefore represent super large numbers, for instance"
   ]
  },
  {
   "cell_type": "code",
   "execution_count": 10,
   "metadata": {},
   "outputs": [
    {
     "name": "stdout",
     "output_type": "stream",
     "text": [
      "<class 'int'>\n"
     ]
    }
   ],
   "source": [
    "tmp = pow(9,12345)\n",
    "print(type(tmp))"
   ]
  },
  {
   "cell_type": "code",
   "execution_count": 11,
   "metadata": {},
   "outputs": [
    {
     "name": "stdout",
     "output_type": "stream",
     "text": [
      "132977764729230353351448421183940787053985964611250459013363284937401420820199009561075873192044244160894910246976927190478418364079894948596043837341013124809648828836815533279842366991073476175354301729517299092930456404369084019739984736106126502018780831841658726834149757506303062029687700342772929639870903619691077909912625645761877599847415668591290971371001684046620134636398131248676750098214067146699653809201840568790378694096219391963133808102776358595871434312438622747099108012522980002113953583232834378439206131539684336282967254929094056620524976309253959032198401907522430577579612522837206182501196000315364851365568085719732590759125175661436942610656387588169715577528815827502905758888953584597700330831803641951348642209146058177669148315145710370948383892126909883035113472207262239770302006662607360597376719988001803495758508731598371542807355096862291728609087516591418010717371504574005121152156681834154509909520982687623709862529009200117441776736457471579096140600924048363073475534155143582847905598833073959573616109610328195919324631353317521691402751079823608702366295482530352669281612166357407743503603744067818962776043811626579400579990658281194542685414707030123637659091441420413525452871975378788936841705135227755298552060384765184109828255653877046571064673296222687506944413475289391775100881623557568750019306319441323332356930768522919025208894060314490531870956568015916725851334385385180173692930019641996024786842197865213453169984545709050746089640644285236998925908609574245413795370790626855862748606438958259099679276517809734231010573356542213923902453178659307833515648400141261742290929034868847937563241463024000136030174587463636638501481183278578595774846556886882655762524719279446403122538056780024593694396199724622284440509871170554401088332737033518520506882700163094639135316564070896104876588232518614277088577472943843941977750298092098072321181815464364127137075453073749920189627091449620823723279856695973564696321857422554352118597486781446639494924579057979289832060872849099967076417286285019553446641171540811974072134003239950402873780675601074793197275601902066177423331189913157580121309186082008524920305750283660688214983791480699918735708272542369576158470858468617286510450725646412934063846139295928320637823540846715648852682568397164668808349695426976154470885456717195270458573435845676342631622952974758903985302031375679304985591868814428095026705766603448201726853954198098167396066937939134620228703927139801944054416221994881380584040420655606488767832068661302259006285810864119852033086236922441211200918270888602131737409555277534594400266624181537758644647575311353715911874282372228841520914435693782019910776793993391438548929447387138216291021558133023129068319234506022639427640602025805410229780016103777314050093408585367084340985317363355135437396643991384997408406779609809003190703595770818701846206055213298689210221676764900209044162069005656415795176653309817470309448203428289436561280444934194992601384781507686333614391470713920759491036252472816846433899861485808641843941397369153404939699435002764613745974390951473960155962699091522302216798901716725616858908951729215402949123731338677956521755583272354858862567093201373356003223264434418682194882822106107745766674056743737773912976401440826158256062999690896127336300511094298132417413738646065148537924474604908427928272192826978601555310811579822841733739432444326239046902801164595718176512370608635643976092615627708326217232934587156880291117246799549289056902496941118984519827071047068169249196116479191755714080569950119216315444566144822773414409667809872059662270210217360891367702812751021516584415544155194764207437784708506302998230964708958828274997966420606108636206446912806248365261036430755209697287095394069446695084734187705552234321537944365399832498717168258034005692836817773788795269757049231913450975925847409718141860544520230707024201483366661134752953706300146622185611519032555577832514308603934529565624447491816417816148240293005117333728287670693986550337273323239879335907954439894665822738923581920847032838162013689231841750018122955516283227876618464576304439236718097980852879815790601370821748204933183252773927573848026392208962491574872349227248675871796997510424997293992525019477380184046192664228866408509679481186691514770794359364000789617576627507438559320016703872215116892758346358803435921514773918352989156998071969728411600704303317436266091833773374643176227128937669013700581411565013433751119303169988797216862795385728004959253123940883469123550083247717171362222119387109941046061213156545294835717550597267063974026937569595420343187828302980945743366752941378441328318175153278155883017444775611438921610904207698777428704941192937941754251536053414051638099975451313327739446128638583507720850593074315446614469344381119397300370148137939549894753084578130499850748251296308223190057693224775953944816184960062569763976656467854426641592349858800052392368416652412867605964892402488981997902260074388573830412480361500955495387977215390825152292221047308496008305102744711880042345135005399117160017770004490248508165420683682200559580708914199257388629718764164731326921621873918777115613389148987337504712864789475935151416308770607392892835337987424369226521959539883538746268528499252672792686996079030841985391927879220452239551412549812242515360922772290096268872137019237835431456885472599808043472990136106363912757036028109570220859789462511405577384393651720297739223768994157353301203069480677304115819988435261475238970484006767211411557505344674717183393792021019616170985230167983558128970211389915877647787353365911920705441141721417440512326330330592260008867482864866188268285748182784605548510881340102760707270031363425606277267022291732293271581115433478472682554478227506971593305662110811145627697424713241931058618975185431789019031819452849456963108870734981738942412079385345061180720806397606982476308743651891470770316761421356871146643319266206065903134708706712462170525362611323775865852882374049278562686035322194874560597485533665427699855881081691001845912365060304380141553932115896296123857948775353019882761694752825772764160025085660464307544958364721479407809236099725872116624547857915115491131532966705788905624238450501415926938797690772718540408401193933915661034262301243368780765612918999367360561286329151015867788223800446940922827050273349950908979851998020633674015561307012833927734062376236487338102986331048269236859978933055259867539835211888909568599499006013450577257773875089699446412115135732087163838555085953321417992224094812621847785880715824000492665116909180398531945571252301216102540365975902031176108464194831966804510407185739186006200327219211053926039505925387654645953567894974053103798677295844629451587409548955046155324789361615000284547131322692360401393241378075458837649281898009841475092158301462614731586641802903351812767901286410842393985234194536943841289461580779340006782856404426467070834515603124927537298636356535660731989501513301345987318967396695732237199045295938053957526096948550505923736246344575172683735871518672227969395305014173779268736025495710689008816959598947581785519535193346666001789253900188398809628779393223377988004642569702380689282471071549033582708693675757054785672996109712302997260881803505393795005797761362400907332755924292513863715273319986169270824633566979559361555080841343177128128676024687949475072401350937811243943346657139139232548960680383015143290632660352094965034589619669316862479658762919258886899347311138332990793737145324613638787099582166362198514782240749857127411464195835776822903710797232338515783828501964863000408202754259210862417031796801046490027408327992864534998653728610520735722262035773411109427782205304852591294339531287080796384015923908252175966276181249655096496494239724864091539417449959995447519151769725125942272080541678754460284076388790056605320726313149847324246894698518034146136061219999976793969964085403697306263543916854922650090308770111344043816844616430157987628763098912777611602282456205947954228038412777767480669504935525226726111714481738375568712281599414885841733985717337955514853487508333543073152059116867371105455341704863975055646369611848704957464888821576570097611094030850092792889843669322503002795929393988104116011696339147244130163378103755842930204204819097113155817353185318994985980078629371170469976604753374731532121838582394152247587605515379325343873514028952040154713463613659270413786176825891340471560390301274098998654629347070743260305726704300344293187764992393692478415072217897593123717135724939473735636459173059313192400804786055404790911076970104379216862643279976538291139117403253365220596492783018403686907640006801730331456976983474423673167070488104183086336880077972142568852576292977547586746913375115795518413135644211462430505080080824401825578252775907158912795785912075744835248122036276950278554074928171750078285211924736807092247042961452338070164110433920264775118575004012762732742571488631139810297403957969644328994491264661974877477888246211123676502444020464771286961007982773703991969515672461814565504853659415229337565602212302176384487178467268323373667845338091212290986983126483951309508329786028782191276336292906858276197231307876570809401887069921525718189818697960768736503522401747174803182919698757883517785783474258814229817966454622602500255368971506968595092543626218845606396076405121380599557940404808193682266864702873671707719366535749595593815717434847409011534036820862080113798162109390480465176437788087537472897224094870377786224516752602686024465462216763410390784910671120644708264075317350903239034424617980470672393538740331499374571142253507011403939185041337278367896394249773292916730563280152721846110720545745972431119533405792088227525626452716932451870994867304286739234402685644333108764572090770335878648579848816037574609589504886166607538499843770640786216349846847258345129103962191891781720705399185769817897326573816930470942396814661844386910376178113547572289572294182123675379042770431936430029477476299910292921853812184136547450568238032410043296077681924696844535994306372593107743825625815355491435880647471592462327589309921462084031143871777359637801570709859884867194381069112505303867295514733331450622145802967075047561230098832724340429882867052502315964555052441449690090183935451709746754626416617271040613784161018993436180742972549951810779723356508349190495134656745155171819743621353348275851579737331577515538558663148889838512440225870715766833732888414247461282362391892199844998291364097827783507895340090323557452737419158523175442284548984099804340523929685294688324886679150107564815610811583374555377225989009163780610391849908358687564888480514603885069868727595816886523257062326652936147450449676025794045164928673872059636274522433527059416496648481869111675963352167901667317833329159218745728437100811088822432405368059946919758617857536759364762699309574768163729147190396840661607477014055672683530470763378320144388615851464684941411119901728977736886188695767772188773821712475515167324236150603049693224552632803569194681481388556877516170137729634032183198697338819819684352642767721300113924069936854872426490081296548171386681548127028019683497100457669828675680261497489839677812795077804069254172420853222120059215500479630985172910343542654190319539482399190666385747969411581627673387817840381738836181470327238877552780817367546507684643732740569605863620643089952537044078627376580443617295261792631655950959693327763182684333838650276962457362379596235374769662074993970450178961436231467549654340761325650050898068086987746371907297201064112630053013767787157577236120340022125261043100397018222677238128442743073688981819276127029449\n"
     ]
    }
   ],
   "source": [
    "print(tmp)"
   ]
  },
  {
   "cell_type": "markdown",
   "metadata": {},
   "source": [
    "That means we can run any computation on integers in python, no matter how large the two integers are. That comes as a cost of performance. \n",
    "\n",
    "In computing, one calls \"word\" to the natural unit of data used by a particular processor design. That is, the maximum bitsize chunk that a processor can handle at once. We can calculate this in python for our machine"
   ]
  },
  {
   "cell_type": "code",
   "execution_count": 12,
   "metadata": {},
   "outputs": [
    {
     "name": "stdout",
     "output_type": "stream",
     "text": [
      "The maximum word size in integer:\n",
      "9223372036854775807\n",
      "\n",
      "The binary representation of maximum word size:\n",
      "0b111111111111111111111111111111111111111111111111111111111111111\n",
      "\n",
      "The lenght of the bit array (discarding trailing 0b):\n",
      "63\n"
     ]
    }
   ],
   "source": [
    "import sys\n",
    "\n",
    "print(f\"The maximum word size in integer:\\n{sys.maxsize}\\n\")\n",
    "print(f\"The binary representation of maximum word size:\\n{bin(sys.maxsize)}\\n\")\n",
    "bit_len = len(bin(sys.maxsize).split(\"b\")[1])\n",
    "print(f\"The lenght of the bit array (discarding trailing 0b):\\n{bit_len}\")"
   ]
  },
  {
   "cell_type": "markdown",
   "metadata": {},
   "source": [
    "Other representations like octal (base 8) or hexadecimal (base 16) are useful to describe integers, let's see some examples:"
   ]
  },
  {
   "cell_type": "code",
   "execution_count": 13,
   "metadata": {},
   "outputs": [
    {
     "name": "stdout",
     "output_type": "stream",
     "text": [
      "The maximum word size in integer:\n",
      "9223372036854775807, type=<class 'int'>\n",
      "\n",
      "In Binary (base 2):\n",
      "\t0b111111111111111111111111111111111111111111111111111111111111111\n",
      "\t<class 'str'>\n",
      "\n",
      "In Octal (base 8):\n",
      "\t0o777777777777777777777\n",
      "\t<class 'str'>\n",
      "\n",
      "In Hexadecimal (base 16):\n",
      "\t0x7fffffffffffffff\n",
      "\t<class 'str'>\n",
      "\n",
      "\n",
      "Recovering from Binary:\n",
      "\t9223372036854775807\n",
      "\n",
      "Recovering from Octal:\n",
      "\t9223372036854775807\n",
      "\n",
      "Recovering from Hexadecimal:\n",
      "\t9223372036854775807\n",
      "\n"
     ]
    }
   ],
   "source": [
    "print(f\"The maximum word size in integer:\\n{sys.maxsize}, type={type(sys.maxsize)}\\n\")\n",
    "\n",
    "binary = bin(sys.maxsize)\n",
    "octal = oct(sys.maxsize)\n",
    "hexadecimal = hex(sys.maxsize)\n",
    "\n",
    "print(f\"In Binary (base 2):\\n\\t{binary}\")\n",
    "print(f\"\\t{type(binary)}\\n\")\n",
    "print(f\"In Octal (base 8):\\n\\t{octal}\")\n",
    "print(f\"\\t{type(octal)}\\n\")\n",
    "print(f\"In Hexadecimal (base 16):\\n\\t{hexadecimal}\")\n",
    "print(f\"\\t{type(hexadecimal)}\\n\\n\")\n",
    "\n",
    "print(f\"Recovering from Binary:\\n\\t{int(binary, 2)}\\n\")\n",
    "print(f\"Recovering from Octal:\\n\\t{int(octal, 8)}\\n\")\n",
    "print(f\"Recovering from Hexadecimal:\\n\\t{int(hexadecimal, 16)}\\n\")"
   ]
  },
  {
   "cell_type": "markdown",
   "metadata": {},
   "source": [
    "Do not forget that the trailing '0b', '0o', '0x' indicate that the string is in binary, octal or hexadecimal, respectively. Recall that the types are strings so to get the real number just delete this trailing data using split:"
   ]
  },
  {
   "cell_type": "code",
   "execution_count": 7,
   "metadata": {},
   "outputs": [
    {
     "name": "stdout",
     "output_type": "stream",
     "text": [
      "In Binary (base 2) without trailing '0b':\n",
      "\t111111111111111111111111111111111111111111111111111111111111111\n",
      "\n",
      "In Octal (base 8) without trailing '0o':\n",
      "\t777777777777777777777\n",
      "\n",
      "In Hexadecimal (base 16) without trailing '0x':\n",
      "\t7fffffffffffffff\n"
     ]
    }
   ],
   "source": [
    "bin_ = bin(sys.maxsize).split(\"b\")[1]\n",
    "oct_ = oct(sys.maxsize).split(\"o\")[1]\n",
    "hex_ = hex(sys.maxsize).split(\"x\")[1]\n",
    "\n",
    "print(f\"In Binary (base 2) without trailing '0b':\\n\\t{bin_}\\n\")\n",
    "print(f\"In Octal (base 8) without trailing '0o':\\n\\t{oct_}\\n\")\n",
    "print(f\"In Hexadecimal (base 16) without trailing '0x':\\n\\t{hex_}\")"
   ]
  },
  {
   "cell_type": "markdown",
   "metadata": {},
   "source": [
    "[Here](https://www.rapidtables.com/convert/number/hex-dec-bin-converter.html) is a good webpage to convert among decimal, hexadecimal, octal and binary. In python we can still work in types from C, for instance numpy implements float32, int64 and more types.\n",
    "\n",
    "## Floating point representation\n",
    "\n",
    "Computers only deal with arrays of bits i.e. integers, so how can we make a representation of a real number in a computer? We can use [floating point representation](https://en.wikipedia.org/wiki/Single-precision_floating-point_format), [here](https://www.h-schmidt.net/FloatConverter/IEEE754.html)'s a good online calculator for the IEEE-754 standard.\n",
    "\n",
    "Basically a floating point is an array of 32 bits in which the first bit indicates the sign of the number, the 8 following bits are related to the exponent and the final 23 bits are the fraction. If the binary is represented as \n",
    "\n",
    "$$x_{2}=(b_0, b_1, ..., b_{31})$$\n",
    "\n",
    "then its decimal representation is\n",
    "\n",
    "$$x_{10}=(-1)^{b_0} \\cdot 2^{e-127}\\cdot (1+\\sum_{i=9}^{31}b_{i} 2^{-(i-8)})$$\n",
    "\n",
    "And $e$ is calculated as \n",
    "\n",
    "$$e = \\sum_{i=8}^{1} b_i2^{8-i} = b_8 2^0+ b_7 2^1+...+b_1 2^7$$\n",
    "\n",
    "recall that we are transversing in a reverse order from position 8 to position 1 when calculating $e$. Bits from 1 to 9 (both included) represent the exponent and bytes from 9 to 32 the mantissa. The sign is the first bit of the bitarray. For instance:"
   ]
  },
  {
   "cell_type": "code",
   "execution_count": 14,
   "metadata": {},
   "outputs": [
    {
     "name": "stdout",
     "output_type": "stream",
     "text": [
      "float:\n",
      "\t0b000111101110011111100110011001101\n",
      "sign:\n",
      "\t0\n",
      "exponent:\n",
      "\t00111101\n",
      "mantissa:\n",
      "\t110011111100110011001101\n"
     ]
    }
   ],
   "source": [
    "sign = '0'\n",
    "exponent = '00111101'\n",
    "mantissa = '110011111100110011001101'\n",
    "\n",
    "b = '0b' + sign + exponent + mantissa\n",
    "\n",
    "print(f\"float:\\n\\t{b}\")\n",
    "print(f\"sign:\\n\\t{sign}\")\n",
    "print(f\"exponent:\\n\\t{exponent}\")\n",
    "print(f\"mantissa:\\n\\t{mantissa}\")"
   ]
  },
  {
   "cell_type": "markdown",
   "metadata": {},
   "source": [
    "Let's code the function that can make the conversion from binary to float"
   ]
  },
  {
   "cell_type": "code",
   "execution_count": 15,
   "metadata": {},
   "outputs": [],
   "source": [
    "def bin_to_float(b: str):\n",
    "    #  IEEE 754 single-precision representation\n",
    "    \n",
    "    b_ = b.split('b')[1]\n",
    "    assert len(b_)==32, \"This binary does not represent a float\"\n",
    "    \n",
    "    sign = pow(-1, int(b_[0]))\n",
    "    \n",
    "    # calculating integer part\n",
    "    e = 0\n",
    "    for i, bit in enumerate(b_[1:9][::-1]):\n",
    "        e+=int(bit)*2**(i)\n",
    "    int_part = 2**(e-127)\n",
    "\n",
    "    # calculating fraction part\n",
    "    float_part = 1.0\n",
    "    for i, bit in enumerate(b_[9:]):\n",
    "        float_part+=float(bit)*2**(-(i+1))\n",
    "    \n",
    "    return sign*(float(int_part)*float_part)"
   ]
  },
  {
   "cell_type": "markdown",
   "metadata": {},
   "source": [
    "To test it we gererate a random binary array of size 32 bits."
   ]
  },
  {
   "cell_type": "code",
   "execution_count": 16,
   "metadata": {},
   "outputs": [],
   "source": [
    "from random import randrange, seed\n",
    "def random_bin(bits=32):\n",
    "    x = randrange(2**(bits-1), 2**(bits))\n",
    "    return bin(x)"
   ]
  },
  {
   "cell_type": "code",
   "execution_count": 21,
   "metadata": {},
   "outputs": [
    {
     "name": "stdout",
     "output_type": "stream",
     "text": [
      "Randomly generated binary array of 32 bits:\n",
      "0b10001000010101110111111010110001\n"
     ]
    }
   ],
   "source": [
    "seed(10)\n",
    "\n",
    "bits = 32\n",
    "x = random_bin(bits)\n",
    "print(f\"Randomly generated binary array of {bits} bits:\\n{x}\")"
   ]
  },
  {
   "cell_type": "code",
   "execution_count": 22,
   "metadata": {},
   "outputs": [
    {
     "name": "stdout",
     "output_type": "stream",
     "text": [
      "-6.484813410160331e-34\n"
     ]
    }
   ],
   "source": [
    "print(bin_to_float(x))"
   ]
  },
  {
   "cell_type": "markdown",
   "metadata": {},
   "source": [
    "For the max value of floating point we turn all bits on but the last of the exponent. For the min value it's the same but turning the first bit to 1 (the sign bit)"
   ]
  },
  {
   "cell_type": "code",
   "execution_count": 31,
   "metadata": {},
   "outputs": [
    {
     "name": "stdout",
     "output_type": "stream",
     "text": [
      "max value of floating point:\n",
      "\t0b01111111011111111111111111111111\n",
      "\t3.4028234663852886e+38\n",
      "\n",
      "min value of floating point:\n",
      "\t0b11111111011111111111111111111111\n",
      "\t-3.4028234663852886e+38\n"
     ]
    }
   ],
   "source": [
    "max_bin = '0b01111111011111111111111111111111'\n",
    "print(f\"max value of floating point:\\n\\t{max_bin}\\n\\t{bin_to_float(max_bin)}\")\n",
    "min_bin = '0b11111111011111111111111111111111'\n",
    "print(f\"\\nmin value of floating point:\\n\\t{min_bin}\\n\\t{bin_to_float(min_bin)}\")"
   ]
  },
  {
   "cell_type": "markdown",
   "metadata": {},
   "source": [
    "And the minimum in absolute value is all zeroes but the last bit in the mantissa"
   ]
  },
  {
   "cell_type": "code",
   "execution_count": 29,
   "metadata": {},
   "outputs": [
    {
     "name": "stdout",
     "output_type": "stream",
     "text": [
      "min in absolute value of floating point:\n",
      "\t0b00000000000000000000000000000001\n",
      "\t5.87747245476067e-39\n"
     ]
    }
   ],
   "source": [
    "min_abs_val = '0b00000000000000000000000000000001'\n",
    "print(f\"min in absolute value of floating point:\\n\\t{min_abs_val}\\n\\t{bin_to_float(min_abs_val)}\")"
   ]
  },
  {
   "cell_type": "markdown",
   "metadata": {},
   "source": [
    "In [rosettacode.org](https://rosettacode.org/wiki/Decimal_floating_point_number_to_binary) we find a nicer implementation to go from binary to floating point in python"
   ]
  },
  {
   "cell_type": "code",
   "execution_count": 32,
   "metadata": {},
   "outputs": [],
   "source": [
    "hex2bin = dict('{:x} {:04b}'.format(x,x).split() for x in range(16))\n",
    "bin2hex = dict('{:b} {:x}'.format(x,x).split() for x in range(16))\n",
    " \n",
    "def float_dec2bin(d):\n",
    "    neg = False\n",
    "    if d < 0:\n",
    "        d = -d\n",
    "        neg = True\n",
    "    hx = float(d).hex()\n",
    "    p = hx.index('p')\n",
    "    bn = ''.join(hex2bin.get(char, char) for char in hx[2:p])\n",
    "    return (('-' if neg else '') + bn.strip('0') + hx[p:p+2]\n",
    "            + bin(int(hx[p+2:]))[2:])\n",
    " \n",
    "def float_bin2dec(bn):\n",
    "    neg = False\n",
    "    if bn[0] == '-':\n",
    "        bn = bn[1:]\n",
    "        neg = True\n",
    "    dp = bn.index('.')\n",
    "    extra0 = '0' * (4 - (dp % 4))\n",
    "    bn2 = extra0 + bn\n",
    "    dp = bn2.index('.')\n",
    "    p = bn2.index('p')\n",
    "    hx = ''.join(bin2hex.get(bn2[i:min(i+4, p)].lstrip('0'), bn2[i])\n",
    "                 for i in range(0, dp+1, 4))\n",
    "    bn3 = bn2[dp+1:p]\n",
    "    extra0 = '0' * (4 - (len(bn3) % 4))\n",
    "    bn4 = bn3 + extra0\n",
    "    hx += ''.join(bin2hex.get(bn4[i:i+4].lstrip('0'))\n",
    "                  for i in range(0, len(bn4), 4))\n",
    "    hx = (('-' if neg else '') + '0x' + hx + bn2[p:p+2]\n",
    "          + str(int('0b' + bn2[p+2:], 2)))\n",
    "    return float.fromhex(hx)"
   ]
  },
  {
   "cell_type": "code",
   "execution_count": 33,
   "metadata": {},
   "outputs": [
    {
     "name": "stdout",
     "output_type": "stream",
     "text": [
      "Converting float 23.34375 to binary:\n",
      "\t1.011101011p+100\n",
      "Converting back to float:\n",
      "\t23.34375\n"
     ]
    }
   ],
   "source": [
    "x_float = 23.34375\n",
    "x_bin = float_dec2bin(x_float)\n",
    "\n",
    "print(f\"Converting float {x_float} to binary:\\n\\t{x_bin}\")\n",
    "print(f\"Converting back to float:\\n\\t{float_bin2dec(x_bin)}\")"
   ]
  },
  {
   "cell_type": "markdown",
   "metadata": {},
   "source": [
    "This would be, 10111.01011"
   ]
  },
  {
   "cell_type": "markdown",
   "metadata": {},
   "source": [
    "Again we can represent the floating point in hexadecimal"
   ]
  },
  {
   "cell_type": "code",
   "execution_count": 34,
   "metadata": {},
   "outputs": [
    {
     "name": "stdout",
     "output_type": "stream",
     "text": [
      "0x1.7580000000000p+4\n",
      "23.34375\n"
     ]
    }
   ],
   "source": [
    "print(float(x_float).hex())\n",
    "print(float.fromhex(float(x_float).hex()))"
   ]
  },
  {
   "cell_type": "markdown",
   "metadata": {},
   "source": [
    "Python uses internally a double floating point consisting of a 64 bit array. This is 10 digits for the exponent and 53 for the mantissa (after the comma). See the following output:"
   ]
  },
  {
   "cell_type": "code",
   "execution_count": 35,
   "metadata": {},
   "outputs": [
    {
     "data": {
      "text/plain": [
       "sys.float_info(max=1.7976931348623157e+308, max_exp=1024, max_10_exp=308, min=2.2250738585072014e-308, min_exp=-1021, min_10_exp=-307, dig=15, mant_dig=53, epsilon=2.220446049250313e-16, radix=2, rounds=1)"
      ]
     },
     "execution_count": 35,
     "metadata": {},
     "output_type": "execute_result"
    }
   ],
   "source": [
    "sys.float_info"
   ]
  },
  {
   "cell_type": "markdown",
   "metadata": {},
   "source": [
    "Check the values for max and min in the double type in [this webpage](https://www.tutorialspoint.com/cprogramming/c_data_types.htm). This is usual as the word size is normally 64 bits for  processors of current computers.\n",
    "\n",
    "A drawback from floating point representation is the precision. For some numbers they cannot be represented exactly, for instance for infinitely periodic:\n"
   ]
  },
  {
   "cell_type": "code",
   "execution_count": 36,
   "metadata": {},
   "outputs": [
    {
     "name": "stdout",
     "output_type": "stream",
     "text": [
      "numerator:1, denominator:3\n",
      "\n",
      "Floating representation with 40 digits:\n",
      "\t0.3333333333333333148296162562473909929395\n",
      "\n",
      "Quotient of the exact float represented:\n",
      "\t(6004799503160661, 18014398509481984)\n"
     ]
    }
   ],
   "source": [
    "num, denom = 1, 3\n",
    "\n",
    "print(f\"numerator:{num}, denominator:{denom}\\n\")\n",
    "x = float(num/denom)\n",
    "print(\"Floating representation with 40 digits:\\n\\t{:.40f}\\n\".format(x))\n",
    "num2, denom2 = x.as_integer_ratio()\n",
    "print(\"Quotient of the exact float represented:\\n\\t{}\".format(x.as_integer_ratio()))"
   ]
  },
  {
   "cell_type": "code",
   "execution_count": 37,
   "metadata": {},
   "outputs": [
    {
     "name": "stdout",
     "output_type": "stream",
     "text": [
      "numerator:1, denominator:8\n",
      "Floating representation with 40 digits:\n",
      "\t0.125000000000000000000000000000\n",
      "Representation as quotient:\n",
      "\t(1, 8)\n"
     ]
    }
   ],
   "source": [
    "num, denom = 1, 8\n",
    "\n",
    "print(f\"numerator:{num}, denominator:{denom}\")\n",
    "x = float(num/denom)\n",
    "print(\"Floating representation with 40 digits:\\n\\t{:.30f}\".format(x))\n",
    "print(\"Representation as quotient:\\n\\t{}\".format(x.as_integer_ratio()))"
   ]
  },
  {
   "cell_type": "markdown",
   "metadata": {},
   "source": [
    "We see that 1/3 can be approximated but with some errors and that 1/8 seems to be well reconstructed. How is so? 1/3 can never be fully reconstructed with powers of 2. Let's see it:"
   ]
  },
  {
   "cell_type": "code",
   "execution_count": 38,
   "metadata": {},
   "outputs": [
    {
     "name": "stdout",
     "output_type": "stream",
     "text": [
      "index 1, current_step=0.25, value=0.25\n",
      "index 3, current_step=0.0625, value=0.3125\n",
      "index 5, current_step=0.015625, value=0.328125\n",
      "index 7, current_step=0.00390625, value=0.33203125\n",
      "index 9, current_step=0.0009765625, value=0.3330078125\n",
      "index 11, current_step=0.000244140625, value=0.333251953125\n",
      "index 13, current_step=6.103515625e-05, value=0.33331298828125\n",
      "index 15, current_step=1.52587890625e-05, value=0.3333282470703125\n",
      "index 17, current_step=3.814697265625e-06, value=0.3333320617675781\n",
      "index 19, current_step=9.5367431640625e-07, value=0.33333301544189453\n",
      "index 21, current_step=2.384185791015625e-07, value=0.33333325386047363\n",
      "index 23, current_step=5.960464477539063e-08, value=0.3333333134651184\n",
      "index 25, current_step=1.4901161193847656e-08, value=0.3333333283662796\n",
      "index 27, current_step=3.725290298461914e-09, value=0.3333333320915699\n",
      "index 29, current_step=9.313225746154785e-10, value=0.3333333330228925\n"
     ]
    }
   ],
   "source": [
    "rec = 0\n",
    "for i in range(1, 30, 2):\n",
    "    stp = 2**(-(i+1))\n",
    "    rec+=stp\n",
    "    print(f\"index {i}, current_step={stp}, value={rec}\")"
   ]
  },
  {
   "cell_type": "markdown",
   "metadata": {},
   "source": [
    "We will never be able to represent 0.3 periodic obviously due to memory constraints. We cannot add inifinite 3 after the comma. Also we are trying to express 1/3 in base 2 and that is impossible mathematically. Conversely if we wanted to represent 1/2 in binary, would be easy, the digits of the exponent are '01111110'.\n",
    "\n",
    "We also get an error when trying to represent decimal 1/10 to binary (go to [this webpage](https://www.h-schmidt.net/FloatConverter/IEEE754.html) and try it)."
   ]
  },
  {
   "cell_type": "code",
   "execution_count": 20,
   "metadata": {},
   "outputs": [
    {
     "data": {
      "text/plain": [
       "0.10000000149011612"
      ]
     },
     "execution_count": 20,
     "metadata": {},
     "output_type": "execute_result"
    }
   ],
   "source": [
    "sign = '0b0'\n",
    "exponent = '01111011'\n",
    "mantissa = '10011001100110011001101'\n",
    "\n",
    "b = sign + exponent + mantissa #sign, exponent, mantissa\n",
    "bin_to_float(b)"
   ]
  },
  {
   "cell_type": "code",
   "execution_count": 21,
   "metadata": {},
   "outputs": [
    {
     "name": "stdout",
     "output_type": "stream",
     "text": [
      "Decoded exponent: 0.0625\n",
      "Decoded mantissa part: 1.600000023841858\n",
      "Final float: 0.10000000149011612\n"
     ]
    }
   ],
   "source": [
    "e = 0\n",
    "for i, bit in enumerate(exponent[::-1]):\n",
    "    e+=int(bit)*2**(i)\n",
    "    \n",
    "int_part = 2**(e-127)\n",
    "print(f\"Decoded exponent: {int_part}\")\n",
    "\n",
    "# calculating fraction part\n",
    "float_part = 1.0\n",
    "for i, bit in enumerate(mantissa):\n",
    "    float_part+=float(bit)*2**(-(i+1))\n",
    "\n",
    "print(f\"Decoded mantissa part: {float_part}\")\n",
    "\n",
    "print(f\"Final float: {float(int_part)*float_part}\")"
   ]
  },
  {
   "cell_type": "markdown",
   "metadata": {},
   "source": [
    "This is expected, as we said, there is no way to express 1/10 in sums of powers of two. This induces an error on our calculation of course (called rounding error). We will see that if we work with integers we won't have this error. Precision error is sometimes significant, so if your aplication is running on very small numbers for instance, you may want to use double precision (the default in python) in your C program.\n",
    "\n",
    "Finally python has a package to see the actual representation of a float to the machine (check again on [this](https://www.h-schmidt.net/FloatConverter/IEEE754.html) webpage to see the actual float calculated)"
   ]
  },
  {
   "cell_type": "code",
   "execution_count": 44,
   "metadata": {},
   "outputs": [
    {
     "name": "stdout",
     "output_type": "stream",
     "text": [
      "0.1000000000000000055511151231257827021181583404541015625\n",
      "0.1000000000000000055511151231257827021181583404541015625\n",
      "0.10000000000000000555111512312578270211815834045410156250000000000\n"
     ]
    }
   ],
   "source": [
    "from decimal import Decimal\n",
    "\n",
    "print(f\"{Decimal.from_float(0.1)}\")\n",
    "print(\"{:.55f}\".format(3602879701896397 / 2 ** 55)) #printing with 55 decimals\n",
    "print(\"{:.65f}\".format(3602879701896397 / 2 ** 55)) #printing with 65 decimals"
   ]
  },
  {
   "cell_type": "markdown",
   "metadata": {},
   "source": [
    "see that the python representation is a floating point of size 64 bits.\n",
    "\n",
    "## Fixed point representation\n",
    "\n",
    "Instead of representing real numbers with floating points we can treat them as integers using fixed point representation. The drawback of this representation is that with the same ammount of bits we can repressent less numbers and therefore more prone to overlfow but on the other side we have no rounding errors.\n",
    "\n",
    "Let's describe the fixed point representation, further details can be found in [this](https://doi.org/10.1007/978-3-642-14577-3_6) article by O. Catrina and A. Saxena from Mannheim university in Germany. Given a binary array of e+f bits\n",
    "\n",
    "$$x_{2}=(b_{e-1},...b_0.b_{-1}, ..., b_{-f})$$\n",
    "\n",
    "the value in base 10 is:\n",
    "\n",
    "$$x=(-1)^{b_{e-1}}\\times \\sum_{i=-f}^{e-1}d_i 2^i$$\n",
    "\n",
    "and $e$ is the precision of the intger part (including the sign bit) and $f$ is the precision of the fracitonal part. Equilvalently we can write\n",
    "\n",
    "$$\\hat{x} = (-1)^{b_{e-1}}\\times \\sum_{i=0}^{e+f-1}d_i 2^i$$ this is the encoded value, to get back the decoded (float point) we muliply by $2^{-f}$ \n",
    "\n",
    "$$x = \\hat{x}\\times 2^{-f}$$\n",
    "\n",
    "In this paper they use the scaling factor the fractional precision $f$. However, we want to make sure that a large integer can be also described and therefore or final precision will be the sum of the integer precision and the fractional precision. Let's see an example of minimum and maximum values that can be described in our new way:"
   ]
  },
  {
   "cell_type": "code",
   "execution_count": 23,
   "metadata": {},
   "outputs": [
    {
     "name": "stdout",
     "output_type": "stream",
     "text": [
      "base: 2\n",
      "precision_integral: 6\n",
      "precision_fractional: 7\n",
      "precision: 13\n",
      "\n",
      "Minimum value representable -31.9921875, to fixed -4095\n",
      "Maximum value representable 31.9921875, to fixed 4095\n",
      "From minn value to max value in steps of 0.0078125\n",
      "\n",
      "Printing some exact values that can be represented:\n",
      "\ti=0, val=-31.9921875\n",
      "\ti=1, val=-31.984375\n",
      "\ti=2, val=-31.9765625\n",
      "\ti=3, val=-31.96875\n",
      "\ti=4, val=-31.9609375\n"
     ]
    }
   ],
   "source": [
    "base = 2\n",
    "\n",
    "precision_integral = 6\n",
    "precision_fractional = 7\n",
    "precision = precision_integral + precision_fractional\n",
    "\n",
    "min_val = -base**(precision_integral-1) + base**(-precision_fractional)\n",
    "max_val = base**(precision_integral-1) - base**(-precision_fractional)\n",
    "\n",
    "min_val_p = -base**(precision-1)+1\n",
    "max_val_p = base**(precision-1)-1\n",
    "\n",
    "print(f\"base: {base}\")\n",
    "print(f\"precision_integral: {precision_integral}\")\n",
    "print(f\"precision_fractional: {precision_fractional}\")\n",
    "print(f\"precision: {precision}\\n\")\n",
    "\n",
    "print(f\"Minimum value representable {min_val}, to fixed {min_val_p}\")\n",
    "print(f\"Maximum value representable {max_val}, to fixed {max_val_p}\")\n",
    "step = base**(-precision_fractional)\n",
    "print(f\"From minn value to max value in steps of {step}\\n\")\n",
    "\n",
    "print(f\"Printing some exact values that can be represented:\")\n",
    "for i in range(5):\n",
    "    print(f\"\\ti={i}, val={min_val+i*step}\")"
   ]
  },
  {
   "cell_type": "markdown",
   "metadata": {},
   "source": [
    "So the minimum value that can be described is $-2^{6}=-64$ plus the precision on the fraction, in this case $0.0078125$. Equivalently, the max value is $64$ minus the precision on the fraction. The fraction numbers that can be perfectly described in fixed point range from the min value to the max value at steps of $base^{-precisionfractional}$. Let's do the same with base 10."
   ]
  },
  {
   "cell_type": "code",
   "execution_count": 24,
   "metadata": {},
   "outputs": [
    {
     "name": "stdout",
     "output_type": "stream",
     "text": [
      "base: 10\n",
      "precision_integral: 2\n",
      "precision_fractional: 4\n",
      "precision: 6\n",
      "\n",
      "Minimum value representable -9.9999, to fixed -99999\n",
      "Maximum value representable 9.9999, to fixed 99999\n",
      "Range: 100\n",
      "Resolution: 0.0001\n",
      "From minn value to max value in steps of 0.0001\n",
      "\n",
      "Printing some exact values that can be represented:\n",
      "\ti=0, val=-9.9999\n",
      "\ti=1, val=-9.9998\n",
      "\ti=2, val=-9.9997\n",
      "\ti=3, val=-9.999600000000001\n",
      "\ti=4, val=-9.9995\n"
     ]
    }
   ],
   "source": [
    "base = 10\n",
    "\n",
    "precision_integral = 2\n",
    "precision_fractional = 4\n",
    "precision = precision_integral + precision_fractional\n",
    "\n",
    "min_val = -base**(precision_integral-1) + base**(-precision_fractional)\n",
    "max_val = base**(precision_integral-1) - base**(-precision_fractional)\n",
    "\n",
    "min_val_p = -base**(precision-1)+1\n",
    "max_val_p = base**(precision-1)-1\n",
    "\n",
    "print(f\"base: {base}\")\n",
    "print(f\"precision_integral: {precision_integral}\")\n",
    "print(f\"precision_fractional: {precision_fractional}\")\n",
    "print(f\"precision: {precision}\\n\")\n",
    "\n",
    "print(f\"Minimum value representable {min_val}, to fixed {min_val_p}\")\n",
    "print(f\"Maximum value representable {max_val}, to fixed {max_val_p}\")\n",
    "print(f\"Range: {base**precision_integral}\")\n",
    "print(f\"Resolution: {base**(-precision_fractional)}\")\n",
    "\n",
    "step = base**(-precision_fractional)\n",
    "print(f\"From minn value to max value in steps of {step}\\n\")\n",
    "\n",
    "print(f\"Printing some exact values that can be represented:\")\n",
    "for i in range(5):\n",
    "    print(f\"\\ti={i}, val={min_val+i*step}\")"
   ]
  },
  {
   "cell_type": "markdown",
   "metadata": {},
   "source": [
    "Now that we know how are the values mapped we just have to define the encoding and decoding functions. We will take a simplification, we will not take into account the precision_integral and just the precision_fractional, this is, will apply a factor $base^{precision_fractional}$ to the floating point number to scale it up."
   ]
  },
  {
   "cell_type": "code",
   "execution_count": 25,
   "metadata": {},
   "outputs": [],
   "source": [
    "def to_fixed_point(r: float, base: int, precision_fractional: int):\n",
    "    return int(r*base**precision_fractional)\n",
    "\n",
    "def to_float_point(e: int, base: int, precision_fractional: int):\n",
    "    return e/(base**precision_fractional)"
   ]
  },
  {
   "cell_type": "code",
   "execution_count": 26,
   "metadata": {},
   "outputs": [
    {
     "name": "stdout",
     "output_type": "stream",
     "text": [
      "base: 10\n",
      "precision_fractional: 4\n",
      "\n",
      "rational number:\n",
      "\t123456789.123456\n",
      "encoded number:\n",
      "\t1234567891234\n",
      "decoded back number:\n",
      "\t123456789.1234\n"
     ]
    }
   ],
   "source": [
    "base = 10\n",
    "precision_fractional = 4\n",
    "\n",
    "r = 123456789.123456\n",
    "e = to_fixed_point(r, base, precision_fractional)\n",
    "d = to_float_point(e, base, precision_fractional)\n",
    "\n",
    "print(f\"base: {base}\")\n",
    "print(f\"precision_fractional: {precision_fractional}\\n\")\n",
    "print(f\"rational number:\\n\\t{r}\")\n",
    "print(f\"encoded number:\\n\\t{e}\")\n",
    "print(f\"decoded back number:\\n\\t{d}\")"
   ]
  },
  {
   "cell_type": "code",
   "execution_count": null,
   "metadata": {},
   "outputs": [],
   "source": []
  }
 ],
 "metadata": {
  "kernelspec": {
   "display_name": "Python 3",
   "language": "python",
   "name": "python3"
  },
  "language_info": {
   "codemirror_mode": {
    "name": "ipython",
    "version": 3
   },
   "file_extension": ".py",
   "mimetype": "text/x-python",
   "name": "python",
   "nbconvert_exporter": "python",
   "pygments_lexer": "ipython3",
   "version": "3.7.5"
  }
 },
 "nbformat": 4,
 "nbformat_minor": 4
}
