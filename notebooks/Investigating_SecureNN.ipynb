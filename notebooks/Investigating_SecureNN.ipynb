{
 "cells": [
  {
   "cell_type": "markdown",
   "metadata": {},
   "source": [
    "# SecureNN\n",
    "\n",
    "This notebook is just for exploration of the paper"
   ]
  },
  {
   "cell_type": "code",
   "execution_count": 1,
   "metadata": {},
   "outputs": [
    {
     "name": "stdout",
     "output_type": "stream",
     "text": [
      "Paper works in modulo 2**64 and 2**64-1\n",
      "2**64:\n",
      "\tdec=18446744073709551616\n",
      "\tbin=0b10000000000000000000000000000000000000000000000000000000000000000\n",
      "2**64-1:\n",
      "\tdec=18446744073709551615\n",
      "\tbin=0b1111111111111111111111111111111111111111111111111111111111111111\n"
     ]
    }
   ],
   "source": [
    "bits = 64\n",
    "m = 2**bits\n",
    "p1 = m-1\n",
    "\n",
    "print(f\"Paper works in modulo 2**64 and 2**64-1\")\n",
    "print(f\"2**64:\\n\\tdec={m}\\n\\tbin={bin(m)}\")\n",
    "print(f\"2**64-1:\\n\\tdec={p1}\\n\\tbin={bin(p1)}\")"
   ]
  },
  {
   "cell_type": "markdown",
   "metadata": {},
   "source": [
    "Let's now write a function that converts an integer into a 64 bit variable. This may be a little bit tricky because python does not allow to add padding zeroes by default when converting to binary and we want to have an exact representation of the integer in 64 bit."
   ]
  },
  {
   "cell_type": "code",
   "execution_count": 2,
   "metadata": {},
   "outputs": [],
   "source": [
    "def to_bin64(x: int) -> str:\n",
    "    # Return x into 64 bit (8 byte)\n",
    "    assert x<2**64, f\"{x} has to be smaller than {2**64} and therefore cannot be represented as int64\"\n",
    "    \n",
    "    b = bin(x)\n",
    "    l = len(b)\n",
    "    if l==66:\n",
    "        return b\n",
    "    else:\n",
    "        n = 66-l\n",
    "        return '0b' + '0'*n + b.split(\"b\")[1]"
   ]
  },
  {
   "cell_type": "markdown",
   "metadata": {},
   "source": [
    "The least significant bit is the last bit, that determines if the number is odd, on the contrary the most significant bit is the first representation bit, in our case is the bit (in our case the $2^{63}$ power)"
   ]
  },
  {
   "cell_type": "code",
   "execution_count": 3,
   "metadata": {},
   "outputs": [],
   "source": [
    "def LSB(x: int) -> bool:\n",
    "    # computes least significant digit of an integer\n",
    "    # the first bit\n",
    "    return x%2\n",
    "\n",
    "\n",
    "def MSB(x: int) -> bool:\n",
    "    assert x>0, \"x has to be positive integer\"\n",
    "    b = to_bin64(x)\n",
    "    assert len(b)==66\n",
    "    \n",
    "    return int(b[2])"
   ]
  },
  {
   "cell_type": "markdown",
   "metadata": {},
   "source": [
    "According to the paper, if we are working on an odd ring $p_1=2^{64}-1$ then, MSB(a)=LSB(2a). I won't give a mathematical proof but here you can find a quick test running 500 examples of random values between 0 and $p_1$"
   ]
  },
  {
   "cell_type": "code",
   "execution_count": 4,
   "metadata": {},
   "outputs": [],
   "source": [
    "from random import randrange\n",
    "\n",
    "for i in range(500):\n",
    "    a = randrange(0, p1)\n",
    "    a2 = 2*a%p1\n",
    "    \n",
    "    msb = MSB(a)\n",
    "    lsb = LSB(a2)\n",
    "\n",
    "    assert msb==lsb, \"MSB(a) != LSB(2*a), something went wrong\""
   ]
  },
  {
   "cell_type": "markdown",
   "metadata": {},
   "source": [
    "An important ingredient of the protocol is the function wrap. Basically is a boolean telling us if the sum of two values exeeds the value of the field and therefore \"wraps around\"."
   ]
  },
  {
   "cell_type": "code",
   "execution_count": 5,
   "metadata": {},
   "outputs": [],
   "source": [
    "def add_binary(x, y):\n",
    "    # binary addition modulo 2**(len(x))\n",
    "    # x and y are binary numbers\n",
    "    \n",
    "    x_ = x.split(\"b\")[1]\n",
    "    y_ = y.split(\"b\")[1]\n",
    "    \n",
    "    len_x = len(x_)\n",
    "    len_y = len(y_)\n",
    "    \n",
    "    # both numbers have to be the same ammount of bits\n",
    "    assert len_x == len_y, f\"x is length {len_x} and y is {len_y}, must be the same\"\n",
    "    \n",
    "    result = ''\n",
    "    carry = 0\n",
    "    \n",
    "    for i in range(len_x -1, -1, -1):\n",
    "        r = carry\n",
    "        r += 1 if x_[i] == '1' else 0\n",
    "        r += 1 if y_[i] == '1' else 0\n",
    "        result = ('1' if r % 2 == 1 else '0') + result \n",
    "        carry = 0 if r < 2 else 1\n",
    "\n",
    "    # If we carry 1 we have to add 1 at the beginning of the string\n",
    "    # this is, we are wrapping around the size\n",
    "    #if carry != 0:\n",
    "    #    return '0b'+ '1'+result\n",
    "    \n",
    "    # we don't want wrap arround but modulo 2**(len(x)) so we don't add \n",
    "    # the padding 1 in any case\n",
    "    return '0b'+result"
   ]
  },
  {
   "cell_type": "code",
   "execution_count": null,
   "metadata": {},
   "outputs": [],
   "source": []
  },
  {
   "cell_type": "code",
   "execution_count": 6,
   "metadata": {},
   "outputs": [],
   "source": [
    "for _ in range(50):\n",
    "    x = randrange(m)\n",
    "    y = randrange(m)\n",
    "    \n",
    "    res = add_binary(to_bin64(x), to_bin64(y))\n",
    "    assert int(res, 2)==(x+y)%m, f\"something went wrong on the binary sum of {x} and {y}\""
   ]
  },
  {
   "cell_type": "code",
   "execution_count": 7,
   "metadata": {},
   "outputs": [],
   "source": [
    "def wrap(x, y, L):\n",
    "    return x+y>L-1"
   ]
  },
  {
   "cell_type": "code",
   "execution_count": 8,
   "metadata": {},
   "outputs": [
    {
     "data": {
      "text/plain": [
       "5"
      ]
     },
     "execution_count": 8,
     "metadata": {},
     "output_type": "execute_result"
    }
   ],
   "source": [
    "def share(x, L, parties=2):\n",
    "    shares = [randrange(L) for _ in range(parties-1)]\n",
    "    shares.append(x - sum(shares)%L)\n",
    "    return shares\n",
    "\n",
    "\n",
    "def reconstruct(shares, L, parties=2):\n",
    "    return sum(shares)%L\n",
    "\n",
    "s = share(5, 2**64)\n",
    "reconstruct(s, 2**64)"
   ]
  },
  {
   "cell_type": "code",
   "execution_count": 9,
   "metadata": {},
   "outputs": [
    {
     "data": {
      "text/plain": [
       "False"
      ]
     },
     "execution_count": 9,
     "metadata": {},
     "output_type": "execute_result"
    }
   ],
   "source": [
    "wrap(3, 5, 151)"
   ]
  },
  {
   "cell_type": "markdown",
   "metadata": {},
   "source": [
    "We have to write shares of binary numbers modulo a certain field, in the paper is 67.\n",
    "\n",
    "* Convert integer to binary\n",
    "* Share each bit over the field 67 (btw, this is prime number so it's really a field and not a ring anymore)\n"
   ]
  },
  {
   "cell_type": "code",
   "execution_count": 10,
   "metadata": {},
   "outputs": [],
   "source": [
    "from random import randrange\n",
    "\n",
    "def share_binary(x: int, field: int = 67):\n",
    "    x_bin = to_bin64(x)\n",
    "    share_0, share_1 = [], []\n",
    "    for bit in x_bin[2:]:\n",
    "        s0 = randrange(field)\n",
    "        s1 = (int(bit)-s0)%field\n",
    "        \n",
    "        share_0.append(s0)\n",
    "        share_1.append(s1)\n",
    "        \n",
    "    return share_0, share_1"
   ]
  },
  {
   "cell_type": "code",
   "execution_count": 11,
   "metadata": {},
   "outputs": [
    {
     "name": "stdout",
     "output_type": "stream",
     "text": [
      "0b1111111001110011110000011101110010110001010100101100101010100110\n",
      "0b1111111001110011110000011101110010110001010100101100101010100110\n"
     ]
    }
   ],
   "source": [
    "x = randrange(2**64-1)\n",
    "print(to_bin64(x))\n",
    "share_0, share_1 = share_binary(x)\n",
    "\n",
    "reconstruct = []\n",
    "for e0, e1 in zip(share_0, share_1):\n",
    "    reconstruct.append((e0+e1)%67)\n",
    "\n",
    "print('0b'+''.join(str(x) for x in reconstruct))"
   ]
  },
  {
   "cell_type": "code",
   "execution_count": 12,
   "metadata": {},
   "outputs": [
    {
     "name": "stdout",
     "output_type": "stream",
     "text": [
      "0b0000000000000000000000000000000000000000000000000000000000000101\n"
     ]
    }
   ],
   "source": [
    "s = to_bin64(randrange(67))\n",
    "print(s)"
   ]
  }
 ],
 "metadata": {
  "kernelspec": {
   "display_name": "Python 3",
   "language": "python",
   "name": "python3"
  },
  "language_info": {
   "codemirror_mode": {
    "name": "ipython",
    "version": 3
   },
   "file_extension": ".py",
   "mimetype": "text/x-python",
   "name": "python",
   "nbconvert_exporter": "python",
   "pygments_lexer": "ipython3",
   "version": "3.7.5"
  }
 },
 "nbformat": 4,
 "nbformat_minor": 4
}
